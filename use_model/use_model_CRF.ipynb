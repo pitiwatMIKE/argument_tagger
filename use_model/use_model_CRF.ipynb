{
 "cells": [
  {
   "cell_type": "code",
   "execution_count": 9,
   "id": "aab0b841",
   "metadata": {},
   "outputs": [],
   "source": [
    "from pythainlp.tokenize import word_tokenize\n",
    "\n",
    "from pythainlp.tag import pos_tag\n",
    "import sklearn_crfsuite"
   ]
  },
  {
   "cell_type": "code",
   "execution_count": 10,
   "id": "7af854d3",
   "metadata": {},
   "outputs": [],
   "source": [
    "path_model = \"../trained_model/CRF/\"\n",
    "\n",
    "def doc2features(doc, i):\n",
    "    word = doc[i][0]\n",
    "    postag = doc[i][1]\n",
    "    \n",
    "    #test add features\n",
    "    key_claim = [\"ดังนั้น\",\"เพราะฉะนั้น\",\"แสดงว่า\"]\n",
    "    key_premise = [\"เพราะ\", \"เพราะว่า\", \"เนื่องจาก\",\"เพื่อ\",\"เช่น\",\"เหตุผล\",\"คือ\"]\n",
    "    word_claim = word in key_claim\n",
    "    word_premise = word in key_premise\n",
    "    # Features from current word\n",
    "    features={\n",
    "        'word.word': word,\n",
    "        'word.isspace':word.isspace(),\n",
    "        'postag':postag,\n",
    "        'word.isdigit()': word.isdigit(),\n",
    "        'woed.claim':word_claim,\n",
    "        'word.premise':word_premise\n",
    "    }\n",
    "    if i > 0:\n",
    "        prevword = doc[i-1][0]\n",
    "        postag1 = doc[i-1][1]\n",
    "        features['word.prevword'] = prevword\n",
    "        features['word.previsspace']=prevword.isspace()\n",
    "        features['word.prepostag'] = postag1\n",
    "        features['word.prevwordisdigit'] = prevword.isdigit()\n",
    "    else:\n",
    "        features['BOS'] = True # Special \"Beginning of Sequence\" tag\n",
    "    # Features from next word\n",
    "    if i < len(doc)-1:\n",
    "        nextword = doc[i+1][0]\n",
    "        postag1 = doc[i+1][1]\n",
    "        features['word.nextword'] = nextword\n",
    "        features['word.nextisspace']=nextword.isspace()\n",
    "        features['word.nextpostag'] = postag1\n",
    "        features['word.nextwordisdigit'] = nextword.isdigit()\n",
    "    else:\n",
    "        features['EOS'] = True # Special \"End of Sequence\" tag\n",
    "    return features"
   ]
  },
  {
   "cell_type": "code",
   "execution_count": 11,
   "id": "c39ba7a9",
   "metadata": {},
   "outputs": [],
   "source": [
    "def extract_features(doc):\n",
    "    return [doc2features(doc, i) for i in range(len(doc))]\n",
    "\n",
    "def get_labels(doc):\n",
    "    return [tag for (token,postag,tag) in doc]"
   ]
  },
  {
   "cell_type": "code",
   "execution_count": 12,
   "id": "61c31216",
   "metadata": {},
   "outputs": [],
   "source": [
    "def tag_html_format(predict_list, pos=False): # get ist of tuple 1 sentent [(word, pos, tag), .....]\n",
    "    text_result = \"\"\n",
    "    label_start = \"\"\n",
    "    start_tag = False\n",
    "    tag_label = \"\"\n",
    "        \n",
    "    for token in predict_list: # list of tuple\n",
    "        if pos == True:\n",
    "            word = token[0]\n",
    "            tag = token[2]\n",
    "        else:\n",
    "            word = token[0]\n",
    "            tag = token[1]\n",
    "        \n",
    "        if tag == \"O\":\n",
    "            if start_tag == True :\n",
    "                label_end = \"</claim>\" if label_start == \"<claim>\" else \"</premise>\"\n",
    "                text_result += label_end\n",
    "                text_result += word\n",
    "                start_tag = False\n",
    "            else:\n",
    "                text_result += word\n",
    "        else:\n",
    "            if start_tag == False:\n",
    "                tag_label = tag.split(\"-\")[1]  #I-c  = c \n",
    "                label_start = \"<claim>\" if tag_label == \"c\" else \"<premise>\"\n",
    "                text_result += label_start\n",
    "                text_result += word\n",
    "                start_tag = True\n",
    "            else:\n",
    "                if tag_label != tag.split(\"-\")[1]: #กรณีที่tag ต่างกันอยู่ติดกัน\n",
    "                    label_end = \"</claim>\" if label_start == \"<claim>\" else \"</premise>\"\n",
    "                    text_result += label_end\n",
    "                    tag_label = tag.split(\"-\")[1]  #I-c  = c \n",
    "                    label_start = \"<claim>\" if tag_label == \"c\" else \"<premise>\"\n",
    "                    text_result += label_start\n",
    "                    text_result += word\n",
    "                    start_tag = True\n",
    "                else:\n",
    "                    text_result += word\n",
    "     \n",
    "    if start_tag == True:\n",
    "        label_end = \"</claim>\" if label_start == \"<claim>\" else \"</premise>\"\n",
    "        text_result += label_end\n",
    "                \n",
    "    return text_result"
   ]
  },
  {
   "cell_type": "code",
   "execution_count": 13,
   "id": "589524aa",
   "metadata": {},
   "outputs": [],
   "source": [
    "def get_ner(text):\n",
    "    word_cut=word_tokenize(text,engine=\"newmm\")\n",
    "    list_word=pos_tag(word_cut,engine='perceptron')\n",
    "    X_test = extract_features([(data,list_word[i][1]) for i,data in enumerate(word_cut)])\n",
    "    y_=crf.predict_single(X_test)\n",
    "    return [(word_cut[i],list_word[i][1],data) for i,data in enumerate(y_)]"
   ]
  },
  {
   "cell_type": "code",
   "execution_count": 14,
   "id": "d8f3bdd4",
   "metadata": {},
   "outputs": [],
   "source": [
    "def predict_argument(text):\n",
    "    text_preporcess = text.replace(\"\\n\",\" \")\n",
    "    text_preporcess = text_preporcess[:-1] if text_preporcess[-1] == \" \" else text_preporcess\n",
    "    w_ner = get_ner(text_preporcess)\n",
    "    return w_ner"
   ]
  },
  {
   "cell_type": "code",
   "execution_count": 15,
   "id": "1daa4c7c",
   "metadata": {},
   "outputs": [],
   "source": [
    "crf = sklearn_crfsuite.CRF(\n",
    "    algorithm='lbfgs',\n",
    "    c1=0.1,\n",
    "    c2=0.1,\n",
    "    max_iterations=400,\n",
    "    all_possible_transitions=True,\n",
    "    model_filename=path_model+\"model_CRF.model0\" # ตั้งชื่อโมเดล\n",
    ")"
   ]
  },
  {
   "cell_type": "code",
   "execution_count": 16,
   "id": "b4959098",
   "metadata": {},
   "outputs": [
    {
     "name": "stdout",
     "output_type": "stream",
     "text": [
      "predict: \n",
      " [('ทำงาน', 'VACT', 'B-c'), ('ดีกว่า', 'JSBR', 'I-c'), ('เรียน', 'VACT', 'I-c'), (' ', 'PUNC', 'I-c'), ('เพราะ', 'JSBR', 'B-p'), ('ได้', 'XVAE', 'I-p'), ('ผลตอบแทน', 'NCMN', 'I-p'), (' ', 'PUNC', 'I-p'), ('ถ้า', 'JSBR', 'I-p'), ('เรียน', 'VACT', 'I-p'), ('ผล', 'NCMN', 'I-p'), ('แค่', 'VATT', 'I-p'), ('สอบผ่าน', 'VACT', 'I-p'), ('ยังไง', 'NCMN', 'I-p'), ('ก็', 'JSBR', 'I-p'), ('ทำงาน', 'VACT', 'I-p'), ('อยู่ดี', 'ADVN', 'I-p'), ('เมื่อ', 'JSBR', 'I-p'), ('จบ', 'VSTA', 'I-p')]\n",
      "\n",
      "\n",
      "html_tag: \n",
      " <claim>ทำงานดีกว่าเรียน </claim><premise>เพราะได้ผลตอบแทน ถ้าเรียนผลแค่สอบผ่านยังไงก็ทำงานอยู่ดีเมื่อจบ</premise>\n"
     ]
    }
   ],
   "source": [
    "text = \\\n",
    "\"\"\"\\\n",
    "ทำงานดีกว่าเรียน เพราะได้ผลตอบแทน\n",
    "ถ้าเรียนผลแค่สอบผ่านยังไงก็ทำงานอยู่ดีเมื่อจบ\n",
    "\"\"\"\n",
    "\n",
    "\n",
    "list_predict = predict_argument(text)\n",
    "print(\"predict: \\n\",list_predict)\n",
    "print(\"\\n\")\n",
    "print(\"html_tag: \\n\", tag_html_format(list_predict, pos=True))"
   ]
  }
 ],
 "metadata": {
  "kernelspec": {
   "display_name": "Python 3",
   "language": "python",
   "name": "python3"
  },
  "language_info": {
   "codemirror_mode": {
    "name": "ipython",
    "version": 3
   },
   "file_extension": ".py",
   "mimetype": "text/x-python",
   "name": "python",
   "nbconvert_exporter": "python",
   "pygments_lexer": "ipython3",
   "version": "3.8.12"
  }
 },
 "nbformat": 4,
 "nbformat_minor": 5
}
