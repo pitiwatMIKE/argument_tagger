{
 "cells": [
  {
   "cell_type": "code",
   "execution_count": 2,
   "metadata": {},
   "outputs": [],
   "source": [
    "import torch\n",
    "from simpletransformers.ner import NERModel, NERArgs\n",
    "\n",
    "_NER_TAGS = [\"O\", \"B_C\", \"B_P\", \"I_C\", \"I_P\"]\n",
    "ner_args = NERArgs()\n",
    "ner_args.max_seq_length = 512\n",
    "test_ner = NERModel(\"bert\", 'model_seq_512/save_model', args=ner_args, use_cuda=torch.cuda.is_available(), labels=_NER_TAGS)"
   ]
  },
  {
   "cell_type": "code",
   "execution_count": 3,
   "metadata": {},
   "outputs": [],
   "source": [
    "def tag_html_format(pred_list):\n",
    "    LIST_TAGS = ['claim', 'premise', 'o']\n",
    "    REPRESEN_TAGS = ['c', 'p', 'O']\n",
    "    text_convert = ''\n",
    "    prev_tag = ''\n",
    "    trigger_tag = False \n",
    "\n",
    "\n",
    "    for word, label in pred_list:\n",
    "        tags = label.split('-')\n",
    "        next_tag = tags[0] if len(tags) == 1 else tags[1]\n",
    "        \n",
    "        if prev_tag != next_tag:\n",
    "            if prev_tag:\n",
    "                text_convert += '</' + html_tag + '>'\n",
    "\n",
    "            html_tag = LIST_TAGS[REPRESEN_TAGS.index(next_tag)]\n",
    "            prev_tag = next_tag\n",
    "            trigger_tag = not(trigger_tag)\n",
    "\n",
    "            if trigger_tag:\n",
    "                text_convert += '<' + html_tag + '>'\n",
    "            else:\n",
    "                text_convert += '<' + html_tag + '>'\n",
    "\n",
    "        text_convert += word\n",
    "    text_convert += '</'+ LIST_TAGS[REPRESEN_TAGS.index(prev_tag)]+'>'\n",
    "    text_convert = text_convert.replace('<o>', '').replace('</o>', '')\n",
    "            \n",
    "    return text_convert"
   ]
  },
  {
   "cell_type": "code",
   "execution_count": 4,
   "metadata": {},
   "outputs": [],
   "source": [
    "def predict_text(text):\n",
    "    predict_text = []\n",
    "    temp = []\n",
    "    text_token = word_tokenize(text)\n",
    "    text_token = [word if word.strip() != '' else '_' for word in text_token]\n",
    "    predictions, raw_outputs = test_ner.predict([text_token], split_on_space=False)\n",
    "    # convert [{}] to [()] and convert B_C to B-c\n",
    "    for pred_dict in predictions[0]:\n",
    "        for word, label in pred_dict.items():\n",
    "             label = label.capitalize().replace('_', '-')\n",
    "             predict_text.append((word, label))\n",
    "    predict_text = [(word, label) if word != '_' else (' ', label) for word, label in predict_text]\n",
    "    return predict_text, tag_html_format(predict_text)"
   ]
  },
  {
   "cell_type": "code",
   "execution_count": 8,
   "metadata": {},
   "outputs": [
    {
     "name": "stderr",
     "output_type": "stream",
     "text": [
      "100%|██████████| 1/1 [00:07<00:00,  7.77s/it]\n",
      "Running Prediction: 100%|██████████| 1/1 [00:00<00:00,  4.69it/s]"
     ]
    },
    {
     "name": "stdout",
     "output_type": "stream",
     "text": [
      "[('ศาสนาพุทธ', 'B-c'), ('กับ', 'I-c'), ('วิทยาศาสตร์', 'I-c'), ('มีส่วน', 'I-c'), ('ที่', 'I-c'), ('เกี่ยว', 'I-c'), ('กัน', 'I-c'), ('อยู่', 'I-c'), (' ', 'I-c'), ('ทั้ง', 'I-c'), ('ในแง่', 'I-c'), ('ของ', 'I-c'), ('ศาสตร์', 'I-c'), (' ', 'O'), ('และ', 'I-p'), ('กระบวนการ', 'I-p'), (' ', 'O'), ('ศาสนา', 'I-p'), ('กับ', 'I-p'), ('วิทยาศาสตร์', 'I-p'), (' ', 'I-p'), ('ไม่', 'I-p'), ('ได้', 'I-p'), ('ขัดแย้ง', 'I-p'), ('กัน', 'I-p'), (' ', 'I-p'), ('แต่เพียง', 'I-p'), ('อธิบาย', 'I-p'), ('สิ่ง', 'I-p'), ('ต่าง ๆ', 'I-p'), (' ', 'I-p'), ('ออกมา', 'I-p'), ('ไม่', 'I-p'), ('เหมือนกัน', 'I-p'), ('โดย', 'I-p'), ('ผ่าน', 'I-p'), ('มนุษย์', 'I-p'), (' ', 'I-p'), ('มนุษย์', 'I-p'), ('ใช้', 'I-p'), ('ศาสนา', 'I-p'), ('อธิบาย', 'I-p'), ('บางสิ่ง', 'I-p'), ('ที่', 'O'), ('วิทยาศาสตร์', 'I-p'), ('ได้', 'O'), ('อธิบาย', 'I-p'), ('ไว้', 'O'), ('ว่า', 'O'), ('เป็น', 'O'), ('อย่างนั้น', 'O'), ('อย่างนี้', 'O'), (' ', 'O'), ('และ', 'O'), ('มนุษย์', 'O'), ('ก็', 'I-c'), ('ใช้', 'O'), ('วิทยาศาสตร์', 'O'), ('อธิบาย', 'O'), ('สิ่ง', 'O'), ('ที่', 'O'), ('ศาสนา', 'O'), ('ได้', 'O'), ('อธิบาย', 'O'), ('ไว้', 'O'), ('ว่า', 'O'), ('เป็น', 'O'), ('อย่างนั้น', 'O'), ('อย่างนี้', 'O'), (' ', 'O'), ('ซึ่ง', 'O'), ('บางครั้ง', 'O'), ('ก็', 'O'), ('สนับสนุน', 'O'), ('กัน', 'O'), (' ', 'O'), ('และ', 'O'), ('บางครั้ง', 'O'), ('ก็', 'O'), ('อาจจะ', 'O'), ('ขัดแย้ง', 'O'), ('กัน', 'O'), (' ', 'O'), ('(', 'O'), ('ขัดแย้ง', 'O'), ('กัน', 'O'), ('ในที่นี้', 'O'), ('ไม่', 'O'), ('ได้', 'O'), ('หมายถึง', 'O'), ('ศาสนา', 'O'), ('กับ', 'O'), ('วิทยาศาสตร์', 'O'), (' ', 'O'), ('แต่', 'O'), ('ขัดแย้ง', 'O'), ('กัน', 'O'), ('ใน', 'O'), ('มุม', 'O'), ('ของ', 'O'), ('มนุษย์', 'O'), (')', 'O'), (' ', 'O'), ('จน', 'O'), ('บางครั้ง', 'O'), ('ก็', 'O'), ('เกิด', 'O'), ('เป็น', 'O'), ('ลัทธิ', 'O'), ('ประหลาด', 'O'), ('ที่', 'O'), ('นำ', 'O'), ('เอา', 'O'), ('ศาสนา', 'O'), ('กับ', 'O'), ('วิทยาศาสตร์', 'O'), ('มา', 'O'), ('บังหน้า', 'O'), (' ', 'O'), ('ที่', 'O'), ('มัน', 'O'), ('เป็น', 'O'), ('อย่างนี้', 'O'), ('ก็เพราะว่า', 'O'), ('ไม่', 'O'), ('มี', 'O'), ('ความเข้าใจ', 'O'), ('อย่าง', 'O'), ('ถ่องแท้', 'O'), ('เกี่ยวกับ', 'O'), ('ศาสนา', 'O'), ('และ', 'O'), ('วิทยาศาสตร์', 'O'), (' ', 'O'), ('ซึ่ง', 'O'), ('มนุษย์', 'O'), ('ก็', 'O'), ('ต้อง', 'O'), ('หาทาง', 'O'), ('ต่าง ๆ', 'O'), (' ', 'O'), ('ต่อไป', 'O'), (' ', 'O'), ('เพื่อ', 'O'), ('การพัฒนา', 'O'), (' ', 'O'), ('ไม่', 'O'), ('ว่า', 'O'), ('ทาง', 'O'), ('ใด', 'O')]\n",
      "----\n",
      "<claim>ศาสนาพุทธกับวิทยาศาสตร์มีส่วนที่เกี่ยวกันอยู่ ทั้งในแง่ของศาสตร์</claim> <premise>และกระบวนการ</premise> <premise>ศาสนากับวิทยาศาสตร์ ไม่ได้ขัดแย้งกัน แต่เพียงอธิบายสิ่งต่าง ๆ ออกมาไม่เหมือนกันโดยผ่านมนุษย์ มนุษย์ใช้ศาสนาอธิบายบางสิ่ง</premise>ที่<premise>วิทยาศาสตร์</premise>ได้<premise>อธิบาย</premise>ไว้ว่าเป็นอย่างนั้นอย่างนี้ และมนุษย์<claim>ก็</claim>ใช้วิทยาศาสตร์อธิบายสิ่งที่ศาสนาได้อธิบายไว้ว่าเป็นอย่างนั้นอย่างนี้ ซึ่งบางครั้งก็สนับสนุนกัน และบางครั้งก็อาจจะขัดแย้งกัน (ขัดแย้งกันในที่นี้ไม่ได้หมายถึงศาสนากับวิทยาศาสตร์ แต่ขัดแย้งกันในมุมของมนุษย์) จนบางครั้งก็เกิดเป็นลัทธิประหลาดที่นำเอาศาสนากับวิทยาศาสตร์มาบังหน้า ที่มันเป็นอย่างนี้ก็เพราะว่าไม่มีความเข้าใจอย่างถ่องแท้เกี่ยวกับศาสนาและวิทยาศาสตร์ ซึ่งมนุษย์ก็ต้องหาทางต่าง ๆ ต่อไป เพื่อการพัฒนา ไม่ว่าทางใด\n"
     ]
    },
    {
     "name": "stderr",
     "output_type": "stream",
     "text": [
      "\n"
     ]
    }
   ],
   "source": [
    "from pythainlp.tokenize import word_tokenize\n",
    "\n",
    "text = '''ศาสนาพุทธกับวิทยาศาสตร์มีส่วนที่เกี่ยวกันอยู่ ทั้งในแง่ของศาสตร์ และกระบวนการ\n",
    "ศาสนากับวิทยาศาสตร์ ไม่ได้ขัดแย้งกัน แต่เพียงอธิบายสิ่งต่าง ๆ ออกมาไม่เหมือนกันโดยผ่านมนุษย์\n",
    "มนุษย์ใช้ศาสนาอธิบายบางสิ่งที่วิทยาศาสตร์ได้อธิบายไว้ว่าเป็นอย่างนั้นอย่างนี้\n",
    "และมนุษย์ก็ใช้วิทยาศาสตร์อธิบายสิ่งที่ศาสนาได้อธิบายไว้ว่าเป็นอย่างนั้นอย่างนี้\n",
    "ซึ่งบางครั้งก็สนับสนุนกัน และบางครั้งก็อาจจะขัดแย้งกัน (ขัดแย้งกันในที่นี้ไม่ได้หมายถึงศาสนากับวิทยาศาสตร์ แต่ขัดแย้งกันในมุมของมนุษย์)\n",
    "จนบางครั้งก็เกิดเป็นลัทธิประหลาดที่นำเอาศาสนากับวิทยาศาสตร์มาบังหน้า\n",
    "ที่มันเป็นอย่างนี้ก็เพราะว่าไม่มีความเข้าใจอย่างถ่องแท้เกี่ยวกับศาสนาและวิทยาศาสตร์ ซึ่งมนุษย์ก็ต้องหาทางต่าง ๆ ต่อไป เพื่อการพัฒนา ไม่ว่าทางใด'''\n",
    "pred_text, pred_tag = predict_text(text)\n",
    "print(pred_text)\n",
    "print(\"----\")\n",
    "print(pred_tag)"
   ]
  },
  {
   "cell_type": "code",
   "execution_count": 20,
   "metadata": {},
   "outputs": [
    {
     "name": "stdout",
     "output_type": "stream",
     "text": [
      "['การ', 'ใช้', 'ถุง', 'พ', 'ลา', 'สติ', 'ด', 'แทน', 'ถุง', ' ', 'ผ้า', 'ผม', 'คิด', 'ว่า', 'มัน', 'จะ', 'ทำให้', 'ช่วย', 'ลด', 'โลก', 'ร้อน', 'ได้', 'มากขึ้น']\n"
     ]
    }
   ],
   "source": [
    "text = \"การใช้ถุงพลาสติดแทนถุง ผ้าผมคิดว่ามันจะทำให้ช่วยลดโลกร้อนได้มากขึ้น\"\n",
    "text_token = word_tokenize(text)\n",
    "print(text_token)"
   ]
  }
 ],
 "metadata": {
  "interpreter": {
   "hash": "a6dc3a5d5e5e7987cc7d18355d6f408e2f42f41b0aca7d07c9009e9d98d8dd16"
  },
  "kernelspec": {
   "display_name": "Python 3.8.12 ('argument')",
   "language": "python",
   "name": "python3"
  },
  "language_info": {
   "codemirror_mode": {
    "name": "ipython",
    "version": 3
   },
   "file_extension": ".py",
   "mimetype": "text/x-python",
   "name": "python",
   "nbconvert_exporter": "python",
   "pygments_lexer": "ipython3",
   "version": "3.8.12"
  },
  "orig_nbformat": 4
 },
 "nbformat": 4,
 "nbformat_minor": 2
}
