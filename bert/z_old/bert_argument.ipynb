{
 "cells": [
  {
   "cell_type": "code",
   "execution_count": 10,
   "metadata": {},
   "outputs": [],
   "source": [
    "import dill\n",
    "import pandas as pd\n",
    "from sklearn.model_selection import train_test_split"
   ]
  },
  {
   "cell_type": "code",
   "execution_count": 11,
   "metadata": {},
   "outputs": [
    {
     "name": "stdout",
     "output_type": "stream",
     "text": [
      "552\n",
      "138\n",
      "[('ถ้า', 'B-c'), ('เดินทาง', 'I-c'), ('กลางคืน', 'I-c'), ('ก็', 'I-c'), ('รถทัวร์', 'I-c'), ('ครับ', 'I-c'), (' ', 'I-c'), (' ', 'O'), ('เพราะ', 'B-p'), ('รถ', 'I-p'), ('ไม่', 'I-p'), ('เยอะ', 'I-p'), (' ', 'I-p'), ('ความเสี่ยง', 'I-p'), ('การ', 'I-p'), ('เกิด', 'I-p'), ('อุบัติ', 'I-p'), ('ห', 'I-p'), ('ตุ', 'I-p'), ('ก็', 'I-p'), ('น้อย', 'I-p'), ('(', 'I-p'), ('มั้ง', 'I-p'), (')', 'I-p'), (' ', 'I-p'), (' ', 'O'), ('ถ้า', 'B-c'), ('กลางวัน', 'I-c'), ('ก็', 'I-c'), ('เครื่องบิน', 'I-c'), ('ครับ', 'I-c'), (' ', 'I-c'), (' ', 'O'), ('เพราะ', 'B-p'), (' ', 'I-p'), ('มัน', 'I-p'), ('ใช้เวลา', 'I-p'), ('น้อย', 'I-p'), ('จะ', 'I-p'), ('ได้', 'I-p'), ('มี', 'I-p'), ('เวลา', 'I-p'), ('ระหว่าง', 'I-p'), ('วัน', 'I-p'), ('เยอะ', 'I-p'), ('ๆ', 'I-p'), (' ', 'I-p')]\n"
     ]
    }
   ],
   "source": [
    "path_name = \"../dataset/data/\"\n",
    "\n",
    "with open(path_name + 'comment-pos.data', 'rb') as file:\n",
    "    datatofile = dill.load(file)\n",
    "\n",
    "tagged_sents = []\n",
    "for data in datatofile:\n",
    "    text_inside = []\n",
    "    for word, pos, label in data:\n",
    "        text_inside.append((word, label))\n",
    "    tagged_sents.append(text_inside)\n",
    "\n",
    "train_sents, test_sents = train_test_split(tagged_sents, test_size=0.2, random_state=42)\n",
    "print(len(train_sents))\n",
    "print(len(test_sents))\n",
    "print(train_sents[1])"
   ]
  },
  {
   "cell_type": "code",
   "execution_count": 12,
   "metadata": {},
   "outputs": [],
   "source": [
    "_NER_TAGS = [\n",
    "        \"O\",\n",
    "        \"B_C\",\n",
    "        \"B_P\",\n",
    "        \"I_C\",\n",
    "        \"I_P\"\n",
    "    ]"
   ]
  },
  {
   "cell_type": "code",
   "execution_count": 4,
   "metadata": {},
   "outputs": [],
   "source": [
    "def convert_to_simple_transformer_format(sentences):\n",
    "    sentence_id = []\n",
    "    words = []\n",
    "    labels = []\n",
    "\n",
    "    for idx, sents in enumerate(sentences):\n",
    "        for word, label in sents:\n",
    "            label = label.upper().replace(\"-\", \"_\")\n",
    "            sentence_id.append(idx)\n",
    "            words.append(word)\n",
    "            labels.append(label)\n",
    "    return pd.DataFrame(\n",
    "        {\"sentence_id\": sentence_id, \"words\": words, \"labels\": labels}\n",
    "    )    \n",
    "            \n"
   ]
  },
  {
   "cell_type": "code",
   "execution_count": 5,
   "metadata": {},
   "outputs": [
    {
     "data": {
      "text/html": [
       "<div>\n",
       "<style scoped>\n",
       "    .dataframe tbody tr th:only-of-type {\n",
       "        vertical-align: middle;\n",
       "    }\n",
       "\n",
       "    .dataframe tbody tr th {\n",
       "        vertical-align: top;\n",
       "    }\n",
       "\n",
       "    .dataframe thead th {\n",
       "        text-align: right;\n",
       "    }\n",
       "</style>\n",
       "<table border=\"1\" class=\"dataframe\">\n",
       "  <thead>\n",
       "    <tr style=\"text-align: right;\">\n",
       "      <th></th>\n",
       "      <th>sentence_id</th>\n",
       "      <th>words</th>\n",
       "      <th>labels</th>\n",
       "    </tr>\n",
       "  </thead>\n",
       "  <tbody>\n",
       "    <tr>\n",
       "      <th>0</th>\n",
       "      <td>0</td>\n",
       "      <td>อะไหล่</td>\n",
       "      <td>B_C</td>\n",
       "    </tr>\n",
       "    <tr>\n",
       "      <th>1</th>\n",
       "      <td>0</td>\n",
       "      <td>เทอร์โบ</td>\n",
       "      <td>I_C</td>\n",
       "    </tr>\n",
       "    <tr>\n",
       "      <th>2</th>\n",
       "      <td>0</td>\n",
       "      <td></td>\n",
       "      <td>I_C</td>\n",
       "    </tr>\n",
       "    <tr>\n",
       "      <th>3</th>\n",
       "      <td>0</td>\n",
       "      <td>อี</td>\n",
       "      <td>I_C</td>\n",
       "    </tr>\n",
       "    <tr>\n",
       "      <th>4</th>\n",
       "      <td>0</td>\n",
       "      <td>ซุ</td>\n",
       "      <td>I_C</td>\n",
       "    </tr>\n",
       "    <tr>\n",
       "      <th>...</th>\n",
       "      <td>...</td>\n",
       "      <td>...</td>\n",
       "      <td>...</td>\n",
       "    </tr>\n",
       "    <tr>\n",
       "      <th>37405</th>\n",
       "      <td>551</td>\n",
       "      <td>ทำ</td>\n",
       "      <td>I_P</td>\n",
       "    </tr>\n",
       "    <tr>\n",
       "      <th>37406</th>\n",
       "      <td>551</td>\n",
       "      <td>อะไร</td>\n",
       "      <td>I_P</td>\n",
       "    </tr>\n",
       "    <tr>\n",
       "      <th>37407</th>\n",
       "      <td>551</td>\n",
       "      <td>ได้</td>\n",
       "      <td>I_P</td>\n",
       "    </tr>\n",
       "    <tr>\n",
       "      <th>37408</th>\n",
       "      <td>551</td>\n",
       "      <td>หลายอย่าง</td>\n",
       "      <td>I_P</td>\n",
       "    </tr>\n",
       "    <tr>\n",
       "      <th>37409</th>\n",
       "      <td>551</td>\n",
       "      <td></td>\n",
       "      <td>I_P</td>\n",
       "    </tr>\n",
       "  </tbody>\n",
       "</table>\n",
       "<p>37410 rows × 3 columns</p>\n",
       "</div>"
      ],
      "text/plain": [
       "       sentence_id      words labels\n",
       "0                0     อะไหล่    B_C\n",
       "1                0    เทอร์โบ    I_C\n",
       "2                0               I_C\n",
       "3                0         อี    I_C\n",
       "4                0         ซุ    I_C\n",
       "...            ...        ...    ...\n",
       "37405          551         ทำ    I_P\n",
       "37406          551       อะไร    I_P\n",
       "37407          551        ได้    I_P\n",
       "37408          551  หลายอย่าง    I_P\n",
       "37409          551               I_P\n",
       "\n",
       "[37410 rows x 3 columns]"
      ]
     },
     "execution_count": 5,
     "metadata": {},
     "output_type": "execute_result"
    }
   ],
   "source": [
    "train_ = convert_to_simple_transformer_format(train_sents)\n",
    "train_"
   ]
  },
  {
   "cell_type": "code",
   "execution_count": 6,
   "metadata": {},
   "outputs": [],
   "source": [
    "test_ = convert_to_simple_transformer_format(test_sents)"
   ]
  },
  {
   "cell_type": "code",
   "execution_count": 12,
   "metadata": {},
   "outputs": [
    {
     "name": "stderr",
     "output_type": "stream",
     "text": [
      "You are using a model of type bert to instantiate a model of type xlnet. This is not supported for all configurations of models and can yield errors.\n"
     ]
    },
    {
     "ename": "NotImplementedError",
     "evalue": "The model bert is one of the few models that has no sequence length limit.",
     "output_type": "error",
     "traceback": [
      "\u001b[1;31m---------------------------------------------------------------------------\u001b[0m",
      "\u001b[1;31mNotImplementedError\u001b[0m                       Traceback (most recent call last)",
      "\u001b[1;32me:\\project-argument-tagger\\bert\\bert_argument.ipynb Cell 7'\u001b[0m in \u001b[0;36m<cell line: 12>\u001b[1;34m()\u001b[0m\n\u001b[0;32m      <a href='vscode-notebook-cell:/e%3A/project-argument-tagger/bert/bert_argument.ipynb#ch0000006?line=7'>8</a>\u001b[0m ner_args\u001b[39m.\u001b[39moverwrite_output_dir \u001b[39m=\u001b[39m \u001b[39mTrue\u001b[39;00m\n\u001b[0;32m      <a href='vscode-notebook-cell:/e%3A/project-argument-tagger/bert/bert_argument.ipynb#ch0000006?line=8'>9</a>\u001b[0m ner_args\u001b[39m.\u001b[39mnum_train_epochs \u001b[39m=\u001b[39m \u001b[39m100\u001b[39m \u001b[39m#10\u001b[39;00m\n\u001b[1;32m---> <a href='vscode-notebook-cell:/e%3A/project-argument-tagger/bert/bert_argument.ipynb#ch0000006?line=11'>12</a>\u001b[0m model \u001b[39m=\u001b[39m NERModel(\n\u001b[0;32m     <a href='vscode-notebook-cell:/e%3A/project-argument-tagger/bert/bert_argument.ipynb#ch0000006?line=12'>13</a>\u001b[0m     \u001b[39m\"\u001b[39;49m\u001b[39mxlnet\u001b[39;49m\u001b[39m\"\u001b[39;49m, \u001b[39m\"\u001b[39;49m\u001b[39mmonsoon-nlp/bert-base-thai\u001b[39;49m\u001b[39m\"\u001b[39;49m, args\u001b[39m=\u001b[39;49mner_args, use_cuda\u001b[39m=\u001b[39;49mtorch\u001b[39m.\u001b[39;49mcuda\u001b[39m.\u001b[39;49mis_available(), labels\u001b[39m=\u001b[39;49m_NER_TAGS\n\u001b[0;32m     <a href='vscode-notebook-cell:/e%3A/project-argument-tagger/bert/bert_argument.ipynb#ch0000006?line=13'>14</a>\u001b[0m )\n\u001b[0;32m     <a href='vscode-notebook-cell:/e%3A/project-argument-tagger/bert/bert_argument.ipynb#ch0000006?line=15'>16</a>\u001b[0m \u001b[39m# Train the modelk\u001b[39;00m\n\u001b[0;32m     <a href='vscode-notebook-cell:/e%3A/project-argument-tagger/bert/bert_argument.ipynb#ch0000006?line=16'>17</a>\u001b[0m model\u001b[39m.\u001b[39mtrain_model(train_)\n",
      "File \u001b[1;32m~\\miniconda3\\envs\\argument\\lib\\site-packages\\simpletransformers\\ner\\ner_model.py:265\u001b[0m, in \u001b[0;36mNERModel.__init__\u001b[1;34m(self, model_type, model_name, labels, weight, args, use_cuda, cuda_device, onnx_execution_provider, **kwargs)\u001b[0m\n\u001b[0;32m    <a href='file:///c%3A/Users/pitiw/miniconda3/envs/argument/lib/site-packages/simpletransformers/ner/ner_model.py?line=262'>263</a>\u001b[0m config_class, model_class, tokenizer_class \u001b[39m=\u001b[39m MODEL_CLASSES[model_type]\n\u001b[0;32m    <a href='file:///c%3A/Users/pitiw/miniconda3/envs/argument/lib/site-packages/simpletransformers/ner/ner_model.py?line=263'>264</a>\u001b[0m \u001b[39mif\u001b[39;00m \u001b[39mself\u001b[39m\u001b[39m.\u001b[39mnum_labels:\n\u001b[1;32m--> <a href='file:///c%3A/Users/pitiw/miniconda3/envs/argument/lib/site-packages/simpletransformers/ner/ner_model.py?line=264'>265</a>\u001b[0m     \u001b[39mself\u001b[39m\u001b[39m.\u001b[39mconfig \u001b[39m=\u001b[39m config_class\u001b[39m.\u001b[39;49mfrom_pretrained(\n\u001b[0;32m    <a href='file:///c%3A/Users/pitiw/miniconda3/envs/argument/lib/site-packages/simpletransformers/ner/ner_model.py?line=265'>266</a>\u001b[0m         model_name, num_labels\u001b[39m=\u001b[39;49m\u001b[39mself\u001b[39;49m\u001b[39m.\u001b[39;49mnum_labels, \u001b[39m*\u001b[39;49m\u001b[39m*\u001b[39;49m\u001b[39mself\u001b[39;49m\u001b[39m.\u001b[39;49margs\u001b[39m.\u001b[39;49mconfig\n\u001b[0;32m    <a href='file:///c%3A/Users/pitiw/miniconda3/envs/argument/lib/site-packages/simpletransformers/ner/ner_model.py?line=266'>267</a>\u001b[0m     )\n\u001b[0;32m    <a href='file:///c%3A/Users/pitiw/miniconda3/envs/argument/lib/site-packages/simpletransformers/ner/ner_model.py?line=267'>268</a>\u001b[0m     \u001b[39mself\u001b[39m\u001b[39m.\u001b[39mnum_labels \u001b[39m=\u001b[39m \u001b[39mself\u001b[39m\u001b[39m.\u001b[39mnum_labels\n\u001b[0;32m    <a href='file:///c%3A/Users/pitiw/miniconda3/envs/argument/lib/site-packages/simpletransformers/ner/ner_model.py?line=268'>269</a>\u001b[0m \u001b[39melse\u001b[39;00m:\n",
      "File \u001b[1;32m~\\miniconda3\\envs\\argument\\lib\\site-packages\\transformers\\configuration_utils.py:526\u001b[0m, in \u001b[0;36mPretrainedConfig.from_pretrained\u001b[1;34m(cls, pretrained_model_name_or_path, **kwargs)\u001b[0m\n\u001b[0;32m    <a href='file:///c%3A/Users/pitiw/miniconda3/envs/argument/lib/site-packages/transformers/configuration_utils.py?line=519'>520</a>\u001b[0m \u001b[39mif\u001b[39;00m \u001b[39m\"\u001b[39m\u001b[39mmodel_type\u001b[39m\u001b[39m\"\u001b[39m \u001b[39min\u001b[39;00m config_dict \u001b[39mand\u001b[39;00m \u001b[39mhasattr\u001b[39m(\u001b[39mcls\u001b[39m, \u001b[39m\"\u001b[39m\u001b[39mmodel_type\u001b[39m\u001b[39m\"\u001b[39m) \u001b[39mand\u001b[39;00m config_dict[\u001b[39m\"\u001b[39m\u001b[39mmodel_type\u001b[39m\u001b[39m\"\u001b[39m] \u001b[39m!=\u001b[39m \u001b[39mcls\u001b[39m\u001b[39m.\u001b[39mmodel_type:\n\u001b[0;32m    <a href='file:///c%3A/Users/pitiw/miniconda3/envs/argument/lib/site-packages/transformers/configuration_utils.py?line=520'>521</a>\u001b[0m     logger\u001b[39m.\u001b[39mwarning(\n\u001b[0;32m    <a href='file:///c%3A/Users/pitiw/miniconda3/envs/argument/lib/site-packages/transformers/configuration_utils.py?line=521'>522</a>\u001b[0m         \u001b[39mf\u001b[39m\u001b[39m\"\u001b[39m\u001b[39mYou are using a model of type \u001b[39m\u001b[39m{\u001b[39;00mconfig_dict[\u001b[39m'\u001b[39m\u001b[39mmodel_type\u001b[39m\u001b[39m'\u001b[39m]\u001b[39m}\u001b[39;00m\u001b[39m to instantiate a model of type \u001b[39m\u001b[39m\"\u001b[39m\n\u001b[0;32m    <a href='file:///c%3A/Users/pitiw/miniconda3/envs/argument/lib/site-packages/transformers/configuration_utils.py?line=522'>523</a>\u001b[0m         \u001b[39mf\u001b[39m\u001b[39m\"\u001b[39m\u001b[39m{\u001b[39;00m\u001b[39mcls\u001b[39m\u001b[39m.\u001b[39mmodel_type\u001b[39m}\u001b[39;00m\u001b[39m. This is not supported for all configurations of models and can yield errors.\u001b[39m\u001b[39m\"\u001b[39m\n\u001b[0;32m    <a href='file:///c%3A/Users/pitiw/miniconda3/envs/argument/lib/site-packages/transformers/configuration_utils.py?line=523'>524</a>\u001b[0m     )\n\u001b[1;32m--> <a href='file:///c%3A/Users/pitiw/miniconda3/envs/argument/lib/site-packages/transformers/configuration_utils.py?line=525'>526</a>\u001b[0m \u001b[39mreturn\u001b[39;00m \u001b[39mcls\u001b[39;49m\u001b[39m.\u001b[39;49mfrom_dict(config_dict, \u001b[39m*\u001b[39;49m\u001b[39m*\u001b[39;49mkwargs)\n",
      "File \u001b[1;32m~\\miniconda3\\envs\\argument\\lib\\site-packages\\transformers\\configuration_utils.py:669\u001b[0m, in \u001b[0;36mPretrainedConfig.from_dict\u001b[1;34m(cls, config_dict, **kwargs)\u001b[0m\n\u001b[0;32m    <a href='file:///c%3A/Users/pitiw/miniconda3/envs/argument/lib/site-packages/transformers/configuration_utils.py?line=653'>654</a>\u001b[0m \u001b[39m\"\"\"\u001b[39;00m\n\u001b[0;32m    <a href='file:///c%3A/Users/pitiw/miniconda3/envs/argument/lib/site-packages/transformers/configuration_utils.py?line=654'>655</a>\u001b[0m \u001b[39mInstantiates a [`PretrainedConfig`] from a Python dictionary of parameters.\u001b[39;00m\n\u001b[0;32m    <a href='file:///c%3A/Users/pitiw/miniconda3/envs/argument/lib/site-packages/transformers/configuration_utils.py?line=655'>656</a>\u001b[0m \n\u001b[1;32m   (...)\u001b[0m\n\u001b[0;32m    <a href='file:///c%3A/Users/pitiw/miniconda3/envs/argument/lib/site-packages/transformers/configuration_utils.py?line=664'>665</a>\u001b[0m \u001b[39m    [`PretrainedConfig`]: The configuration object instantiated from those parameters.\u001b[39;00m\n\u001b[0;32m    <a href='file:///c%3A/Users/pitiw/miniconda3/envs/argument/lib/site-packages/transformers/configuration_utils.py?line=665'>666</a>\u001b[0m \u001b[39m\"\"\"\u001b[39;00m\n\u001b[0;32m    <a href='file:///c%3A/Users/pitiw/miniconda3/envs/argument/lib/site-packages/transformers/configuration_utils.py?line=666'>667</a>\u001b[0m return_unused_kwargs \u001b[39m=\u001b[39m kwargs\u001b[39m.\u001b[39mpop(\u001b[39m\"\u001b[39m\u001b[39mreturn_unused_kwargs\u001b[39m\u001b[39m\"\u001b[39m, \u001b[39mFalse\u001b[39;00m)\n\u001b[1;32m--> <a href='file:///c%3A/Users/pitiw/miniconda3/envs/argument/lib/site-packages/transformers/configuration_utils.py?line=668'>669</a>\u001b[0m config \u001b[39m=\u001b[39m \u001b[39mcls\u001b[39;49m(\u001b[39m*\u001b[39;49m\u001b[39m*\u001b[39;49mconfig_dict)\n\u001b[0;32m    <a href='file:///c%3A/Users/pitiw/miniconda3/envs/argument/lib/site-packages/transformers/configuration_utils.py?line=670'>671</a>\u001b[0m \u001b[39mif\u001b[39;00m \u001b[39mhasattr\u001b[39m(config, \u001b[39m\"\u001b[39m\u001b[39mpruned_heads\u001b[39m\u001b[39m\"\u001b[39m):\n\u001b[0;32m    <a href='file:///c%3A/Users/pitiw/miniconda3/envs/argument/lib/site-packages/transformers/configuration_utils.py?line=671'>672</a>\u001b[0m     config\u001b[39m.\u001b[39mpruned_heads \u001b[39m=\u001b[39m \u001b[39mdict\u001b[39m((\u001b[39mint\u001b[39m(key), value) \u001b[39mfor\u001b[39;00m key, value \u001b[39min\u001b[39;00m config\u001b[39m.\u001b[39mpruned_heads\u001b[39m.\u001b[39mitems())\n",
      "File \u001b[1;32m~\\miniconda3\\envs\\argument\\lib\\site-packages\\transformers\\models\\xlnet\\configuration_xlnet.py:229\u001b[0m, in \u001b[0;36mXLNetConfig.__init__\u001b[1;34m(self, vocab_size, d_model, n_layer, n_head, d_inner, ff_activation, untie_r, attn_type, initializer_range, layer_norm_eps, dropout, mem_len, reuse_len, use_mems_eval, use_mems_train, bi_data, clamp_len, same_length, summary_type, summary_use_proj, summary_activation, summary_last_dropout, start_n_top, end_n_top, pad_token_id, bos_token_id, eos_token_id, **kwargs)\u001b[0m\n\u001b[0;32m    <a href='file:///c%3A/Users/pitiw/miniconda3/envs/argument/lib/site-packages/transformers/models/xlnet/configuration_xlnet.py?line=226'>227</a>\u001b[0m \u001b[39mself\u001b[39m\u001b[39m.\u001b[39muse_mems_eval \u001b[39m=\u001b[39m use_mems_eval\n\u001b[0;32m    <a href='file:///c%3A/Users/pitiw/miniconda3/envs/argument/lib/site-packages/transformers/models/xlnet/configuration_xlnet.py?line=227'>228</a>\u001b[0m \u001b[39mself\u001b[39m\u001b[39m.\u001b[39muse_mems_train \u001b[39m=\u001b[39m use_mems_train\n\u001b[1;32m--> <a href='file:///c%3A/Users/pitiw/miniconda3/envs/argument/lib/site-packages/transformers/models/xlnet/configuration_xlnet.py?line=228'>229</a>\u001b[0m \u001b[39msuper\u001b[39;49m()\u001b[39m.\u001b[39;49m\u001b[39m__init__\u001b[39;49m(pad_token_id\u001b[39m=\u001b[39;49mpad_token_id, bos_token_id\u001b[39m=\u001b[39;49mbos_token_id, eos_token_id\u001b[39m=\u001b[39;49meos_token_id, \u001b[39m*\u001b[39;49m\u001b[39m*\u001b[39;49mkwargs)\n",
      "File \u001b[1;32m~\\miniconda3\\envs\\argument\\lib\\site-packages\\transformers\\configuration_utils.py:365\u001b[0m, in \u001b[0;36mPretrainedConfig.__init__\u001b[1;34m(self, **kwargs)\u001b[0m\n\u001b[0;32m    <a href='file:///c%3A/Users/pitiw/miniconda3/envs/argument/lib/site-packages/transformers/configuration_utils.py?line=362'>363</a>\u001b[0m \u001b[39mfor\u001b[39;00m key, value \u001b[39min\u001b[39;00m kwargs\u001b[39m.\u001b[39mitems():\n\u001b[0;32m    <a href='file:///c%3A/Users/pitiw/miniconda3/envs/argument/lib/site-packages/transformers/configuration_utils.py?line=363'>364</a>\u001b[0m     \u001b[39mtry\u001b[39;00m:\n\u001b[1;32m--> <a href='file:///c%3A/Users/pitiw/miniconda3/envs/argument/lib/site-packages/transformers/configuration_utils.py?line=364'>365</a>\u001b[0m         \u001b[39msetattr\u001b[39;49m(\u001b[39mself\u001b[39;49m, key, value)\n\u001b[0;32m    <a href='file:///c%3A/Users/pitiw/miniconda3/envs/argument/lib/site-packages/transformers/configuration_utils.py?line=365'>366</a>\u001b[0m     \u001b[39mexcept\u001b[39;00m \u001b[39mAttributeError\u001b[39;00m \u001b[39mas\u001b[39;00m err:\n\u001b[0;32m    <a href='file:///c%3A/Users/pitiw/miniconda3/envs/argument/lib/site-packages/transformers/configuration_utils.py?line=366'>367</a>\u001b[0m         logger\u001b[39m.\u001b[39merror(\u001b[39mf\u001b[39m\u001b[39m\"\u001b[39m\u001b[39mCan\u001b[39m\u001b[39m'\u001b[39m\u001b[39mt set \u001b[39m\u001b[39m{\u001b[39;00mkey\u001b[39m}\u001b[39;00m\u001b[39m with value \u001b[39m\u001b[39m{\u001b[39;00mvalue\u001b[39m}\u001b[39;00m\u001b[39m for \u001b[39m\u001b[39m{\u001b[39;00m\u001b[39mself\u001b[39m\u001b[39m}\u001b[39;00m\u001b[39m\"\u001b[39m)\n",
      "File \u001b[1;32m~\\miniconda3\\envs\\argument\\lib\\site-packages\\transformers\\configuration_utils.py:247\u001b[0m, in \u001b[0;36mPretrainedConfig.__setattr__\u001b[1;34m(self, key, value)\u001b[0m\n\u001b[0;32m    <a href='file:///c%3A/Users/pitiw/miniconda3/envs/argument/lib/site-packages/transformers/configuration_utils.py?line=244'>245</a>\u001b[0m \u001b[39mif\u001b[39;00m key \u001b[39min\u001b[39;00m \u001b[39msuper\u001b[39m()\u001b[39m.\u001b[39m\u001b[39m__getattribute__\u001b[39m(\u001b[39m\"\u001b[39m\u001b[39mattribute_map\u001b[39m\u001b[39m\"\u001b[39m):\n\u001b[0;32m    <a href='file:///c%3A/Users/pitiw/miniconda3/envs/argument/lib/site-packages/transformers/configuration_utils.py?line=245'>246</a>\u001b[0m     key \u001b[39m=\u001b[39m \u001b[39msuper\u001b[39m()\u001b[39m.\u001b[39m\u001b[39m__getattribute__\u001b[39m(\u001b[39m\"\u001b[39m\u001b[39mattribute_map\u001b[39m\u001b[39m\"\u001b[39m)[key]\n\u001b[1;32m--> <a href='file:///c%3A/Users/pitiw/miniconda3/envs/argument/lib/site-packages/transformers/configuration_utils.py?line=246'>247</a>\u001b[0m \u001b[39msuper\u001b[39;49m()\u001b[39m.\u001b[39;49m\u001b[39m__setattr__\u001b[39;49m(key, value)\n",
      "File \u001b[1;32m~\\miniconda3\\envs\\argument\\lib\\site-packages\\transformers\\models\\xlnet\\configuration_xlnet.py:239\u001b[0m, in \u001b[0;36mXLNetConfig.max_position_embeddings\u001b[1;34m(self, value)\u001b[0m\n\u001b[0;32m    <a href='file:///c%3A/Users/pitiw/miniconda3/envs/argument/lib/site-packages/transformers/models/xlnet/configuration_xlnet.py?line=235'>236</a>\u001b[0m \u001b[39m@max_position_embeddings\u001b[39m\u001b[39m.\u001b[39msetter\n\u001b[0;32m    <a href='file:///c%3A/Users/pitiw/miniconda3/envs/argument/lib/site-packages/transformers/models/xlnet/configuration_xlnet.py?line=236'>237</a>\u001b[0m \u001b[39mdef\u001b[39;00m \u001b[39mmax_position_embeddings\u001b[39m(\u001b[39mself\u001b[39m, value):\n\u001b[0;32m    <a href='file:///c%3A/Users/pitiw/miniconda3/envs/argument/lib/site-packages/transformers/models/xlnet/configuration_xlnet.py?line=237'>238</a>\u001b[0m     \u001b[39m# Message copied from Transformer-XL documentation\u001b[39;00m\n\u001b[1;32m--> <a href='file:///c%3A/Users/pitiw/miniconda3/envs/argument/lib/site-packages/transformers/models/xlnet/configuration_xlnet.py?line=238'>239</a>\u001b[0m     \u001b[39mraise\u001b[39;00m \u001b[39mNotImplementedError\u001b[39;00m(\n\u001b[0;32m    <a href='file:///c%3A/Users/pitiw/miniconda3/envs/argument/lib/site-packages/transformers/models/xlnet/configuration_xlnet.py?line=239'>240</a>\u001b[0m         \u001b[39mf\u001b[39m\u001b[39m\"\u001b[39m\u001b[39mThe model \u001b[39m\u001b[39m{\u001b[39;00m\u001b[39mself\u001b[39m\u001b[39m.\u001b[39mmodel_type\u001b[39m}\u001b[39;00m\u001b[39m is one of the few models that has no sequence length limit.\u001b[39m\u001b[39m\"\u001b[39m\n\u001b[0;32m    <a href='file:///c%3A/Users/pitiw/miniconda3/envs/argument/lib/site-packages/transformers/models/xlnet/configuration_xlnet.py?line=240'>241</a>\u001b[0m     )\n",
      "\u001b[1;31mNotImplementedError\u001b[0m: The model bert is one of the few models that has no sequence length limit."
     ]
    }
   ],
   "source": [
    "import torch\n",
    "from simpletransformers.ner import NERModel, NERArgs\n",
    "\n",
    "# Configure the model\n",
    "ner_args = NERArgs()\n",
    "ner_args.train_batch_size = 12\n",
    "ner_args.evaluate_during_training = False\n",
    "ner_args.overwrite_output_dir = True\n",
    "ner_args.num_train_epochs = 100 #10\n",
    "\n",
    "\n",
    "model = NERModel(\n",
    "    \"bert\", \"monsoon-nlp/bert-base-thai\", args=ner_args, use_cuda=torch.cuda.is_available(), labels=_NER_TAGS\n",
    ")\n",
    "\n",
    "# Train the modelk\n",
    "model.train_model(train_)"
   ]
  },
  {
   "cell_type": "code",
   "execution_count": 11,
   "metadata": {},
   "outputs": [
    {
     "name": "stderr",
     "output_type": "stream",
     "text": [
      "100%|██████████| 1/1 [00:08<00:00,  8.63s/it]\n",
      "Running Evaluation: 100%|██████████| 18/18 [00:02<00:00,  7.54it/s]\n",
      "C:\\Users\\pitiw\\miniconda3\\envs\\argument\\lib\\site-packages\\seqeval\\metrics\\sequence_labeling.py:171: UserWarning: B_C seems not to be NE tag.\n",
      "  warnings.warn('{} seems not to be NE tag.'.format(chunk))\n",
      "C:\\Users\\pitiw\\miniconda3\\envs\\argument\\lib\\site-packages\\seqeval\\metrics\\sequence_labeling.py:171: UserWarning: I_C seems not to be NE tag.\n",
      "  warnings.warn('{} seems not to be NE tag.'.format(chunk))\n",
      "C:\\Users\\pitiw\\miniconda3\\envs\\argument\\lib\\site-packages\\seqeval\\metrics\\sequence_labeling.py:171: UserWarning: B_P seems not to be NE tag.\n",
      "  warnings.warn('{} seems not to be NE tag.'.format(chunk))\n",
      "C:\\Users\\pitiw\\miniconda3\\envs\\argument\\lib\\site-packages\\seqeval\\metrics\\sequence_labeling.py:171: UserWarning: I_P seems not to be NE tag.\n",
      "  warnings.warn('{} seems not to be NE tag.'.format(chunk))\n"
     ]
    },
    {
     "data": {
      "text/plain": [
       "{'eval_loss': 3.813645319806205,\n",
       " 'precision': 0.08484848484848485,\n",
       " 'recall': 0.27450980392156865,\n",
       " 'f1_score': 0.12962962962962965}"
      ]
     },
     "execution_count": 11,
     "metadata": {},
     "output_type": "execute_result"
    }
   ],
   "source": [
    "# Evaluate the model\n",
    "result, model_outputs, preds_list = model.eval_model(test_)\n",
    "result"
   ]
  },
  {
   "cell_type": "code",
   "execution_count": 245,
   "metadata": {},
   "outputs": [
    {
     "name": "stdout",
     "output_type": "stream",
     "text": [
      "หาก พิจารณา จาก การเข้าสู่ การ เป็น   AEC   ใน สิ้นปี นี้ แล้ว   ผม ว่า ความสามารถ ทาง ด้าน ภาษาอังกฤษ จะ ใช้ประโยชน์ ได้ มากกว่า คณิตศาสตร์ เยอะ มาก ครับ   ได้ ทั้ง ด้าน ติดต่อ ธุรกิจ    การท่องเที่ยว    การศึกษา\n",
      "[('หาก', 'B-p'), ('พิจารณา', 'I-p'), ('จาก', 'I-p'), ('การเข้าสู่', 'I-p'), ('การ', 'I-p'), ('เป็น', 'I-p'), (' ', 'I-p'), ('AEC', 'I-p'), (' ', 'I-p'), ('ใน', 'I-p'), ('สิ้นปี', 'I-p'), ('นี้', 'I-p'), ('แล้ว', 'I-p'), (' ', 'O'), ('ผม', 'B-c'), ('ว่า', 'I-c'), ('ความสามารถ', 'I-c'), ('ทาง', 'I-c'), ('ด้าน', 'I-c'), ('ภาษาอังกฤษ', 'I-c'), ('จะ', 'I-c'), ('ใช้ประโยชน์', 'I-c'), ('ได้', 'I-c'), ('มากกว่า', 'I-c'), ('คณิตศาสตร์', 'I-c'), ('เยอะ', 'I-c'), ('มาก', 'I-c'), ('ครับ', 'I-c'), (' ', 'O'), ('ได้', 'B-p'), ('ทั้ง', 'I-p'), ('ด้าน', 'I-p'), ('ติดต่อ', 'I-p'), ('ธุรกิจ', 'I-p'), ('  ', 'I-p'), ('การท่องเที่ยว', 'I-p'), ('  ', 'I-p'), ('การศึกษา', 'I-p')]\n"
     ]
    }
   ],
   "source": [
    "idx = 4\n",
    "test_pred = \" \".join(list(map(lambda word: word[0], test_sents[idx])))\n",
    "print(test_pred)\n",
    "print(test_sents[idx])"
   ]
  },
  {
   "cell_type": "code",
   "execution_count": 246,
   "metadata": {},
   "outputs": [
    {
     "name": "stderr",
     "output_type": "stream",
     "text": [
      "100%|██████████| 1/1 [00:07<00:00,  7.34s/it]\n",
      "Running Prediction: 100%|██████████| 1/1 [00:00<00:00,  3.86it/s]"
     ]
    },
    {
     "name": "stdout",
     "output_type": "stream",
     "text": [
      "[{'หาก': 'B_C'}, {'พิจารณา': 'I_C'}, {'จาก': 'I_C'}, {'การเข้าสู่': 'I_C'}, {'การ': 'I_C'}, {'เป็น': 'I_C'}, {'AEC': 'I_C'}, {'ใน': 'I_C'}, {'สิ้นปี': 'I_C'}, {'นี้': 'I_C'}, {'แล้ว': 'I_C'}, {'ผม': 'B_C'}, {'ว่า': 'I_C'}, {'ความสามารถ': 'I_C'}, {'ทาง': 'I_C'}, {'ด้าน': 'I_P'}, {'ภาษาอังกฤษ': 'I_P'}, {'จะ': 'I_P'}, {'ใช้ประโยชน์': 'I_P'}, {'ได้': 'I_P'}, {'มากกว่า': 'I_P'}, {'คณิตศาสตร์': 'I_P'}, {'เยอะ': 'I_P'}, {'มาก': 'I_P'}, {'ครับ': 'I_P'}, {'ได้': 'I_P'}, {'ทั้ง': 'I_P'}, {'ด้าน': 'I_P'}, {'ติดต่อ': 'I_P'}, {'ธุรกิจ': 'I_P'}, {'การท่องเที่ยว': 'I_P'}, {'การศึกษา': 'I_P'}]\n"
     ]
    },
    {
     "name": "stderr",
     "output_type": "stream",
     "text": [
      "\n"
     ]
    }
   ],
   "source": [
    "# Make predictions with the model\n",
    "predictions, raw_outputs = model.predict([test_pred])\n",
    "print(predictions[0]) "
   ]
  },
  {
   "cell_type": "code",
   "execution_count": 315,
   "metadata": {},
   "outputs": [
    {
     "name": "stdout",
     "output_type": "stream",
     "text": [
      "['B_C', 'I_C', 'I_C', 'I_C', 'I_C', 'I_C', 'I_C', 'I_C', 'I_C', 'I_C', 'I_C', 'I_C', 'I_C', 'I_C', 'I_C', 'I_C', 'I_C', 'I_C', 'I_C', 'I_C', 'I_C', 'B_P', 'I_P', 'I_P', 'I_P', 'I_P', 'I_P', 'I_P', 'I_P', 'I_P', 'I_P', 'I_P', 'I_P', 'I_P', 'O', 'O', 'O', 'O', 'O', 'O', 'O', 'O', 'O']\n"
     ]
    }
   ],
   "source": [
    "y_test = []\n",
    "for sent in test_sents:\n",
    "    labels = []\n",
    "    for word, label in sent:\n",
    "        if word == ' ' or word == '  ':\n",
    "            continue;\n",
    "        label = label.upper().replace(\"-\", \"_\")\n",
    "        labels.append(label)\n",
    "    y_test.append(labels)\n",
    "    \n",
    "print(y_test[10])\n"
   ]
  },
  {
   "cell_type": "code",
   "execution_count": 316,
   "metadata": {},
   "outputs": [
    {
     "name": "stderr",
     "output_type": "stream",
     "text": [
      "100%|██████████| 1/1 [00:08<00:00,  8.23s/it]\n",
      "Running Prediction: 100%|██████████| 18/18 [00:02<00:00,  7.29it/s]\n"
     ]
    },
    {
     "name": "stdout",
     "output_type": "stream",
     "text": [
      "['B_C', 'I_C', 'I_C', 'I_C', 'I_C', 'I_C', 'I_C', 'I_C', 'I_C', 'I_C', 'I_C', 'I_C', 'I_C', 'I_C', 'I_C', 'I_C', 'I_C', 'I_C', 'I_C', 'O', 'O', 'B_P', 'I_P', 'I_P', 'I_P', 'I_P', 'O', 'I_P', 'I_P', 'O', 'O', 'I_P', 'O', 'O', 'O', 'O', 'O', 'O', 'O', 'I_P', 'O', 'O', 'O', 'I_P']\n"
     ]
    }
   ],
   "source": [
    "test_list = []\n",
    "for sent in test_sents:\n",
    "    words = []\n",
    "    for word, label in sent:\n",
    "        words.append(word)\n",
    "    test_list.append(\" \".join(words))\n",
    "\n",
    "\n",
    "predictions, raw_outputs = model.predict(test_list)\n",
    "\n",
    "y_pred = []\n",
    "for preds in predictions:\n",
    "    y_pred.append([list(pred.items())[0][1] for pred in preds])\n",
    "\n",
    "print(y_pred[10])"
   ]
  },
  {
   "cell_type": "code",
   "execution_count": 317,
   "metadata": {},
   "outputs": [],
   "source": [
    "y_pred_ = []\n",
    "y_test_ = []\n",
    "for i in range(len(y_test)):\n",
    "    if len(y_pred[i]) != len(y_test[i]):\n",
    "        continue;\n",
    "    y_pred_.append(y_pred[i])\n",
    "    y_test_.append(y_test[i])\n"
   ]
  },
  {
   "cell_type": "code",
   "execution_count": 324,
   "metadata": {},
   "outputs": [
    {
     "name": "stdout",
     "output_type": "stream",
     "text": [
      "accuracy: 0.608723817749946\n",
      "              precision    recall  f1-score   support\n",
      "\n",
      "          _C       0.14      0.31      0.20       128\n",
      "          _P       0.07      0.22      0.10       128\n",
      "\n",
      "   micro avg       0.10      0.27      0.14       256\n",
      "   macro avg       0.11      0.27      0.15       256\n",
      "weighted avg       0.11      0.27      0.15       256\n",
      "\n"
     ]
    }
   ],
   "source": [
    "from seqeval.metrics import accuracy_score\n",
    "from seqeval.metrics import classification_report\n",
    "from seqeval.metrics import f1_score\n",
    "\n",
    "print(\"accuracy:\" ,accuracy_score(y_test_, y_pred_))\n",
    "print(classification_report(y_test_, y_pred_))"
   ]
  },
  {
   "cell_type": "code",
   "execution_count": 8,
   "metadata": {},
   "outputs": [],
   "source": [
    "test_ner = NERModel(\"bert\", 'outputs/checkpoint-4600-epoch-100', args=ner_args)"
   ]
  },
  {
   "cell_type": "code",
   "execution_count": null,
   "metadata": {},
   "outputs": [],
   "source": []
  }
 ],
 "metadata": {
  "interpreter": {
   "hash": "a6dc3a5d5e5e7987cc7d18355d6f408e2f42f41b0aca7d07c9009e9d98d8dd16"
  },
  "kernelspec": {
   "display_name": "Python 3.8.12 ('argument')",
   "language": "python",
   "name": "python3"
  },
  "language_info": {
   "codemirror_mode": {
    "name": "ipython",
    "version": 3
   },
   "file_extension": ".py",
   "mimetype": "text/x-python",
   "name": "python",
   "nbconvert_exporter": "python",
   "pygments_lexer": "ipython3",
   "version": "3.8.12"
  },
  "orig_nbformat": 4
 },
 "nbformat": 4,
 "nbformat_minor": 2
}
