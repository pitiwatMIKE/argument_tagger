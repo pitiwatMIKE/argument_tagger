{
 "cells": [
  {
   "cell_type": "code",
   "execution_count": 2,
   "metadata": {},
   "outputs": [],
   "source": [
    "import dill\n",
    "import pandas as pd\n",
    "from sklearn.model_selection import train_test_split\n",
    "\n",
    "import torch\n",
    "from simpletransformers.ner import NERModel, NERArgs"
   ]
  },
  {
   "cell_type": "code",
   "execution_count": 12,
   "metadata": {},
   "outputs": [
    {
     "ename": "NameError",
     "evalue": "name '_NER_TAGS' is not defined",
     "output_type": "error",
     "traceback": [
      "\u001b[1;31m---------------------------------------------------------------------------\u001b[0m",
      "\u001b[1;31mNameError\u001b[0m                                 Traceback (most recent call last)",
      "\u001b[1;32me:\\project-argument-tagger\\bert\\user_model.ipynb Cell 2'\u001b[0m in \u001b[0;36m<cell line: 6>\u001b[1;34m()\u001b[0m\n\u001b[0;32m      <a href='vscode-notebook-cell:/e%3A/project-argument-tagger/bert/user_model.ipynb#ch0000001?line=3'>4</a>\u001b[0m ner_args\u001b[39m.\u001b[39moverwrite_output_dir \u001b[39m=\u001b[39m \u001b[39mTrue\u001b[39;00m\n\u001b[0;32m      <a href='vscode-notebook-cell:/e%3A/project-argument-tagger/bert/user_model.ipynb#ch0000001?line=4'>5</a>\u001b[0m ner_args\u001b[39m.\u001b[39mnum_train_epochs \u001b[39m=\u001b[39m \u001b[39m100\u001b[39m \u001b[39m#10\u001b[39;00m\n\u001b[0;32m      <a href='vscode-notebook-cell:/e%3A/project-argument-tagger/bert/user_model.ipynb#ch0000001?line=5'>6</a>\u001b[0m model \u001b[39m=\u001b[39m NERModel(\n\u001b[1;32m----> <a href='vscode-notebook-cell:/e%3A/project-argument-tagger/bert/user_model.ipynb#ch0000001?line=6'>7</a>\u001b[0m     \u001b[39m\"\u001b[39m\u001b[39mbert\u001b[39m\u001b[39m\"\u001b[39m, \u001b[39m\"\u001b[39m\u001b[39mmonsoon-nlp/bert-base-thai\u001b[39m\u001b[39m\"\u001b[39m, args\u001b[39m=\u001b[39mner_args, use_cuda\u001b[39m=\u001b[39mtorch\u001b[39m.\u001b[39mcuda\u001b[39m.\u001b[39mis_available(), labels\u001b[39m=\u001b[39m_NER_TAGS\n\u001b[0;32m      <a href='vscode-notebook-cell:/e%3A/project-argument-tagger/bert/user_model.ipynb#ch0000001?line=7'>8</a>\u001b[0m )\n\u001b[0;32m      <a href='vscode-notebook-cell:/e%3A/project-argument-tagger/bert/user_model.ipynb#ch0000001?line=8'>9</a>\u001b[0m test_ner \u001b[39m=\u001b[39m NERModel(\u001b[39m\"\u001b[39m\u001b[39mbert\u001b[39m\u001b[39m\"\u001b[39m, \u001b[39m'\u001b[39m\u001b[39moutputs/checkpoint-4600-epoch-100\u001b[39m\u001b[39m'\u001b[39m, args\u001b[39m=\u001b[39mner_args)\n",
      "\u001b[1;31mNameError\u001b[0m: name '_NER_TAGS' is not defined"
     ]
    }
   ],
   "source": [
    "ner_args = NERArgs()\n",
    "ner_args.train_batch_size = 12\n",
    "ner_args.evaluate_during_training = False\n",
    "ner_args.overwrite_output_dir = True\n",
    "ner_args.num_train_epochs = 100 #10\n",
    "\n",
    "test_ner = NERModel(\"bert\", 'outputs/checkpoint-4600-epoch-100', args=ner_args)"
   ]
  },
  {
   "cell_type": "code",
   "execution_count": null,
   "metadata": {},
   "outputs": [],
   "source": []
  }
 ],
 "metadata": {
  "interpreter": {
   "hash": "a6dc3a5d5e5e7987cc7d18355d6f408e2f42f41b0aca7d07c9009e9d98d8dd16"
  },
  "kernelspec": {
   "display_name": "Python 3.8.12 ('argument')",
   "language": "python",
   "name": "python3"
  },
  "language_info": {
   "codemirror_mode": {
    "name": "ipython",
    "version": 3
   },
   "file_extension": ".py",
   "mimetype": "text/x-python",
   "name": "python",
   "nbconvert_exporter": "python",
   "pygments_lexer": "ipython3",
   "version": "3.8.12"
  },
  "orig_nbformat": 4
 },
 "nbformat": 4,
 "nbformat_minor": 2
}
