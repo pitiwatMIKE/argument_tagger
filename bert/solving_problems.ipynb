{
 "cells": [
  {
   "cell_type": "code",
   "execution_count": 40,
   "metadata": {},
   "outputs": [],
   "source": [
    "import dill\n",
    "import pandas as pd\n",
    "from sklearn.model_selection import train_test_split"
   ]
  },
  {
   "cell_type": "code",
   "execution_count": 41,
   "metadata": {},
   "outputs": [
    {
     "name": "stdout",
     "output_type": "stream",
     "text": [
      "552\n",
      "138\n",
      "[('ถ้า', 'B-c'), ('เดินทาง', 'I-c'), ('กลางคืน', 'I-c'), ('ก็', 'I-c'), ('รถทัวร์', 'I-c'), ('ครับ', 'I-c'), ('_', 'I-c'), ('_', 'O'), ('เพราะ', 'B-p'), ('รถ', 'I-p'), ('ไม่', 'I-p'), ('เยอะ', 'I-p'), ('_', 'I-p'), ('ความเสี่ยง', 'I-p'), ('การ', 'I-p'), ('เกิด', 'I-p'), ('อุบัติ', 'I-p'), ('ห', 'I-p'), ('ตุ', 'I-p'), ('ก็', 'I-p'), ('น้อย', 'I-p'), ('(', 'I-p'), ('มั้ง', 'I-p'), (')', 'I-p'), ('_', 'I-p'), ('_', 'O'), ('ถ้า', 'B-c'), ('กลางวัน', 'I-c'), ('ก็', 'I-c'), ('เครื่องบิน', 'I-c'), ('ครับ', 'I-c'), ('_', 'I-c'), ('_', 'O'), ('เพราะ', 'B-p'), ('_', 'I-p'), ('มัน', 'I-p'), ('ใช้เวลา', 'I-p'), ('น้อย', 'I-p'), ('จะ', 'I-p'), ('ได้', 'I-p'), ('มี', 'I-p'), ('เวลา', 'I-p'), ('ระหว่าง', 'I-p'), ('วัน', 'I-p'), ('เยอะ', 'I-p'), ('ๆ', 'I-p'), ('_', 'I-p')]\n"
     ]
    }
   ],
   "source": [
    "path_name = \"../dataset/data/\"\n",
    "\n",
    "with open(path_name + 'comment-pos.data', 'rb') as file:\n",
    "    datatofile = dill.load(file)\n",
    "\n",
    "tagged_sents = []\n",
    "for data in datatofile:\n",
    "    text_inside = []\n",
    "    for word, pos, label in data:\n",
    "        if word.strip() == '':\n",
    "            text_inside.append(('_', label))\n",
    "        else:\n",
    "            text_inside.append((word, label))\n",
    "    tagged_sents.append(text_inside)\n",
    "\n",
    "train_sents, test_sents = train_test_split(tagged_sents, test_size=0.2, random_state=42)\n",
    "print(len(train_sents))\n",
    "print(len(test_sents))\n",
    "print(train_sents[1])"
   ]
  },
  {
   "cell_type": "code",
   "execution_count": 42,
   "metadata": {},
   "outputs": [],
   "source": [
    "def convert_to_simple_transformer_format(sentences):\n",
    "    sentence_id = []\n",
    "    words = []\n",
    "    labels = []\n",
    "\n",
    "    for idx, sents in enumerate(sentences):\n",
    "        for word, label in sents:\n",
    "            label = label.upper().replace(\"-\", \"_\")\n",
    "            sentence_id.append(idx)\n",
    "            words.append(word)\n",
    "            labels.append(label)\n",
    "    return pd.DataFrame(\n",
    "        {\"sentence_id\": sentence_id, \"words\": words, \"labels\": labels}\n",
    "    )    "
   ]
  },
  {
   "cell_type": "code",
   "execution_count": 43,
   "metadata": {},
   "outputs": [
    {
     "data": {
      "text/html": [
       "<div>\n",
       "<style scoped>\n",
       "    .dataframe tbody tr th:only-of-type {\n",
       "        vertical-align: middle;\n",
       "    }\n",
       "\n",
       "    .dataframe tbody tr th {\n",
       "        vertical-align: top;\n",
       "    }\n",
       "\n",
       "    .dataframe thead th {\n",
       "        text-align: right;\n",
       "    }\n",
       "</style>\n",
       "<table border=\"1\" class=\"dataframe\">\n",
       "  <thead>\n",
       "    <tr style=\"text-align: right;\">\n",
       "      <th></th>\n",
       "      <th>sentence_id</th>\n",
       "      <th>words</th>\n",
       "      <th>labels</th>\n",
       "    </tr>\n",
       "  </thead>\n",
       "  <tbody>\n",
       "    <tr>\n",
       "      <th>0</th>\n",
       "      <td>0</td>\n",
       "      <td>อะไหล่</td>\n",
       "      <td>B_C</td>\n",
       "    </tr>\n",
       "    <tr>\n",
       "      <th>1</th>\n",
       "      <td>0</td>\n",
       "      <td>เทอร์โบ</td>\n",
       "      <td>I_C</td>\n",
       "    </tr>\n",
       "    <tr>\n",
       "      <th>2</th>\n",
       "      <td>0</td>\n",
       "      <td>_</td>\n",
       "      <td>I_C</td>\n",
       "    </tr>\n",
       "    <tr>\n",
       "      <th>3</th>\n",
       "      <td>0</td>\n",
       "      <td>อี</td>\n",
       "      <td>I_C</td>\n",
       "    </tr>\n",
       "    <tr>\n",
       "      <th>4</th>\n",
       "      <td>0</td>\n",
       "      <td>ซุ</td>\n",
       "      <td>I_C</td>\n",
       "    </tr>\n",
       "    <tr>\n",
       "      <th>...</th>\n",
       "      <td>...</td>\n",
       "      <td>...</td>\n",
       "      <td>...</td>\n",
       "    </tr>\n",
       "    <tr>\n",
       "      <th>37405</th>\n",
       "      <td>551</td>\n",
       "      <td>ทำ</td>\n",
       "      <td>I_P</td>\n",
       "    </tr>\n",
       "    <tr>\n",
       "      <th>37406</th>\n",
       "      <td>551</td>\n",
       "      <td>อะไร</td>\n",
       "      <td>I_P</td>\n",
       "    </tr>\n",
       "    <tr>\n",
       "      <th>37407</th>\n",
       "      <td>551</td>\n",
       "      <td>ได้</td>\n",
       "      <td>I_P</td>\n",
       "    </tr>\n",
       "    <tr>\n",
       "      <th>37408</th>\n",
       "      <td>551</td>\n",
       "      <td>หลายอย่าง</td>\n",
       "      <td>I_P</td>\n",
       "    </tr>\n",
       "    <tr>\n",
       "      <th>37409</th>\n",
       "      <td>551</td>\n",
       "      <td>_</td>\n",
       "      <td>I_P</td>\n",
       "    </tr>\n",
       "  </tbody>\n",
       "</table>\n",
       "<p>37410 rows × 3 columns</p>\n",
       "</div>"
      ],
      "text/plain": [
       "       sentence_id      words labels\n",
       "0                0     อะไหล่    B_C\n",
       "1                0    เทอร์โบ    I_C\n",
       "2                0          _    I_C\n",
       "3                0         อี    I_C\n",
       "4                0         ซุ    I_C\n",
       "...            ...        ...    ...\n",
       "37405          551         ทำ    I_P\n",
       "37406          551       อะไร    I_P\n",
       "37407          551        ได้    I_P\n",
       "37408          551  หลายอย่าง    I_P\n",
       "37409          551          _    I_P\n",
       "\n",
       "[37410 rows x 3 columns]"
      ]
     },
     "execution_count": 43,
     "metadata": {},
     "output_type": "execute_result"
    }
   ],
   "source": [
    "train_ = convert_to_simple_transformer_format(train_sents)\n",
    "train_"
   ]
  },
  {
   "cell_type": "code",
   "execution_count": 44,
   "metadata": {},
   "outputs": [],
   "source": [
    "test_ = convert_to_simple_transformer_format(test_sents)"
   ]
  },
  {
   "cell_type": "code",
   "execution_count": 45,
   "metadata": {},
   "outputs": [],
   "source": [
    "import torch\n",
    "from simpletransformers.ner import NERModel, NERArgs\n",
    "\n",
    "_NER_TAGS = [\"O\", \"B_C\", \"B_P\", \"I_C\", \"I_P\"]\n",
    "ner_args = NERArgs()\n",
    "ner_args.max_seq_length = 512\n",
    "test_ner = NERModel(\"bert\", 'outputs/checkpoint-4600-epoch-3', args=ner_args, use_cuda=torch.cuda.is_available(), labels=_NER_TAGS)"
   ]
  },
  {
   "cell_type": "code",
   "execution_count": 46,
   "metadata": {},
   "outputs": [
    {
     "name": "stderr",
     "output_type": "stream",
     "text": [
      "100%|██████████| 1/1 [00:07<00:00,  7.62s/it]\n",
      "Running Prediction: 100%|██████████| 18/18 [00:10<00:00,  1.64it/s]\n"
     ]
    }
   ],
   "source": [
    "test_list = []\n",
    "for sent in test_sents:\n",
    "    words = []\n",
    "    for word, label in sent:\n",
    "        words.append(word)\n",
    "    test_list.append(words)\n",
    "\n",
    "predictions, raw_outputs = test_ner.predict(test_list, split_on_space=False)"
   ]
  },
  {
   "cell_type": "code",
   "execution_count": 31,
   "metadata": {},
   "outputs": [],
   "source": [
    "predictions_ = []\n",
    "for sent in predictions:\n",
    "    sent_ = []\n",
    "    for word_lable in sent:\n",
    "        sent_.append(list(word_lable.items())[0])\n",
    "    predictions_.append(sent_)"
   ]
  },
  {
   "cell_type": "code",
   "execution_count": 32,
   "metadata": {},
   "outputs": [],
   "source": [
    "# get label test list\n",
    "y_test = []\n",
    "for sent in test_sents:\n",
    "    labels = []\n",
    "    for word, label in sent:\n",
    "        label = label.upper().replace(\"-\", \"_\")\n",
    "        labels.append(label)\n",
    "    y_test.append(labels)\n",
    "    \n",
    "# print(y_test[1])\n"
   ]
  },
  {
   "cell_type": "code",
   "execution_count": 33,
   "metadata": {},
   "outputs": [
    {
     "name": "stderr",
     "output_type": "stream",
     "text": [
      "100%|██████████| 1/1 [00:08<00:00,  8.21s/it]\n",
      "Running Prediction: 100%|██████████| 18/18 [00:11<00:00,  1.63it/s]\n"
     ]
    }
   ],
   "source": [
    "# get label pred list\n",
    "test_list = []\n",
    "for sent in test_sents:\n",
    "    words = []\n",
    "    for word, label in sent:\n",
    "        words.append(word)\n",
    "    test_list.append(words)\n",
    "\n",
    "predictions, raw_outputs = test_ner.predict(test_list, split_on_space=False)\n",
    "\n",
    "y_pred = []\n",
    "for preds in predictions:\n",
    "    y_pred.append([list(pred.items())[0][1] for pred in preds])\n",
    "\n",
    "# print(y_pred[1])"
   ]
  },
  {
   "cell_type": "markdown",
   "metadata": {},
   "source": [
    "# find problems"
   ]
  },
  {
   "cell_type": "markdown",
   "metadata": {},
   "source": [
    "## ปัญหา\n",
    "#### ติด ๆ แยกจากกันตรง index ที่ 10 (แก้แล้ว)\n",
    "#### ติด เวลา predict มีการตัดข้อความทำให้ ข้อความ predict ไม่เท่ากับ test"
   ]
  },
  {
   "cell_type": "code",
   "execution_count": 34,
   "metadata": {},
   "outputs": [
    {
     "name": "stdout",
     "output_type": "stream",
     "text": [
      "6 "
     ]
    }
   ],
   "source": [
    "# หาlabel ที่มีจำนวนไม่เท่ากัน\n",
    "y_pred_ = []\n",
    "y_test_ = []\n",
    "for i in range(len(y_test)):\n",
    "    if len(y_pred[i]) != len(y_test[i]):\n",
    "        # print(len(y_pred[i]), len(y_test[i]))\n",
    "        print(i, end=\" \")\n",
    "        continue;\n",
    "    y_pred_.append(y_pred[i])\n",
    "    y_test_.append(y_test[i])"
   ]
  },
  {
   "cell_type": "code",
   "execution_count": 36,
   "metadata": {},
   "outputs": [
    {
     "name": "stdout",
     "output_type": "stream",
     "text": [
      "max:  477\n",
      "6 "
     ]
    }
   ],
   "source": [
    "# หาค่า max ของ y_pred\n",
    "print(\"max: \", max(list(map(lambda x: len(x), y_pred))))\n",
    "\n",
    "for i in range(len(y_test)):\n",
    "    if len(y_test[i]) > 468:\n",
    "        print(i, end=\" \")"
   ]
  },
  {
   "cell_type": "code",
   "execution_count": 39,
   "metadata": {},
   "outputs": [
    {
     "name": "stdout",
     "output_type": "stream",
     "text": [
      "224\n",
      "[('สิ่ง', 'B_P'), ('สำคัญ', 'I_P'), ('ที่จะ', 'I_P'), ('ทำให้', 'I_P'), ('เรา', 'I_P'), ('กล้า', 'I_C'), ('พูด', 'I_C'), ('_', 'O'), ('กล้า', 'I_C'), ('คุย', 'I_P'), ('_', 'O'), ('กับ', 'I_C'), ('คนใน', 'I_C'), ('สังคม', 'I_C'), ('_', 'O'), ('ก่อนอื่น', 'I_P'), ('เรา', 'B_P'), ('ต้อง', 'I_P'), ('มีเรื่อง', 'B_C'), ('ที่', 'I_P'), ('เรา', 'I_P'), ('สนใจ', 'I_P'), ('เก็บ', 'I_P'), ('ไว้', 'I_P'), ('ใน', 'I_P'), ('ส', 'I_P'), ('ต้อ', 'I_P'), ('ค', 'I_P'), ('ก่อน', 'I_P'), ('ครับ', 'I_P'), ('_', 'I_P'), ('การ', 'I_P'), ('ที่', 'I_P'), ('เรา', 'I_P'), ('จะ', 'I_P'), ('คุยจ้อ', 'I_P'), ('ๆ', 'I_P'), ('_', 'I_P'), ('กับ', 'I_P'), ('ใคร', 'I_P'), ('ได้เรื่อง', 'I_P'), ('นึง', 'I_P'), ('_', 'O'), ('มัน', 'I_C'), ('ต้อง', 'I_P'), ('มีเรื่อง', 'O'), ('ที่', 'I_P'), ('_', 'O'), ('พูด', 'I_P'), ('กัน', 'I_P'), ('ได้', 'I_P'), ('_', 'O'), ('ทั้งสองฝ่าย', 'I_C'), ('ครับ', 'I_P'), ('_', 'O'), ('ข้อมูล', 'I_P'), ('พวก', 'O'), ('นี้', 'I_C'), ('_', 'O'), ('เอา', 'I_C'), ('มาจาก', 'I_P'), ('ไหน', 'I_P'), ('_', 'O'), ('เริ่ม', 'I_P'), ('จาก', 'I_P'), ('_', 'I_P'), ('อ่าน', 'I_P'), ('ข่าว', 'I_C'), ('ครับ', 'I_P'), ('_', 'I_P'), ('ข่าว', 'I_P'), ('เนี่ย', 'I_P'), ('_', 'O'), ('เป็ย', 'I_P'), ('เรื่อง', 'I_P'), ('อัพเดท', 'I_P'), ('ที่', 'I_P'), ('คน', 'O'), ('คุย', 'I_P'), ('กัน', 'I_P'), ('ทุกวัน', 'I_P'), ('_', 'I_P'), ('มีเรื่อง', 'I_P'), ('ใหม่', 'I_P'), ('ๆ', 'I_P'), ('_', 'I_P'), ('ตลอด', 'I_P'), ('_', 'I_P'), ('อ่าน', 'I_P'), ('ประเด็น', 'I_P'), ('เด่น', 'I_P'), ('ของ', 'I_P'), ('แต่ละวัน', 'I_P'), ('เอาไว้', 'I_P'), ('_', 'I_P'), ('เวลา', 'I_P'), ('เจอ', 'I_P'), ('ใคร', 'I_P'), ('เปิด', 'I_P'), ('มา', 'I_P'), ('_', 'I_P'), ('เรา', 'I_P'), ('จะ', 'I_P'), ('ได้', 'I_P'), ('ทัน', 'I_P'), ('_', 'I_P'), ('ดู', 'I_P'), ('หนัง', 'I_P'), ('_', 'I_P'), ('ดู', 'I_P'), ('ละคร', 'I_P'), ('_', 'I_P'), ('ดู', 'I_P'), ('ซี', 'I_P'), ('รี', 'I_P'), ('ย์', 'I_P'), ('_', 'I_P'), ('ก็', 'I_P'), ('ใช่', 'I_P'), ('_', 'I_P'), ('บางที', 'I_P'), ('_', 'I_P'), ('ไป', 'O'), ('เจอ', 'I_P'), ('คอเดียวกัน', 'I_P'), ('_', 'I_P'), ('คุย', 'I_P'), ('กัน', 'I_P'), ('ได้', 'I_P'), ('ยาว', 'I_P'), ('ๆ', 'I_P'), ('_', 'O'), ('เรื่อง', 'I_P'), ('ดนตรี', 'I_P'), ('_', 'O'), ('เรื่อง', 'I_P'), ('หนังสือ', 'I_P'), ('น่าอ่าน', 'I_P'), ('_', 'O'), ('เรื่อง', 'I_P'), ('หุ้น', 'I_P'), ('_', 'O'), ('การลงทุน', 'I_P'), ('_', 'O'), ('เรื่อง', 'I_P'), ('กีฬา', 'I_P'), ('_', 'I_P'), ('เรื่อง', 'I_P'), ('การ', 'I_P'), ('ดูแล', 'I_P'), ('สุขภาพ', 'I_P'), ('_', 'O'), ('เรื่อง', 'I_P'), ('ความรู้', 'I_P'), ('รอบตัว', 'I_P'), ('_', 'O'), ('เหล่านี้', 'I_P'), ('_', 'I_P'), ('ล้วนแต่', 'I_P'), ('เอา', 'I_P'), ('ไป', 'I_P'), ('ใช้ได้', 'I_P'), ('ใน', 'I_P'), ('สถานการณ์', 'I_C'), ('ที่', 'I_P'), ('ต้อง', 'I_P'), ('เจอ', 'I_P'), ('คน', 'I_P'), ('ครับ', 'I_C'), ('_', 'I_P'), ('แบบ', 'I_P'), ('ว่า', 'I_P'), ('_', 'O'), ('เค้า', 'I_C'), ('พูด', 'I_P'), ('เรื่อง', 'I_P'), ('ไร', 'I_P'), ('มา', 'I_P'), ('_', 'O'), ('เรา', 'B_P'), ('สามารถ', 'I_P'), ('ต่อ', 'I_P'), ('กับ', 'I_P'), ('เค้า', 'B_P'), ('ได้', 'I_P'), ('_', 'I_P'), ('นั่น', 'I_P'), ('จะ', 'I_P'), ('ทำให้', 'I_C'), ('เรา', 'B_P'), ('ชิล', 'I_P'), ('มากขึ้น', 'I_P'), ('ครับ', 'I_C'), ('_', 'O'), ('แต่', 'I_C'), ('เอา', 'I_P'), ('จริงๆ', 'I_P'), ('_', 'O'), ('ถ้า', 'B_C'), ('เข้าสังคม', 'I_P'), ('ไม่', 'I_C'), ('เก่ง', 'I_P'), ('_', 'O'), ('วางตัว', 'I_P'), ('ให้', 'I_P'), ('เหมาะสม', 'I_P'), ('_', 'O'), ('เป็น', 'I_P'), ('ผู้ฟัง', 'I_P'), ('ที่', 'I_P'), ('ดี', 'I_P'), ('_', 'O'), ('ก็', 'I_P'), ('เข้าสังคม', 'I_P'), ('ได้', 'I_P'), ('นะ', 'O'), ('ครับ', 'I_C'), ('_', 'O'), ('^^', 'I_C'), ('_', 'I_P'), ('เป็น', 'I_P'), ('กำลังใจ', 'I_P'), ('ให้', 'I_P'), ('ครับ', 'I_P')]\n"
     ]
    }
   ],
   "source": [
    "idx_ = 8\n",
    "print(len(predictions_[idx_]))\n",
    "print(predictions_[idx_])"
   ]
  },
  {
   "cell_type": "code",
   "execution_count": 13,
   "metadata": {},
   "outputs": [
    {
     "ename": "NameError",
     "evalue": "name 'idx_' is not defined",
     "output_type": "error",
     "traceback": [
      "\u001b[1;31m---------------------------------------------------------------------------\u001b[0m",
      "\u001b[1;31mNameError\u001b[0m                                 Traceback (most recent call last)",
      "\u001b[1;32me:\\project-argument-tagger\\bert\\solving_problems.ipynb Cell 16'\u001b[0m in \u001b[0;36m<cell line: 1>\u001b[1;34m()\u001b[0m\n\u001b[1;32m----> <a href='vscode-notebook-cell:/e%3A/project-argument-tagger/bert/solving_problems.ipynb#ch0000015?line=0'>1</a>\u001b[0m \u001b[39mprint\u001b[39m(\u001b[39mlen\u001b[39m(test_sents[idx_]))\n\u001b[0;32m      <a href='vscode-notebook-cell:/e%3A/project-argument-tagger/bert/solving_problems.ipynb#ch0000015?line=1'>2</a>\u001b[0m \u001b[39mprint\u001b[39m(test_sents[idx_])\n",
      "\u001b[1;31mNameError\u001b[0m: name 'idx_' is not defined"
     ]
    }
   ],
   "source": [
    "print(len(test_sents[idx_]))\n",
    "print(test_sents[idx_])"
   ]
  },
  {
   "cell_type": "code",
   "execution_count": null,
   "metadata": {},
   "outputs": [],
   "source": []
  }
 ],
 "metadata": {
  "interpreter": {
   "hash": "a6dc3a5d5e5e7987cc7d18355d6f408e2f42f41b0aca7d07c9009e9d98d8dd16"
  },
  "kernelspec": {
   "display_name": "Python 3.8.12 ('argument')",
   "language": "python",
   "name": "python3"
  },
  "language_info": {
   "codemirror_mode": {
    "name": "ipython",
    "version": 3
   },
   "file_extension": ".py",
   "mimetype": "text/x-python",
   "name": "python",
   "nbconvert_exporter": "python",
   "pygments_lexer": "ipython3",
   "version": "3.8.12"
  },
  "orig_nbformat": 4
 },
 "nbformat": 4,
 "nbformat_minor": 2
}
