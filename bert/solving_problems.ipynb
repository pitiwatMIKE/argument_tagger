{
 "cells": [
  {
   "cell_type": "code",
   "execution_count": 2,
   "metadata": {},
   "outputs": [],
   "source": [
    "import dill\n",
    "import pandas as pd\n",
    "from sklearn.model_selection import train_test_split"
   ]
  },
  {
   "cell_type": "code",
   "execution_count": 3,
   "metadata": {},
   "outputs": [
    {
     "name": "stdout",
     "output_type": "stream",
     "text": [
      "552\n",
      "138\n",
      "[('ถ้า', 'B-c'), ('เดินทาง', 'I-c'), ('กลางคืน', 'I-c'), ('ก็', 'I-c'), ('รถทัวร์', 'I-c'), ('ครับ', 'I-c'), ('_', 'I-c'), ('_', 'O'), ('เพราะ', 'B-p'), ('รถ', 'I-p'), ('ไม่', 'I-p'), ('เยอะ', 'I-p'), ('_', 'I-p'), ('ความเสี่ยง', 'I-p'), ('การ', 'I-p'), ('เกิด', 'I-p'), ('อุบัติ', 'I-p'), ('ห', 'I-p'), ('ตุ', 'I-p'), ('ก็', 'I-p'), ('น้อย', 'I-p'), ('(', 'I-p'), ('มั้ง', 'I-p'), (')', 'I-p'), ('_', 'I-p'), ('_', 'O'), ('ถ้า', 'B-c'), ('กลางวัน', 'I-c'), ('ก็', 'I-c'), ('เครื่องบิน', 'I-c'), ('ครับ', 'I-c'), ('_', 'I-c'), ('_', 'O'), ('เพราะ', 'B-p'), ('_', 'I-p'), ('มัน', 'I-p'), ('ใช้เวลา', 'I-p'), ('น้อย', 'I-p'), ('จะ', 'I-p'), ('ได้', 'I-p'), ('มี', 'I-p'), ('เวลา', 'I-p'), ('ระหว่าง', 'I-p'), ('วัน', 'I-p'), ('เยอะ', 'I-p'), ('ๆ', 'I-p'), ('_', 'I-p')]\n"
     ]
    }
   ],
   "source": [
    "path_name = \"../dataset/data/\"\n",
    "\n",
    "with open(path_name + 'comment-pos.data', 'rb') as file:\n",
    "    datatofile = dill.load(file)\n",
    "\n",
    "tagged_sents = []\n",
    "for data in datatofile:\n",
    "    text_inside = []\n",
    "    for word, pos, label in data:\n",
    "        if word.strip() == '':\n",
    "            text_inside.append(('_', label))\n",
    "        else:\n",
    "            text_inside.append((word, label))\n",
    "    tagged_sents.append(text_inside)\n",
    "\n",
    "train_sents, test_sents = train_test_split(tagged_sents, test_size=0.2, random_state=42)\n",
    "print(len(train_sents))\n",
    "print(len(test_sents))\n",
    "print(train_sents[1])"
   ]
  },
  {
   "cell_type": "code",
   "execution_count": 5,
   "metadata": {},
   "outputs": [],
   "source": [
    "def convert_to_simple_transformer_format(sentences):\n",
    "    sentence_id = []\n",
    "    words = []\n",
    "    labels = []\n",
    "\n",
    "    for idx, sents in enumerate(sentences):\n",
    "        for word, label in sents:\n",
    "            label = label.upper().replace(\"-\", \"_\")\n",
    "            sentence_id.append(idx)\n",
    "            words.append(word)\n",
    "            labels.append(label)\n",
    "    return pd.DataFrame(\n",
    "        {\"sentence_id\": sentence_id, \"words\": words, \"labels\": labels}\n",
    "    )    "
   ]
  },
  {
   "cell_type": "code",
   "execution_count": 6,
   "metadata": {},
   "outputs": [
    {
     "data": {
      "text/html": [
       "<div>\n",
       "<style scoped>\n",
       "    .dataframe tbody tr th:only-of-type {\n",
       "        vertical-align: middle;\n",
       "    }\n",
       "\n",
       "    .dataframe tbody tr th {\n",
       "        vertical-align: top;\n",
       "    }\n",
       "\n",
       "    .dataframe thead th {\n",
       "        text-align: right;\n",
       "    }\n",
       "</style>\n",
       "<table border=\"1\" class=\"dataframe\">\n",
       "  <thead>\n",
       "    <tr style=\"text-align: right;\">\n",
       "      <th></th>\n",
       "      <th>sentence_id</th>\n",
       "      <th>words</th>\n",
       "      <th>labels</th>\n",
       "    </tr>\n",
       "  </thead>\n",
       "  <tbody>\n",
       "    <tr>\n",
       "      <th>0</th>\n",
       "      <td>0</td>\n",
       "      <td>อะไหล่</td>\n",
       "      <td>B_C</td>\n",
       "    </tr>\n",
       "    <tr>\n",
       "      <th>1</th>\n",
       "      <td>0</td>\n",
       "      <td>เทอร์โบ</td>\n",
       "      <td>I_C</td>\n",
       "    </tr>\n",
       "    <tr>\n",
       "      <th>2</th>\n",
       "      <td>0</td>\n",
       "      <td>_</td>\n",
       "      <td>I_C</td>\n",
       "    </tr>\n",
       "    <tr>\n",
       "      <th>3</th>\n",
       "      <td>0</td>\n",
       "      <td>อี</td>\n",
       "      <td>I_C</td>\n",
       "    </tr>\n",
       "    <tr>\n",
       "      <th>4</th>\n",
       "      <td>0</td>\n",
       "      <td>ซุ</td>\n",
       "      <td>I_C</td>\n",
       "    </tr>\n",
       "    <tr>\n",
       "      <th>...</th>\n",
       "      <td>...</td>\n",
       "      <td>...</td>\n",
       "      <td>...</td>\n",
       "    </tr>\n",
       "    <tr>\n",
       "      <th>37405</th>\n",
       "      <td>551</td>\n",
       "      <td>ทำ</td>\n",
       "      <td>I_P</td>\n",
       "    </tr>\n",
       "    <tr>\n",
       "      <th>37406</th>\n",
       "      <td>551</td>\n",
       "      <td>อะไร</td>\n",
       "      <td>I_P</td>\n",
       "    </tr>\n",
       "    <tr>\n",
       "      <th>37407</th>\n",
       "      <td>551</td>\n",
       "      <td>ได้</td>\n",
       "      <td>I_P</td>\n",
       "    </tr>\n",
       "    <tr>\n",
       "      <th>37408</th>\n",
       "      <td>551</td>\n",
       "      <td>หลายอย่าง</td>\n",
       "      <td>I_P</td>\n",
       "    </tr>\n",
       "    <tr>\n",
       "      <th>37409</th>\n",
       "      <td>551</td>\n",
       "      <td>_</td>\n",
       "      <td>I_P</td>\n",
       "    </tr>\n",
       "  </tbody>\n",
       "</table>\n",
       "<p>37410 rows × 3 columns</p>\n",
       "</div>"
      ],
      "text/plain": [
       "       sentence_id      words labels\n",
       "0                0     อะไหล่    B_C\n",
       "1                0    เทอร์โบ    I_C\n",
       "2                0          _    I_C\n",
       "3                0         อี    I_C\n",
       "4                0         ซุ    I_C\n",
       "...            ...        ...    ...\n",
       "37405          551         ทำ    I_P\n",
       "37406          551       อะไร    I_P\n",
       "37407          551        ได้    I_P\n",
       "37408          551  หลายอย่าง    I_P\n",
       "37409          551          _    I_P\n",
       "\n",
       "[37410 rows x 3 columns]"
      ]
     },
     "execution_count": 6,
     "metadata": {},
     "output_type": "execute_result"
    }
   ],
   "source": [
    "train_ = convert_to_simple_transformer_format(train_sents)\n",
    "train_"
   ]
  },
  {
   "cell_type": "code",
   "execution_count": 7,
   "metadata": {},
   "outputs": [],
   "source": [
    "test_ = convert_to_simple_transformer_format(test_sents)"
   ]
  },
  {
   "cell_type": "code",
   "execution_count": 9,
   "metadata": {},
   "outputs": [],
   "source": [
    "import torch\n",
    "from simpletransformers.ner import NERModel, NERArgs\n",
    "\n",
    "_NER_TAGS = [\"O\", \"B_C\", \"B_P\", \"I_C\", \"I_P\"]\n",
    "ner_args = NERArgs()\n",
    "test_ner = NERModel(\"bert\", 'outputs/checkpoint-4600-epoch-3', args=ner_args, use_cuda=torch.cuda.is_available(), labels=_NER_TAGS)"
   ]
  },
  {
   "cell_type": "code",
   "execution_count": 10,
   "metadata": {},
   "outputs": [
    {
     "name": "stderr",
     "output_type": "stream",
     "text": [
      "100%|██████████| 1/1 [00:07<00:00,  7.48s/it]\n",
      "Running Prediction: 100%|██████████| 18/18 [00:04<00:00,  4.43it/s]\n"
     ]
    }
   ],
   "source": [
    "test_list = []\n",
    "for sent in test_sents:\n",
    "    words = []\n",
    "    for word, label in sent:\n",
    "        words.append(word)\n",
    "    test_list.append(words)\n",
    "\n",
    "predictions, raw_outputs = test_ner.predict(test_list, split_on_space=False)"
   ]
  },
  {
   "cell_type": "code",
   "execution_count": 13,
   "metadata": {},
   "outputs": [],
   "source": [
    "predictions_ = []\n",
    "for sent in predictions:\n",
    "    sent_ = []\n",
    "    for word_lable in sent:\n",
    "        sent_.append(list(word_lable.items())[0])\n",
    "    predictions_.append(sent_)"
   ]
  },
  {
   "cell_type": "code",
   "execution_count": 17,
   "metadata": {},
   "outputs": [],
   "source": [
    "# get label test list\n",
    "y_test = []\n",
    "for sent in test_sents:\n",
    "    labels = []\n",
    "    for word, label in sent:\n",
    "        label = label.upper().replace(\"-\", \"_\")\n",
    "        labels.append(label)\n",
    "    y_test.append(labels)\n",
    "    \n",
    "# print(y_test[1])\n"
   ]
  },
  {
   "cell_type": "code",
   "execution_count": 18,
   "metadata": {},
   "outputs": [
    {
     "name": "stderr",
     "output_type": "stream",
     "text": [
      "100%|██████████| 1/1 [00:08<00:00,  8.24s/it]\n",
      "Running Prediction: 100%|██████████| 18/18 [00:02<00:00,  7.43it/s]\n"
     ]
    }
   ],
   "source": [
    "# get label pred list\n",
    "test_list = []\n",
    "for sent in test_sents:\n",
    "    words = []\n",
    "    for word, label in sent:\n",
    "        words.append(word)\n",
    "    test_list.append(words)\n",
    "\n",
    "predictions, raw_outputs = test_ner.predict(test_list, split_on_space=False)\n",
    "\n",
    "y_pred = []\n",
    "for preds in predictions:\n",
    "    y_pred.append([list(pred.items())[0][1] for pred in preds])\n",
    "\n",
    "# print(y_pred[1])"
   ]
  },
  {
   "cell_type": "markdown",
   "metadata": {},
   "source": [
    "# find problems"
   ]
  },
  {
   "cell_type": "markdown",
   "metadata": {},
   "source": [
    "## ปัญหา\n",
    "#### ติด ๆ แยกจากกันตรง index ที่ 10 (แก้แล้ว)\n",
    "#### ติด เวลา predict มีการตัดข้อความทำให้ ข้อความ predict ไม่เท่ากับ test"
   ]
  },
  {
   "cell_type": "code",
   "execution_count": 20,
   "metadata": {},
   "outputs": [
    {
     "name": "stdout",
     "output_type": "stream",
     "text": [
      "6 8 18 21 29 34 37 39 42 55 81 85 97 101 120 123 124 127 128 "
     ]
    }
   ],
   "source": [
    "# หาlabel ที่มีจำนวนไม่เท่ากัน\n",
    "y_pred_ = []\n",
    "y_test_ = []\n",
    "for i in range(len(y_test)):\n",
    "    if len(y_pred[i]) != len(y_test[i]):\n",
    "        # print(len(y_pred[i]), len(y_test[i]))\n",
    "        print(i, end=\" \")\n",
    "        continue;\n",
    "    y_pred_.append(y_pred[i])\n",
    "    y_test_.append(y_test[i])"
   ]
  },
  {
   "cell_type": "code",
   "execution_count": 23,
   "metadata": {},
   "outputs": [
    {
     "name": "stdout",
     "output_type": "stream",
     "text": [
      "max:  126\n",
      "6 8 18 21 29 34 37 39 42 55 81 85 97 101 120 123 124 127 128 "
     ]
    }
   ],
   "source": [
    "# หาค่า max ของ y_pred\n",
    "print(\"max: \", max(list(map(lambda x: len(x), y_pred))))\n",
    "\n",
    "for i in range(len(y_test)):\n",
    "    if len(y_test[i]) > 126:\n",
    "        print(i, end=\" \")"
   ]
  },
  {
   "cell_type": "code",
   "execution_count": 24,
   "metadata": {},
   "outputs": [
    {
     "name": "stdout",
     "output_type": "stream",
     "text": [
      "121\n",
      "[('อย่า', 'B_C'), ('ไป', 'I_C'), ('มอง', 'I_C'), ('เรื่อง', 'I_P'), ('ความ', 'I_C'), ('คุ้ม', 'I_C'), ('ความ', 'I_C'), ('กำไร', 'I_C'), ('อะไร', 'O'), ('เลย', 'I_C'), ('ครับ', 'I_C'), ('_', 'O'), ('เอา', 'O'), ('ที่', 'I_P'), ('มีประโยชน์', 'I_P'), ('ต่อ', 'I_P'), ('เรา', 'B_P'), ('มาก', 'I_P'), ('ๆ', 'I_P'), ('_', 'O'), ('ดีกว่า', 'I_P'), ('_', 'O'), ('ต้อง', 'I_P'), ('ถาม', 'O'), ('ก่อน', 'O'), ('ว่า', 'O'), ('คุณ', 'I_P'), ('จะ', 'I_P'), ('เปลี่ยน', 'O'), ('ที่ทำงาน', 'I_P'), ('อีก', 'I_P'), ('ไหม', 'O'), ('จะ', 'I_P'), ('ไป', 'O'), ('จังหวัด', 'O'), ('อื่น', 'O'), ('หรือ', 'O'), ('ป่าว', 'O'), ('อยู่', 'I_P'), ('คนเดียว', 'O'), ('หรือ', 'O'), ('มีครอบครัว', 'O'), ('พ่อแม่', 'O'), ('_', 'O'), ('พี่น้อง', 'O'), ('_', 'O'), ('มี', 'O'), ('แฟน', 'O'), ('ไหม', 'O'), ('_', 'O'), ('ถ้า', 'O'), ('มี', 'O'), ('แล้ว', 'O'), ('แฟน', 'O'), ('มี', 'O'), ('รถ', 'O'), ('ไหม', 'O'), ('หรือ', 'O'), ('มี', 'O'), ('บ้าน', 'O'), ('ก็', 'O'), ('ว่า', 'O'), ('ไป', 'O'), ('_', 'O'), ('แล้ว', 'O'), ('ค่อย', 'O'), ('มา', 'O'), ('ตัดสิน', 'O'), ('_', 'O'), ('แต่', 'O'), ('แนะนำ', 'O'), ('นิด', 'O'), ('นะ', 'O'), ('ครับ', 'I_P'), ('ถ้า', 'O'), ('อยากได้', 'O'), ('ทั้ง', 'O'), ('_', 'O'), ('2', 'O'), ('_', 'O'), ('เลย', 'O'), ('ในอนาคต', 'O'), ('ให้', 'O'), ('เลือก', 'O'), ('รถ', 'O'), ('ก่อน', 'O'), ('ดีกว่า', 'O'), ('เพราะ', 'O'), ('มัน', 'I_P'), ('สามารถ', 'I_P'), ('ช่วย', 'I_P'), ('เรา', 'O'), ('หารายได้', 'O'), ('เพิ่ม', 'O'), ('ได้', 'O'), ('แต่', 'O'), ('ถ้า', 'O'), ('คุณ', 'O'), ('เลือก', 'O'), ('บ้าน', 'O'), ('ก่อน', 'O'), ('แล้ว', 'O'), ('คุณ', 'O'), ('ไม่', 'I_P'), ('ได้', 'O'), ('มี', 'O'), ('รายได้', 'O'), ('เพิ่มขึ้น', 'I_P'), ('กว่า', 'I_P'), ('นี้', 'O'), ('โอกาส', 'I_P'), ('ที่', 'O'), ('คุณ', 'O'), ('จะ', 'O'), ('ได้', 'O'), ('รถ', 'O'), ('ก็', 'O'), ('คง', 'O'), ('แก่', 'O'), ('พอดี', 'O'), ('ครับ', 'I_P')]\n"
     ]
    }
   ],
   "source": [
    "idx_ = 1\n",
    "print(len(predictions_[idx_]))\n",
    "print(predictions_[idx_])"
   ]
  },
  {
   "cell_type": "code",
   "execution_count": 26,
   "metadata": {},
   "outputs": [
    {
     "name": "stdout",
     "output_type": "stream",
     "text": [
      "121\n",
      "[('อย่า', 'O'), ('ไป', 'O'), ('มอง', 'O'), ('เรื่อง', 'O'), ('ความ', 'O'), ('คุ้ม', 'O'), ('ความ', 'O'), ('กำไร', 'O'), ('อะไร', 'O'), ('เลย', 'O'), ('ครับ', 'O'), ('_', 'O'), ('เอา', 'O'), ('ที่', 'O'), ('มีประโยชน์', 'O'), ('ต่อ', 'O'), ('เรา', 'O'), ('มาก', 'O'), ('ๆ', 'O'), ('_', 'O'), ('ดีกว่า', 'O'), ('_', 'O'), ('ต้อง', 'O'), ('ถาม', 'O'), ('ก่อน', 'O'), ('ว่า', 'O'), ('คุณ', 'O'), ('จะ', 'O'), ('เปลี่ยน', 'O'), ('ที่ทำงาน', 'O'), ('อีก', 'O'), ('ไหม', 'O'), ('จะ', 'O'), ('ไป', 'O'), ('จังหวัด', 'O'), ('อื่น', 'O'), ('หรือ', 'O'), ('ป่าว', 'O'), ('อยู่', 'O'), ('คนเดียว', 'O'), ('หรือ', 'O'), ('มีครอบครัว', 'O'), ('พ่อแม่', 'O'), ('_', 'O'), ('พี่น้อง', 'O'), ('_', 'O'), ('มี', 'O'), ('แฟน', 'O'), ('ไหม', 'O'), ('_', 'O'), ('ถ้า', 'O'), ('มี', 'O'), ('แล้ว', 'O'), ('แฟน', 'O'), ('มี', 'O'), ('รถ', 'O'), ('ไหม', 'O'), ('หรือ', 'O'), ('มี', 'O'), ('บ้าน', 'O'), ('ก็', 'O'), ('ว่า', 'O'), ('ไป', 'O'), ('_', 'O'), ('แล้ว', 'O'), ('ค่อย', 'O'), ('มา', 'O'), ('ตัดสิน', 'O'), ('_', 'O'), ('แต่', 'B-c'), ('แนะนำ', 'I-c'), ('นิด', 'I-c'), ('นะ', 'I-c'), ('ครับ', 'I-c'), ('ถ้า', 'I-c'), ('อยากได้', 'I-c'), ('ทั้ง', 'I-c'), ('_', 'I-c'), ('2', 'I-c'), ('_', 'I-c'), ('เลย', 'I-c'), ('ในอนาคต', 'I-c'), ('ให้', 'I-c'), ('เลือก', 'I-c'), ('รถ', 'I-c'), ('ก่อน', 'I-c'), ('ดีกว่า', 'I-c'), ('เพราะ', 'B-p'), ('มัน', 'I-p'), ('สามารถ', 'I-p'), ('ช่วย', 'I-p'), ('เรา', 'I-p'), ('หารายได้', 'I-p'), ('เพิ่ม', 'I-p'), ('ได้', 'I-p'), ('แต่', 'O'), ('ถ้า', 'O'), ('คุณ', 'O'), ('เลือก', 'O'), ('บ้าน', 'O'), ('ก่อน', 'O'), ('แล้ว', 'O'), ('คุณ', 'O'), ('ไม่', 'O'), ('ได้', 'O'), ('มี', 'O'), ('รายได้', 'O'), ('เพิ่มขึ้น', 'O'), ('กว่า', 'O'), ('นี้', 'O'), ('โอกาส', 'O'), ('ที่', 'O'), ('คุณ', 'O'), ('จะ', 'O'), ('ได้', 'O'), ('รถ', 'O'), ('ก็', 'O'), ('คง', 'O'), ('แก่', 'O'), ('พอดี', 'O'), ('ครับ', 'O')]\n"
     ]
    }
   ],
   "source": [
    "print(len(test_sents[idx_]))\n",
    "print(test_sents[idx_])"
   ]
  },
  {
   "cell_type": "code",
   "execution_count": null,
   "metadata": {},
   "outputs": [],
   "source": []
  }
 ],
 "metadata": {
  "interpreter": {
   "hash": "a6dc3a5d5e5e7987cc7d18355d6f408e2f42f41b0aca7d07c9009e9d98d8dd16"
  },
  "kernelspec": {
   "display_name": "Python 3.8.12 ('argument')",
   "language": "python",
   "name": "python3"
  },
  "language_info": {
   "codemirror_mode": {
    "name": "ipython",
    "version": 3
   },
   "file_extension": ".py",
   "mimetype": "text/x-python",
   "name": "python",
   "nbconvert_exporter": "python",
   "pygments_lexer": "ipython3",
   "version": "3.8.12"
  },
  "orig_nbformat": 4
 },
 "nbformat": 4,
 "nbformat_minor": 2
}
