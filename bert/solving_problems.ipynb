{
 "cells": [
  {
   "cell_type": "code",
   "execution_count": 3,
   "metadata": {},
   "outputs": [],
   "source": [
    "import dill\n",
    "import pandas as pd\n",
    "from sklearn.model_selection import train_test_split"
   ]
  },
  {
   "cell_type": "code",
   "execution_count": 4,
   "metadata": {},
   "outputs": [
    {
     "name": "stdout",
     "output_type": "stream",
     "text": [
      "552\n",
      "138\n",
      "[('ถ้า', 'B-c'), ('เดินทาง', 'I-c'), ('กลางคืน', 'I-c'), ('ก็', 'I-c'), ('รถทัวร์', 'I-c'), ('ครับ', 'I-c'), ('_', 'I-c'), ('_', 'O'), ('เพราะ', 'B-p'), ('รถ', 'I-p'), ('ไม่', 'I-p'), ('เยอะ', 'I-p'), ('_', 'I-p'), ('ความเสี่ยง', 'I-p'), ('การ', 'I-p'), ('เกิด', 'I-p'), ('อุบัติ', 'I-p'), ('ห', 'I-p'), ('ตุ', 'I-p'), ('ก็', 'I-p'), ('น้อย', 'I-p'), ('(', 'I-p'), ('มั้ง', 'I-p'), (')', 'I-p'), ('_', 'I-p'), ('_', 'O'), ('ถ้า', 'B-c'), ('กลางวัน', 'I-c'), ('ก็', 'I-c'), ('เครื่องบิน', 'I-c'), ('ครับ', 'I-c'), ('_', 'I-c'), ('_', 'O'), ('เพราะ', 'B-p'), ('_', 'I-p'), ('มัน', 'I-p'), ('ใช้เวลา', 'I-p'), ('น้อย', 'I-p'), ('จะ', 'I-p'), ('ได้', 'I-p'), ('มี', 'I-p'), ('เวลา', 'I-p'), ('ระหว่าง', 'I-p'), ('วัน', 'I-p'), ('เยอะ', 'I-p'), ('ๆ', 'I-p'), ('_', 'I-p')]\n"
     ]
    }
   ],
   "source": [
    "path_name = \"../dataset/data/\"\n",
    "\n",
    "with open(path_name + 'comment-pos.data', 'rb') as file:\n",
    "    datatofile = dill.load(file)\n",
    "\n",
    "tagged_sents = []\n",
    "for data in datatofile:\n",
    "    text_inside = []\n",
    "    for word, pos, label in data:\n",
    "        if word.strip() == '':\n",
    "            text_inside.append(('_', label))\n",
    "        else:\n",
    "            text_inside.append((word, label))\n",
    "    tagged_sents.append(text_inside)\n",
    "\n",
    "train_sents, test_sents = train_test_split(tagged_sents, test_size=0.2, random_state=42)\n",
    "print(len(train_sents))\n",
    "print(len(test_sents))\n",
    "print(train_sents[1])"
   ]
  },
  {
   "cell_type": "code",
   "execution_count": 5,
   "metadata": {},
   "outputs": [],
   "source": [
    "def convert_to_simple_transformer_format(sentences):\n",
    "    sentence_id = []\n",
    "    words = []\n",
    "    labels = []\n",
    "\n",
    "    for idx, sents in enumerate(sentences):\n",
    "        for word, label in sents:\n",
    "            label = label.upper().replace(\"-\", \"_\")\n",
    "            sentence_id.append(idx)\n",
    "            words.append(word)\n",
    "            labels.append(label)\n",
    "    return pd.DataFrame(\n",
    "        {\"sentence_id\": sentence_id, \"words\": words, \"labels\": labels}\n",
    "    )    "
   ]
  },
  {
   "cell_type": "code",
   "execution_count": 6,
   "metadata": {},
   "outputs": [
    {
     "data": {
      "text/html": [
       "<div>\n",
       "<style scoped>\n",
       "    .dataframe tbody tr th:only-of-type {\n",
       "        vertical-align: middle;\n",
       "    }\n",
       "\n",
       "    .dataframe tbody tr th {\n",
       "        vertical-align: top;\n",
       "    }\n",
       "\n",
       "    .dataframe thead th {\n",
       "        text-align: right;\n",
       "    }\n",
       "</style>\n",
       "<table border=\"1\" class=\"dataframe\">\n",
       "  <thead>\n",
       "    <tr style=\"text-align: right;\">\n",
       "      <th></th>\n",
       "      <th>sentence_id</th>\n",
       "      <th>words</th>\n",
       "      <th>labels</th>\n",
       "    </tr>\n",
       "  </thead>\n",
       "  <tbody>\n",
       "    <tr>\n",
       "      <th>0</th>\n",
       "      <td>0</td>\n",
       "      <td>อะไหล่</td>\n",
       "      <td>B_C</td>\n",
       "    </tr>\n",
       "    <tr>\n",
       "      <th>1</th>\n",
       "      <td>0</td>\n",
       "      <td>เทอร์โบ</td>\n",
       "      <td>I_C</td>\n",
       "    </tr>\n",
       "    <tr>\n",
       "      <th>2</th>\n",
       "      <td>0</td>\n",
       "      <td>_</td>\n",
       "      <td>I_C</td>\n",
       "    </tr>\n",
       "    <tr>\n",
       "      <th>3</th>\n",
       "      <td>0</td>\n",
       "      <td>อี</td>\n",
       "      <td>I_C</td>\n",
       "    </tr>\n",
       "    <tr>\n",
       "      <th>4</th>\n",
       "      <td>0</td>\n",
       "      <td>ซุ</td>\n",
       "      <td>I_C</td>\n",
       "    </tr>\n",
       "    <tr>\n",
       "      <th>...</th>\n",
       "      <td>...</td>\n",
       "      <td>...</td>\n",
       "      <td>...</td>\n",
       "    </tr>\n",
       "    <tr>\n",
       "      <th>37405</th>\n",
       "      <td>551</td>\n",
       "      <td>ทำ</td>\n",
       "      <td>I_P</td>\n",
       "    </tr>\n",
       "    <tr>\n",
       "      <th>37406</th>\n",
       "      <td>551</td>\n",
       "      <td>อะไร</td>\n",
       "      <td>I_P</td>\n",
       "    </tr>\n",
       "    <tr>\n",
       "      <th>37407</th>\n",
       "      <td>551</td>\n",
       "      <td>ได้</td>\n",
       "      <td>I_P</td>\n",
       "    </tr>\n",
       "    <tr>\n",
       "      <th>37408</th>\n",
       "      <td>551</td>\n",
       "      <td>หลายอย่าง</td>\n",
       "      <td>I_P</td>\n",
       "    </tr>\n",
       "    <tr>\n",
       "      <th>37409</th>\n",
       "      <td>551</td>\n",
       "      <td>_</td>\n",
       "      <td>I_P</td>\n",
       "    </tr>\n",
       "  </tbody>\n",
       "</table>\n",
       "<p>37410 rows × 3 columns</p>\n",
       "</div>"
      ],
      "text/plain": [
       "       sentence_id      words labels\n",
       "0                0     อะไหล่    B_C\n",
       "1                0    เทอร์โบ    I_C\n",
       "2                0          _    I_C\n",
       "3                0         อี    I_C\n",
       "4                0         ซุ    I_C\n",
       "...            ...        ...    ...\n",
       "37405          551         ทำ    I_P\n",
       "37406          551       อะไร    I_P\n",
       "37407          551        ได้    I_P\n",
       "37408          551  หลายอย่าง    I_P\n",
       "37409          551          _    I_P\n",
       "\n",
       "[37410 rows x 3 columns]"
      ]
     },
     "execution_count": 6,
     "metadata": {},
     "output_type": "execute_result"
    }
   ],
   "source": [
    "train_ = convert_to_simple_transformer_format(train_sents)\n",
    "train_"
   ]
  },
  {
   "cell_type": "code",
   "execution_count": 7,
   "metadata": {},
   "outputs": [],
   "source": [
    "test_ = convert_to_simple_transformer_format(test_sents)"
   ]
  },
  {
   "cell_type": "code",
   "execution_count": 8,
   "metadata": {},
   "outputs": [],
   "source": [
    "import torch\n",
    "from simpletransformers.ner import NERModel, NERArgs\n",
    "\n",
    "_NER_TAGS = [\"O\", \"B_C\", \"B_P\", \"I_C\", \"I_P\"]\n",
    "ner_args = NERArgs()\n",
    "ner_args.max_seq_length = 512\n",
    "test_ner = NERModel(\"bert\", 'model_seq_512/save_model', args=ner_args, use_cuda=torch.cuda.is_available(), labels=_NER_TAGS)"
   ]
  },
  {
   "cell_type": "code",
   "execution_count": 9,
   "metadata": {},
   "outputs": [
    {
     "name": "stderr",
     "output_type": "stream",
     "text": [
      "100%|██████████| 1/1 [00:07<00:00,  7.48s/it]\n",
      "Running Prediction: 100%|██████████| 18/18 [00:14<00:00,  1.25it/s]\n"
     ]
    }
   ],
   "source": [
    "test_list = []\n",
    "for sent in test_sents:\n",
    "    words = []\n",
    "    for word, label in sent:\n",
    "        words.append(word)\n",
    "    test_list.append(words)\n",
    "\n",
    "predictions, raw_outputs = test_ner.predict(test_list, split_on_space=False)"
   ]
  },
  {
   "cell_type": "code",
   "execution_count": 10,
   "metadata": {},
   "outputs": [],
   "source": [
    "predictions_ = []\n",
    "for sent in predictions:\n",
    "    sent_ = []\n",
    "    for word_lable in sent:\n",
    "        sent_.append(list(word_lable.items())[0])\n",
    "    predictions_.append(sent_)"
   ]
  },
  {
   "cell_type": "code",
   "execution_count": 11,
   "metadata": {},
   "outputs": [],
   "source": [
    "# get label test list\n",
    "y_test = []\n",
    "for sent in test_sents:\n",
    "    labels = []\n",
    "    for word, label in sent:\n",
    "        label = label.upper().replace(\"-\", \"_\")\n",
    "        labels.append(label)\n",
    "    y_test.append(labels)\n",
    "    \n",
    "# print(y_test[1])\n"
   ]
  },
  {
   "cell_type": "code",
   "execution_count": 12,
   "metadata": {},
   "outputs": [
    {
     "name": "stderr",
     "output_type": "stream",
     "text": [
      "100%|██████████| 1/1 [00:08<00:00,  8.23s/it]\n",
      "Running Prediction: 100%|██████████| 18/18 [00:11<00:00,  1.61it/s]\n"
     ]
    }
   ],
   "source": [
    "# get label pred list\n",
    "test_list = []\n",
    "for sent in test_sents:\n",
    "    words = []\n",
    "    for word, label in sent:\n",
    "        words.append(word)\n",
    "    test_list.append(words)\n",
    "\n",
    "predictions, raw_outputs = test_ner.predict(test_list, split_on_space=False)\n",
    "\n",
    "y_pred = []\n",
    "for preds in predictions:\n",
    "    y_pred.append([list(pred.items())[0][1] for pred in preds])\n",
    "\n",
    "# print(y_pred[1])"
   ]
  },
  {
   "cell_type": "markdown",
   "metadata": {},
   "source": [
    "# find problems"
   ]
  },
  {
   "cell_type": "markdown",
   "metadata": {},
   "source": [
    "## ปัญหา\n",
    "#### ติด ๆ แยกจากกันตรง index ที่ 10 (แก้แล้ว)\n",
    "#### ติด เวลา predict มีการตัดข้อความทำให้ ข้อความ predict ไม่เท่ากับ test"
   ]
  },
  {
   "cell_type": "code",
   "execution_count": 13,
   "metadata": {},
   "outputs": [
    {
     "data": {
      "text/plain": [
       "[<matplotlib.lines.Line2D at 0x2206e01dfd0>]"
      ]
     },
     "execution_count": 13,
     "metadata": {},
     "output_type": "execute_result"
    },
    {
     "data": {
      "image/png": "[encoded data removed]",
      "text/plain": [
       "<Figure size 432x288 with 1 Axes>"
      ]
     },
     "metadata": {
      "needs_background": "light"
     },
     "output_type": "display_data"
    }
   ],
   "source": [
    "import matplotlib.pyplot as plt\n",
    "\n",
    "plt.plot(list(map(lambda x: len(x), train_sents)))"
   ]
  },
  {
   "cell_type": "code",
   "execution_count": 14,
   "metadata": {},
   "outputs": [
    {
     "name": "stdout",
     "output_type": "stream",
     "text": [
      "6 "
     ]
    }
   ],
   "source": [
    "# หาlabel ที่มีจำนวนไม่เท่ากัน\n",
    "y_pred_ = []\n",
    "y_test_ = []\n",
    "for i in range(len(y_test)):\n",
    "    if len(y_pred[i]) != len(y_test[i]):\n",
    "        # print(len(y_pred[i]), len(y_test[i]))\n",
    "        print(i, end=\" \")\n",
    "        continue;\n",
    "    y_pred_.append(y_pred[i])\n",
    "    y_test_.append(y_test[i])"
   ]
  },
  {
   "cell_type": "code",
   "execution_count": 15,
   "metadata": {},
   "outputs": [
    {
     "name": "stdout",
     "output_type": "stream",
     "text": [
      "max:  478\n",
      "6 "
     ]
    }
   ],
   "source": [
    "# หาค่า max ของ y_pred\n",
    "print(\"max: \", max(list(map(lambda x: len(x), y_pred))))\n",
    "\n",
    "for i in range(len(y_test)):\n",
    "    if len(y_test[i]) > 468:\n",
    "        print(i, end=\" \")"
   ]
  },
  {
   "cell_type": "code",
   "execution_count": 21,
   "metadata": {},
   "outputs": [
    {
     "name": "stdout",
     "output_type": "stream",
     "text": [
      "478\n",
      "[('-', 'O'), ('_', 'I_C'), ('สาย', 'O'), ('สามัญ', 'O'), ('_', 'O'), ('ดีกว่า', 'I_P'), ('_', 'I_P'), ('ตรง', 'I_P'), ('ที่', 'I_P'), ('สามารถ', 'I_P'), ('ต่อ', 'I_P'), ('_', 'I_P'), ('ป.', 'I_P'), ('ตรี', 'I_P'), ('_', 'I_P'), ('ได้', 'I_P'), ('_', 'I_P'), ('ทุก', 'I_P'), ('มหาวิทยาลัย', 'I_P'), ('_', 'O'), ('ทุก', 'I_P'), ('คณะ', 'I_P'), ('_', 'I_P'), ('ทุก', 'I_P'), ('สาขา', 'I_P'), ('_', 'I_P'), ('(', 'I_P'), ('โดยเฉพาะ', 'O'), ('_', 'I_P'), ('ม.', 'I_P'), ('ปลาย', 'I_P'), ('_', 'O'), ('สาย', 'O'), ('วิทย์', 'O'), ('-', 'O'), ('คณิต', 'O'), ('_', 'O'), ('ที่', 'O'), ('เลือก', 'O'), ('สมัคร', 'O'), ('_', 'O'), ('สอบ', 'O'), ('_', 'O'), ('เรียนต่อ', 'O'), ('ได้', 'O'), ('ทุก', 'O'), ('สาขาวิชา', 'O'), ('_', 'O'), ('ทุก', 'O'), ('คณะ', 'O'), (')', 'O'), ('_', 'O'), ('จะ', 'O'), ('สมัคร', 'O'), ('สอบ', 'O'), ('เข้า', 'O'), ('_', 'O'), ('ม.', 'O'), ('รัฐ', 'O'), ('ชื่อดัง', 'O'), ('ต่างๆ', 'O'), ('_', 'O'), ('เช่น', 'O'), ('_', 'O'), ('จุฬา', 'O'), (',', 'O'), ('_', 'O'), ('ธรรมศาสตร์', 'O'), (',', 'O'), ('_', 'O'), ('เกษตร', 'O'), (',', 'O'), ('_', 'O'), ('มหิดล', 'O'), ('_', 'O'), ('ฯลฯ', 'O'), ('_', 'O'), ('ก็', 'O'), ('เลือก', 'O'), ('ได้', 'O'), ('เลย', 'O'), ('ถ้า', 'O'), ('สอบ', 'O'), ('ติด', 'O'), ('_', 'O'), ('แต่', 'O'), ('ถ้า', 'O'), ('จบ', 'O'), ('สาย', 'O'), ('สามัญ', 'O'), ('_', 'O'), ('ม.', 'O'), ('ปลาย', 'O'), ('_', 'O'), ('แล้ว', 'O'), ('ไม่', 'O'), ('เรียนต่อ', 'O'), ('_', 'O'), ('ป.', 'O'), ('ตรี', 'O'), ('_', 'O'), ('ล่ะ', 'O'), ('ก็', 'O'), ('_', 'O'), ('วุฒิ', 'O'), ('_', 'O'), ('ม.', 'O'), ('ปลาย', 'O'), ('_', 'O'), ('แทบจะ', 'O'), ('ไร้ค่า', 'O'), ('เลย', 'O'), ('ครับ', 'O'), ('_', 'O'), ('จุด', 'O'), ('นี้', 'O'), ('คือ', 'O'), ('ข้อด้อย', 'O'), ('กว่า', 'O'), ('_', 'O'), ('ปวช.', 'O'), ('_', 'O'), ('เพราะ', 'O'), ('เอา', 'O'), ('_', 'O'), ('วุฒิ', 'O'), ('_', 'O'), ('ม.', 'O'), ('6', 'O'), ('_', 'O'), ('ไป', 'O'), ('สมัครงาน', 'O'), ('ดี', 'O'), ('ๆ', 'O'), ('_', 'O'), ('ยาก', 'O'), ('_', 'O'), ('ส่วนมาก', 'O'), ('ก็', 'O'), ('เช่น', 'O'), ('_', 'O'), ('แม่บ้าน', 'O'), ('_', 'O'), ('คนงาน', 'O'), ('_', 'O'), ('คนสวน', 'O'), ('_', 'O'), ('พนักงานบริการ', 'O'), ('_', 'O'), ('ทำนอง', 'O'), ('นี้', 'O'), ('ครับ', 'O'), ('_', 'O'), ('(', 'O'), ('เว้นแต่', 'O'), ('เอา', 'O'), ('ไป', 'O'), ('สมัครงาน', 'O'), ('หน่วยงานรัฐ', 'O'), ('_', 'O'), ('ทหาร', 'O'), ('_', 'O'), ('ตำรวจ', 'O'), ('_', 'O'), ('นะ', 'O'), ('ครับ', 'O'), (')', 'O'), ('_', 'O'), ('แต่', 'O'), ('ถ้า', 'O'), ('จบ', 'O'), ('สาย', 'O'), ('สามัญ', 'O'), ('_', 'O'), ('ม.', 'O'), ('ปลาย', 'O'), ('_', 'O'), ('เรียนต่อ', 'O'), ('จน', 'O'), ('จบ', 'O'), ('_', 'O'), ('ป.', 'O'), ('ตรี', 'O'), ('_', 'O'), ('กรณี', 'O'), ('นี้', 'O'), ('_', 'O'), ('จะ', 'O'), ('ดีกว่า', 'O'), ('สาย', 'O'), ('อาชีพ', 'O'), ('_', 'O'), ('ตรง', 'O'), ('ที่', 'O'), ('_', 'O'), ('ป.', 'O'), ('ตรี', 'O'), ('_', 'O'), ('เป็น', 'O'), ('วุฒิ', 'O'), ('ที่สูง', 'O'), ('กว่า', 'O'), ('_', 'O'), ('ปวส.', 'O'), ('_', 'O'), ('ซึ่ง', 'O'), ('ข้อ', 'O'), ('นี้', 'O'), ('จะ', 'O'), ('กลบ', 'O'), ('ข้อด้อย', 'O'), ('ข้างต้น', 'O'), ('ทันที', 'O'), ('_', 'O'), ('ป.', 'O'), ('ตรี', 'O'), ('_', 'O'), ('เงินเดือน', 'O'), ('เริ่มต้น', 'O'), ('สูง', 'O'), ('กว่า', 'O'), ('_', 'O'), ('เงินเดือน', 'O'), ('ตัน', 'O'), ('ก็', 'O'), ('สูง', 'O'), ('กว่า', 'O'), ('_', 'O'), ('ความก้าวหน้า', 'O'), ('ก็', 'O'), ('ไป', 'O'), ('ไกล', 'O'), ('กว่า', 'O'), ('_', 'O'), ('ปวส.', 'O'), ('_', 'O'), ('ครับ', 'O'), ('_', 'O'), ('ส่วน', 'O'), ('สาย', 'O'), ('อาชีพ', 'O'), ('_', 'O'), ('หาก', 'O'), ('จะ', 'O'), ('ต่อ', 'O'), ('_', 'O'), ('ป.', 'O'), ('ตรี', 'O'), ('_', 'O'), ('ก็', 'O'), ('มี', 'O'), ('แค่', 'O'), ('ไม่', 'O'), ('กี่', 'O'), ('มหาวิทยาลัย', 'O'), ('ที่', 'O'), ('รับ', 'O'), ('ครับ', 'O'), ('_', 'O'), ('เช่น', 'O'), ('_', 'O'), ('ราชมงคล', 'O'), (',', 'O'), ('_', 'O'), ('ม.', 'O'), ('ราม', 'O'), (',', 'O'), ('_', 'O'), ('มสธ.', 'O'), (',', 'O'), ('_', 'O'), ('ม.', 'O'), ('เอกชน', 'O'), (',', 'O'), ('_', 'O'), ('สาย', 'O'), ('ช่าง', 'O'), ('_', 'O'), ('3', 'O'), ('_', 'O'), ('พระ', 'O'), ('จอม', 'O'), (',', 'O'), ('_', 'O'), ('สาย', 'O'), ('เกษตร', 'O'), ('_', 'O'), ('แม่', 'O'), ('โจ้', 'O'), ('_', 'O'), ('เป็นต้น', 'O'), ('_', 'O'), ('ทำให้', 'O'), ('มี', 'O'), ('ตัวเลือก', 'O'), ('น้อยกว่า', 'O'), ('มาก', 'O'), ('_', 'O'), ('-', 'O'), ('_', 'O'), ('สาย', 'O'), ('อาชีพ', 'O'), ('_', 'O'), ('ดีกว่า', 'O'), ('_', 'O'), ('เมื่อ', 'O'), ('เทียบ', 'O'), ('กับ', 'O'), ('วุฒิ', 'O'), ('ระดับ', 'O'), ('เท่ากัน', 'O'), ('_', 'O'), ('คือ', 'O'), ('_', 'O'), ('ม.', 'O'), ('6', 'O'), ('_', 'O'), ('VS', 'O'), ('_', 'O'), ('ปวช.', 'O'), ('_', 'O'), ('จบ', 'O'), ('_', 'O'), ('ปวช.', 'O'), ('_', 'O'), ('สามารถ', 'O'), ('ทำงาน', 'O'), ('เฉพาะ', 'O'), ('ทางได้', 'O'), ('เลย', 'O'), ('_', 'O'), ('ผิด', 'O'), ('กับ', 'O'), ('จบ', 'O'), ('_', 'O'), ('ม.', 'O'), ('6', 'O'), ('_', 'O'), ('ที่จะ', 'O'), ('ทำ', 'O'), ('อะไร', 'O'), ('เฉพาะทาง', 'O'), ('แทบ', 'O'), ('ไม่', 'O'), ('ได้', 'O'), ('เลย', 'O'), ('_', 'O'), ('(', 'O'), ('ต้อง', 'O'), ('เทียบ', 'O'), ('_', 'O'), ('ม.', 'O'), ('6', 'O'), ('_', 'O'), ('VS', 'O'), ('_', 'O'), ('ปวช.', 'O'), ('_', 'O'), ('นะ', 'O'), ('ครับ', 'O'), ('_', 'O'), ('เพราะ', 'O'), ('เป็น', 'O'), ('วุฒิ', 'O'), ('ระดับ', 'O'), ('เดียวกัน', 'O'), (')', 'O'), ('_', 'O'), ('มี', 'O'), ('วิชาชีพ', 'O'), ('เฉพาะ', 'O'), ('_', 'O'), ('เช่น', 'O'), ('_', 'O'), ('ช่าง', 'O'), ('อุตสาหกรรม', 'O'), ('_', 'O'), ('ช่าง', 'O'), ('เครื่องกล', 'O'), ('_', 'O'), ('ช่างเชื่อม', 'O'), ('_', 'O'), ('ช่าง', 'O'), ('อิ', 'O'), ('เล็ก', 'O'), ('_', 'O'), ('ช่าง', 'O'), ('ศิลปกรรม', 'O'), ('_', 'O'), ('บัญชี', 'O'), ('_', 'O'), ('การ', 'O'), ('โรงแรม', 'O'), ('_', 'O'), ('ต่างๆ', 'O'), ('_', 'O'), ('สาย', 'O'), ('อาชีพ', 'O'), ('_', 'O'), ('ปวช.', 'O'), (',', 'O'), ('_', 'O'), ('ปวส.', 'O'), ('_', 'O'), ('(', 'O'), ('ควร', 'O'), (')', 'O'), ('_', 'O'), ('จะ', 'O'), ('เป็น', 'O'), ('แรง', 'O'), ('งานฝีมือ', 'O'), ('_', 'O'), ('ที่', 'O'), ('มี', 'O'), ('สายงาน', 'O'), ('ให้', 'O'), ('เติบโต', 'O'), ('ได้', 'O'), ('_', 'O'), ('แต่', 'O'), ('พอ', 'O'), ('ถึง', 'O'), ('จุด', 'O'), ('ๆ', 'O'), ('นึง', 'O'), ('_', 'O'), ('สาย', 'O'), ('อาชีพ', 'O'), ('_', 'O'), ('ทั้ง', 'O'), ('_', 'O'), ('ปวช.', 'O'), (',', 'O'), ('_', 'O'), ('ปวส.', 'O'), ('_', 'O'), ('จะ', 'O'), ('ตัน', 'O'), ('ครับ', 'O'), ('_', 'O'), ('ด้วย', 'O'), ('เพดาน', 'O'), ('คุณวุฒิ', 'O'), ('ที่', 'O'), ('มี', 'O'), ('_', 'O'), ('ถ้า', 'O'), ('ไม่', 'O'), ('ไป', 'O'), ('เรียนต่อ', 'O'), ('_', 'O'), ('ป.', 'O'), ('ตรี', 'O'), ('_', 'O'), ('ก็', 'O'), ('ไม่', 'O'), ('มี', 'O'), ('ความก้าวหน้า', 'O'), ('เท่า', 'O'), ('_', 'O'), ('ผู้', 'O'), ('จบ', 'O'), ('_', 'O'), ('ป.', 'O'), ('ตรี', 'O'), ('_', 'O'), ('เพราะ', 'O'), ('_', 'O'), ('ปวส.', 'O'), ('_', 'O'), ('เป็น', 'O'), ('คุณวุฒิ', 'O'), ('ที่', 'O'), ('ต่ำกว่า', 'O'), ('_', 'O'), ('ป.', 'O'), ('ตรี', 'O')]\n"
     ]
    }
   ],
   "source": [
    "idx_ = 6\n",
    "print(len(predictions_[idx_]))\n",
    "print(predictions_[idx_])"
   ]
  },
  {
   "cell_type": "code",
   "execution_count": 22,
   "metadata": {},
   "outputs": [
    {
     "name": "stdout",
     "output_type": "stream",
     "text": [
      "744\n",
      "[('-', 'O'), ('_', 'O'), ('สาย', 'B-c'), ('สามัญ', 'I-c'), ('_', 'I-c'), ('ดีกว่า', 'I-c'), ('_', 'O'), ('ตรง', 'B-p'), ('ที่', 'I-p'), ('สามารถ', 'I-p'), ('ต่อ', 'I-p'), ('_', 'I-p'), ('ป.', 'I-p'), ('ตรี', 'I-p'), ('_', 'I-p'), ('ได้', 'I-p'), ('_', 'I-p'), ('ทุก', 'I-p'), ('มหาวิทยาลัย', 'I-p'), ('_', 'I-p'), ('ทุก', 'I-p'), ('คณะ', 'I-p'), ('_', 'I-p'), ('ทุก', 'I-p'), ('สาขา', 'I-p'), ('_', 'O'), ('(', 'O'), ('โดยเฉพาะ', 'O'), ('_', 'O'), ('ม.', 'O'), ('ปลาย', 'O'), ('_', 'O'), ('สาย', 'O'), ('วิทย์', 'O'), ('-', 'O'), ('คณิต', 'O'), ('_', 'O'), ('ที่', 'O'), ('เลือก', 'O'), ('สมัคร', 'O'), ('_', 'O'), ('สอบ', 'O'), ('_', 'O'), ('เรียนต่อ', 'O'), ('ได้', 'O'), ('ทุก', 'O'), ('สาขาวิชา', 'O'), ('_', 'O'), ('ทุก', 'O'), ('คณะ', 'O'), (')', 'O'), ('_', 'O'), ('จะ', 'O'), ('สมัคร', 'O'), ('สอบ', 'O'), ('เข้า', 'O'), ('_', 'O'), ('ม.', 'O'), ('รัฐ', 'O'), ('ชื่อดัง', 'O'), ('ต่างๆ', 'O'), ('_', 'O'), ('เช่น', 'O'), ('_', 'O'), ('จุฬา', 'O'), (',', 'O'), ('_', 'O'), ('ธรรมศาสตร์', 'O'), (',', 'O'), ('_', 'O'), ('เกษตร', 'O'), (',', 'O'), ('_', 'O'), ('มหิดล', 'O'), ('_', 'O'), ('ฯลฯ', 'O'), ('_', 'O'), ('ก็', 'O'), ('เลือก', 'O'), ('ได้', 'O'), ('เลย', 'O'), ('ถ้า', 'O'), ('สอบ', 'O'), ('ติด', 'O'), ('_', 'O'), ('แต่', 'B-c'), ('ถ้า', 'I-c'), ('จบ', 'I-c'), ('สาย', 'I-c'), ('สามัญ', 'I-c'), ('_', 'I-c'), ('ม.', 'I-c'), ('ปลาย', 'I-c'), ('_', 'I-c'), ('แล้ว', 'I-c'), ('ไม่', 'I-c'), ('เรียนต่อ', 'I-c'), ('_', 'I-c'), ('ป.', 'I-c'), ('ตรี', 'I-c'), ('_', 'I-c'), ('ล่ะ', 'I-c'), ('ก็', 'I-c'), ('_', 'I-c'), ('วุฒิ', 'I-c'), ('_', 'I-c'), ('ม.', 'I-c'), ('ปลาย', 'I-c'), ('_', 'I-c'), ('แทบจะ', 'I-c'), ('ไร้ค่า', 'I-c'), ('เลย', 'I-c'), ('ครับ', 'I-c'), ('_', 'I-c'), ('จุด', 'I-c'), ('นี้', 'I-c'), ('คือ', 'I-c'), ('ข้อด้อย', 'I-c'), ('กว่า', 'I-c'), ('_', 'I-c'), ('ปวช.', 'I-c'), ('_', 'O'), ('เพราะ', 'B-p'), ('เอา', 'I-p'), ('_', 'I-p'), ('วุฒิ', 'I-p'), ('_', 'I-p'), ('ม.', 'I-p'), ('6', 'I-p'), ('_', 'I-p'), ('ไป', 'I-p'), ('สมัครงาน', 'I-p'), ('ดี', 'I-p'), ('ๆ', 'I-p'), ('_', 'I-p'), ('ยาก', 'I-p'), ('_', 'I-p'), ('ส่วนมาก', 'I-p'), ('ก็', 'I-p'), ('เช่น', 'I-p'), ('_', 'I-p'), ('แม่บ้าน', 'I-p'), ('_', 'I-p'), ('คนงาน', 'I-p'), ('_', 'I-p'), ('คนสวน', 'I-p'), ('_', 'I-p'), ('พนักงานบริการ', 'I-p'), ('_', 'I-p'), ('ทำนอง', 'I-p'), ('นี้', 'I-p'), ('ครับ', 'I-p'), ('_', 'O'), ('(', 'O'), ('เว้นแต่', 'O'), ('เอา', 'O'), ('ไป', 'O'), ('สมัครงาน', 'O'), ('หน่วยงานรัฐ', 'O'), ('_', 'O'), ('ทหาร', 'O'), ('_', 'O'), ('ตำรวจ', 'O'), ('_', 'O'), ('นะ', 'O'), ('ครับ', 'O'), (')', 'O'), ('_', 'O'), ('แต่', 'B-c'), ('ถ้า', 'I-c'), ('จบ', 'I-c'), ('สาย', 'I-c'), ('สามัญ', 'I-c'), ('_', 'I-c'), ('ม.', 'I-c'), ('ปลาย', 'I-c'), ('_', 'I-c'), ('เรียนต่อ', 'I-c'), ('จน', 'I-c'), ('จบ', 'I-c'), ('_', 'I-c'), ('ป.', 'I-c'), ('ตรี', 'I-c'), ('_', 'I-c'), ('กรณี', 'I-c'), ('นี้', 'I-c'), ('_', 'I-c'), ('จะ', 'I-c'), ('ดีกว่า', 'I-c'), ('สาย', 'I-c'), ('อาชีพ', 'I-c'), ('_', 'O'), ('ตรง', 'B-p'), ('ที่', 'I-p'), ('_', 'I-p'), ('ป.', 'I-p'), ('ตรี', 'I-p'), ('_', 'I-p'), ('เป็น', 'I-p'), ('วุฒิ', 'I-p'), ('ที่สูง', 'I-p'), ('กว่า', 'I-p'), ('_', 'I-p'), ('ปวส.', 'I-p'), ('_', 'I-p'), ('ซึ่ง', 'I-p'), ('ข้อ', 'I-p'), ('นี้', 'I-p'), ('จะ', 'I-p'), ('กลบ', 'I-p'), ('ข้อด้อย', 'I-p'), ('ข้างต้น', 'I-p'), ('ทันที', 'I-p'), ('_', 'I-p'), ('ป.', 'I-p'), ('ตรี', 'I-p'), ('_', 'I-p'), ('เงินเดือน', 'I-p'), ('เริ่มต้น', 'I-p'), ('สูง', 'I-p'), ('กว่า', 'I-p'), ('_', 'I-p'), ('เงินเดือน', 'I-p'), ('ตัน', 'I-p'), ('ก็', 'I-p'), ('สูง', 'I-p'), ('กว่า', 'I-p'), ('_', 'I-p'), ('ความก้าวหน้า', 'I-p'), ('ก็', 'I-p'), ('ไป', 'I-p'), ('ไกล', 'I-p'), ('กว่า', 'I-p'), ('_', 'I-p'), ('ปวส.', 'I-p'), ('_', 'I-p'), ('ครับ', 'I-p'), ('_', 'O'), ('ส่วน', 'O'), ('สาย', 'O'), ('อาชีพ', 'O'), ('_', 'O'), ('หาก', 'O'), ('จะ', 'O'), ('ต่อ', 'O'), ('_', 'O'), ('ป.', 'O'), ('ตรี', 'O'), ('_', 'O'), ('ก็', 'O'), ('มี', 'O'), ('แค่', 'O'), ('ไม่', 'O'), ('กี่', 'O'), ('มหาวิทยาลัย', 'O'), ('ที่', 'O'), ('รับ', 'O'), ('ครับ', 'O'), ('_', 'O'), ('เช่น', 'O'), ('_', 'O'), ('ราชมงคล', 'O'), (',', 'O'), ('_', 'O'), ('ม.', 'O'), ('ราม', 'O'), (',', 'O'), ('_', 'O'), ('มสธ.', 'O'), (',', 'O'), ('_', 'O'), ('ม.', 'O'), ('เอกชน', 'O'), (',', 'O'), ('_', 'O'), ('สาย', 'O'), ('ช่าง', 'O'), ('_', 'O'), ('3', 'O'), ('_', 'O'), ('พระ', 'O'), ('จอม', 'O'), (',', 'O'), ('_', 'O'), ('สาย', 'O'), ('เกษตร', 'O'), ('_', 'O'), ('แม่', 'O'), ('โจ้', 'O'), ('_', 'O'), ('เป็นต้น', 'O'), ('_', 'O'), ('ทำให้', 'O'), ('มี', 'O'), ('ตัวเลือก', 'O'), ('น้อยกว่า', 'O'), ('มาก', 'O'), ('_', 'O'), ('-', 'O'), ('_', 'O'), ('สาย', 'O'), ('อาชีพ', 'O'), ('_', 'O'), ('ดีกว่า', 'O'), ('_', 'O'), ('เมื่อ', 'O'), ('เทียบ', 'O'), ('กับ', 'O'), ('วุฒิ', 'O'), ('ระดับ', 'O'), ('เท่ากัน', 'O'), ('_', 'O'), ('คือ', 'O'), ('_', 'O'), ('ม.', 'O'), ('6', 'O'), ('_', 'O'), ('VS', 'O'), ('_', 'O'), ('ปวช.', 'O'), ('_', 'O'), ('จบ', 'O'), ('_', 'O'), ('ปวช.', 'O'), ('_', 'O'), ('สามารถ', 'O'), ('ทำงาน', 'O'), ('เฉพาะ', 'O'), ('ทางได้', 'O'), ('เลย', 'O'), ('_', 'O'), ('ผิด', 'O'), ('กับ', 'O'), ('จบ', 'O'), ('_', 'O'), ('ม.', 'O'), ('6', 'O'), ('_', 'O'), ('ที่จะ', 'O'), ('ทำ', 'O'), ('อะไร', 'O'), ('เฉพาะทาง', 'O'), ('แทบ', 'O'), ('ไม่', 'O'), ('ได้', 'O'), ('เลย', 'O'), ('_', 'O'), ('(', 'O'), ('ต้อง', 'O'), ('เทียบ', 'O'), ('_', 'O'), ('ม.', 'O'), ('6', 'O'), ('_', 'O'), ('VS', 'O'), ('_', 'O'), ('ปวช.', 'O'), ('_', 'O'), ('นะ', 'O'), ('ครับ', 'O'), ('_', 'O'), ('เพราะ', 'O'), ('เป็น', 'O'), ('วุฒิ', 'O'), ('ระดับ', 'O'), ('เดียวกัน', 'O'), (')', 'O'), ('_', 'O'), ('มี', 'O'), ('วิชาชีพ', 'O'), ('เฉพาะ', 'O'), ('_', 'O'), ('เช่น', 'O'), ('_', 'O'), ('ช่าง', 'O'), ('อุตสาหกรรม', 'O'), ('_', 'O'), ('ช่าง', 'O'), ('เครื่องกล', 'O'), ('_', 'O'), ('ช่างเชื่อม', 'O'), ('_', 'O'), ('ช่าง', 'O'), ('อิ', 'O'), ('เล็ก', 'O'), ('_', 'O'), ('ช่าง', 'O'), ('ศิลปกรรม', 'O'), ('_', 'O'), ('บัญชี', 'O'), ('_', 'O'), ('การ', 'O'), ('โรงแรม', 'O'), ('_', 'O'), ('ต่างๆ', 'O'), ('_', 'O'), ('สาย', 'O'), ('อาชีพ', 'O'), ('_', 'O'), ('ปวช.', 'O'), (',', 'O'), ('_', 'O'), ('ปวส.', 'O'), ('_', 'O'), ('(', 'O'), ('ควร', 'O'), (')', 'O'), ('_', 'O'), ('จะ', 'O'), ('เป็น', 'O'), ('แรง', 'O'), ('งานฝีมือ', 'O'), ('_', 'O'), ('ที่', 'O'), ('มี', 'O'), ('สายงาน', 'O'), ('ให้', 'O'), ('เติบโต', 'O'), ('ได้', 'O'), ('_', 'O'), ('แต่', 'O'), ('พอ', 'O'), ('ถึง', 'O'), ('จุด', 'O'), ('ๆ', 'O'), ('นึง', 'O'), ('_', 'O'), ('สาย', 'O'), ('อาชีพ', 'O'), ('_', 'O'), ('ทั้ง', 'O'), ('_', 'O'), ('ปวช.', 'O'), (',', 'O'), ('_', 'O'), ('ปวส.', 'O'), ('_', 'O'), ('จะ', 'O'), ('ตัน', 'O'), ('ครับ', 'O'), ('_', 'O'), ('ด้วย', 'O'), ('เพดาน', 'O'), ('คุณวุฒิ', 'O'), ('ที่', 'O'), ('มี', 'O'), ('_', 'O'), ('ถ้า', 'O'), ('ไม่', 'O'), ('ไป', 'O'), ('เรียนต่อ', 'O'), ('_', 'O'), ('ป.', 'O'), ('ตรี', 'O'), ('_', 'O'), ('ก็', 'O'), ('ไม่', 'O'), ('มี', 'O'), ('ความก้าวหน้า', 'O'), ('เท่า', 'O'), ('_', 'O'), ('ผู้', 'O'), ('จบ', 'O'), ('_', 'O'), ('ป.', 'O'), ('ตรี', 'O'), ('_', 'O'), ('เพราะ', 'O'), ('_', 'O'), ('ปวส.', 'O'), ('_', 'O'), ('เป็น', 'O'), ('คุณวุฒิ', 'O'), ('ที่', 'O'), ('ต่ำกว่า', 'O'), ('_', 'O'), ('ป.', 'O'), ('ตรี', 'O'), ('_', 'O'), ('เช่น', 'O'), ('_', 'O'), ('จบ', 'O'), ('_', 'O'), ('ปวส.', 'O'), ('_', 'O'), ('เป็น', 'O'), ('นายช่าง', 'O'), ('_', 'O'), (':', 'O'), ('_', 'O'), ('จบ', 'O'), ('_', 'O'), ('ป.', 'O'), ('ตรี', 'O'), ('_', 'O'), ('เป็น', 'O'), ('วิศวกร', 'O'), ('_', 'O'), ('เป็นต้น', 'O'), ('_', 'O'), ('ในอนาคต', 'O'), ('_', 'O'), ('เพื่อ', 'O'), ('ความก้าวหน้า', 'O'), ('_', 'O'), ('คน', 'O'), ('จบ', 'O'), ('_', 'O'), ('ปวช.', 'O'), (',', 'O'), ('_', 'O'), ('ปวส.', 'O'), ('_', 'O'), ('จึง', 'O'), ('เหมือน', 'O'), ('ถูก', 'O'), ('บังคับ', 'O'), ('กลาย', 'O'), ('ๆ', 'O'), ('ว่า', 'O'), ('ต้อง', 'O'), ('มา', 'O'), ('เรียนต่อ', 'O'), ('_', 'O'), ('ป.', 'O'), ('ตรี', 'O'), ('_', 'O'), ('อยู่ดี', 'O'), ('_', 'O'), ('ข้อแนะนำ', 'O'), ('_', 'O'), ('-', 'O'), ('_', 'O'), ('ถ้า', 'O'), ('ยัง', 'O'), ('ไม่', 'O'), ('รู้', 'O'), ('แน่', 'O'), ('_', 'O'), ('หรือไม่', 'O'), ('แน่ใจ', 'O'), ('_', 'O'), ('ว่า', 'O'), ('อยาก', 'O'), ('ทำงาน', 'O'), ('อะไร', 'O'), ('กัน', 'O'), ('แน่', 'O'), ('ในอนาคต', 'O'), ('_', 'O'), ('แนะนำ', 'O'), ('ให้', 'O'), ('เรียน', 'O'), ('_', 'O'), ('ม.', 'O'), ('ปลาย', 'O'), ('_', 'O'), ('สาย', 'O'), ('สามัญ', 'O'), ('_', 'O'), ('แผน', 'O'), ('การเรียน', 'O'), ('_', 'O'), ('วิทย์', 'O'), ('-', 'O'), ('คณิต', 'O'), ('_', 'O'), ('(', 'O'), ('เพราะ', 'O'), ('สามารถ', 'O'), ('ต่อ', 'O'), ('_', 'O'), ('ป.', 'O'), ('ตรี', 'O'), ('_', 'O'), ('ได้', 'O'), ('_', 'O'), ('ทุก', 'O'), ('สาขา', 'O'), ('_', 'O'), ('ทุก', 'O'), ('คณะ', 'O'), ('_', 'O'), ('ทุก', 'O'), ('มหาวิทยาลัย', 'O'), (')', 'O'), ('_', 'O'), ('และ', 'O'), ('เรียนต่อ', 'O'), ('_', 'O'), ('ป.', 'O'), ('ตรี', 'O'), ('_', 'O'), ('นั้น', 'O'), ('ให้', 'O'), ('จบ', 'O'), ('_', 'O'), ('หรือ', 'O'), ('ต่อให้', 'O'), ('รู้', 'O'), ('แน่ๆ', 'O'), ('แล้ว', 'O'), ('ว่า', 'O'), ('อยาก', 'O'), ('เรียน', 'O'), ('อะไร', 'O'), ('_', 'O'), ('แต่', 'O'), ('ถ้า', 'O'), ('สาขา', 'O'), ('นั้นๆ', 'O'), ('_', 'O'), ('มี', 'O'), ('สอน', 'O'), ('ใน', 'O'), ('ระดับ', 'O'), ('_', 'O'), ('ป.', 'O'), ('ตรี', 'O'), ('_', 'O'), ('ก็', 'O'), ('น่าจะ', 'O'), ('เรียน', 'O'), ('_', 'O'), ('ป.', 'O'), ('ตรี', 'O'), ('_', 'O'), ('ครับ', 'O'), ('_', 'O'), ('เพราะ', 'O'), ('_', 'O'), ('ฐาน', 'O'), ('เงินเดือน', 'O'), ('_', 'O'), ('เพดาน', 'O'), ('เงินเดือน', 'O'), ('_', 'O'), ('ความก้าวหน้า', 'O'), ('_', 'O'), ('ใน', 'O'), ('สายงาน', 'O'), ('เดียวกัน', 'O'), ('_', 'O'), ('ป.', 'O'), ('ตรี', 'O'), ('_', 'O'), ('จะ', 'O'), ('ดีกว่า', 'O'), ('_', 'O'), ('สาย', 'O'), ('อาชีพ', 'O'), ('_', 'O'), ('ปวส.', 'O'), ('_', 'O'), ('ครับ', 'O'), ('_', 'O'), ('ข้อเสนอแนะ', 'O'), ('_', 'O'), ('-', 'O'), ('_', 'O'), ('มี', 'O'), ('คน', 'O'), ('ชอบ', 'O'), ('บอ', 'O'), ('กว่า', 'O'), ('ให้', 'O'), ('เรียน', 'O'), ('สาย', 'O'), ('อาชีพ', 'O'), ('ดีกว่า', 'O'), ('_', 'O'), ('เพราะ', 'O'), ('หา', 'O'), ('งาน', 'O'), ('ง่าย', 'O'), ('กว่า', 'O'), ('_', 'O'), ('ป.', 'O'), ('ตรี', 'O'), ('_', 'O'), ('สาย', 'O'), ('อาชีพ', 'O'), ('_', 'O'), ('หา', 'O'), ('งาน', 'O'), ('ง่าย', 'O'), ('กว่า', 'O'), ('_', 'O'), ('ป.', 'O'), ('ตรี', 'O'), ('_', 'O'), ('จริง', 'O'), ('_', 'O'), ('แต่', 'O'), ('เพราะ', 'O'), ('ค่าแรง', 'O'), ('ถูก', 'O'), ('กว่า', 'O'), ('_', 'O'), ('ป.', 'O'), ('ตรี', 'O'), ('_', 'O'), ('ครับ', 'O'), ('_', 'O'), ('ใน', 'O'), ('องค์กร', 'O'), ('เดียวกัน', 'O'), ('_', 'O'), ('สายงาน', 'O'), ('เดียวกัน', 'O'), ('_', 'O'), ('ระยะ', 'O'), ('เริ่มต้น', 'O'), ('เหมือนกัน', 'O'), ('_', 'O'), ('คุณวุฒิ', 'O'), ('สูง', 'O'), ('กว่า', 'O'), ('_', 'O'), ('ย่อม', 'O'), ('ได้', 'O'), ('ค่าแรง', 'O'), ('สูง', 'O'), ('กว่า', 'O'), ('_', 'O'), ('ครับ', 'O'), ('_', 'O'), ('ลอง', 'O'), ('เลือก', 'O'), ('ดู', 'O'), ('_', 'O'), ('ว่า', 'O'), ('จะ', 'O'), ('ทำงาน', 'O'), ('ค่าแรง', 'O'), ('_', 'O'), ('ปวส.', 'O'), ('_', 'O'), ('หรือ', 'O'), ('_', 'O'), ('ค่าแรง', 'O'), ('_', 'O'), ('ป.', 'O'), ('ตรี', 'O')]\n"
     ]
    }
   ],
   "source": [
    "print(len(test_sents[idx_]))\n",
    "print(test_sents[idx_])"
   ]
  },
  {
   "cell_type": "code",
   "execution_count": null,
   "metadata": {},
   "outputs": [],
   "source": []
  }
 ],
 "metadata": {
  "interpreter": {
   "hash": "a6dc3a5d5e5e7987cc7d18355d6f408e2f42f41b0aca7d07c9009e9d98d8dd16"
  },
  "kernelspec": {
   "display_name": "Python 3.8.12 ('argument')",
   "language": "python",
   "name": "python3"
  },
  "language_info": {
   "codemirror_mode": {
    "name": "ipython",
    "version": 3
   },
   "file_extension": ".py",
   "mimetype": "text/x-python",
   "name": "python",
   "nbconvert_exporter": "python",
   "pygments_lexer": "ipython3",
   "version": "3.8.12"
  },
  "orig_nbformat": 4
 },
 "nbformat": 4,
 "nbformat_minor": 2
}
