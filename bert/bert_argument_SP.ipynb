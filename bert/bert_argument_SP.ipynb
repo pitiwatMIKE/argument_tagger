{
 "cells": [
  {
   "cell_type": "code",
   "execution_count": 1,
   "metadata": {},
   "outputs": [],
   "source": [
    "import dill\n",
    "import pandas as pd\n",
    "from sklearn.model_selection import train_test_split"
   ]
  },
  {
   "cell_type": "code",
   "execution_count": 11,
   "metadata": {},
   "outputs": [
    {
     "name": "stdout",
     "output_type": "stream",
     "text": [
      "552\n",
      "138\n",
      "[('ถ้า', 'B-c'), ('เดินทาง', 'I-c'), ('กลางคืน', 'I-c'), ('ก็', 'I-c'), ('รถทัวร์', 'I-c'), ('ครับ', 'I-c'), ('[SP]', 'I-c'), ('[SP]', 'O'), ('เพราะ', 'B-p'), ('รถ', 'I-p'), ('ไม่', 'I-p'), ('เยอะ', 'I-p'), ('[SP]', 'I-p'), ('ความเสี่ยง', 'I-p'), ('การ', 'I-p'), ('เกิด', 'I-p'), ('อุบัติ', 'I-p'), ('ห', 'I-p'), ('ตุ', 'I-p'), ('ก็', 'I-p'), ('น้อย', 'I-p'), ('(', 'I-p'), ('มั้ง', 'I-p'), (')', 'I-p'), ('[SP]', 'I-p'), ('[SP]', 'O'), ('ถ้า', 'B-c'), ('กลางวัน', 'I-c'), ('ก็', 'I-c'), ('เครื่องบิน', 'I-c'), ('ครับ', 'I-c'), ('[SP]', 'I-c'), ('[SP]', 'O'), ('เพราะ', 'B-p'), ('[SP]', 'I-p'), ('มัน', 'I-p'), ('ใช้เวลา', 'I-p'), ('น้อย', 'I-p'), ('จะ', 'I-p'), ('ได้', 'I-p'), ('มี', 'I-p'), ('เวลา', 'I-p'), ('ระหว่าง', 'I-p'), ('วัน', 'I-p'), ('เยอะ', 'I-p'), ('ๆ', 'I-p'), ('[SP]', 'I-p')]\n"
     ]
    }
   ],
   "source": [
    "path_name = \"../dataset/data/\"\n",
    "\n",
    "with open(path_name + 'comment-pos.data', 'rb') as file:\n",
    "    datatofile = dill.load(file)\n",
    "\n",
    "tagged_sents = []\n",
    "for data in datatofile:\n",
    "    text_inside = []\n",
    "    for word, pos, label in data:\n",
    "        if word == ' ' or word == ' ':\n",
    "            text_inside.append(('[SP]', label))\n",
    "        else:\n",
    "            text_inside.append((word, label))\n",
    "    tagged_sents.append(text_inside)\n",
    "\n",
    "train_sents, test_sents = train_test_split(tagged_sents, test_size=0.2, random_state=42)\n",
    "print(len(train_sents))\n",
    "print(len(test_sents))\n",
    "print(train_sents[1])"
   ]
  },
  {
   "cell_type": "code",
   "execution_count": 12,
   "metadata": {},
   "outputs": [],
   "source": [
    "_NER_TAGS = [\n",
    "        \"O\",\n",
    "        \"B_C\",\n",
    "        \"B_P\",\n",
    "        \"I_C\",\n",
    "        \"I_P\"\n",
    "    ]"
   ]
  },
  {
   "cell_type": "code",
   "execution_count": 13,
   "metadata": {},
   "outputs": [],
   "source": [
    "def convert_to_simple_transformer_format(sentences):\n",
    "    sentence_id = []\n",
    "    words = []\n",
    "    labels = []\n",
    "\n",
    "    for idx, sents in enumerate(sentences):\n",
    "        for word, label in sents:\n",
    "            label = label.upper().replace(\"-\", \"_\")\n",
    "            sentence_id.append(idx)\n",
    "            words.append(word)\n",
    "            labels.append(label)\n",
    "    return pd.DataFrame(\n",
    "        {\"sentence_id\": sentence_id, \"words\": words, \"labels\": labels}\n",
    "    )    \n",
    "            \n"
   ]
  },
  {
   "cell_type": "code",
   "execution_count": 14,
   "metadata": {},
   "outputs": [
    {
     "data": {
      "text/html": [
       "<div>\n",
       "<style scoped>\n",
       "    .dataframe tbody tr th:only-of-type {\n",
       "        vertical-align: middle;\n",
       "    }\n",
       "\n",
       "    .dataframe tbody tr th {\n",
       "        vertical-align: top;\n",
       "    }\n",
       "\n",
       "    .dataframe thead th {\n",
       "        text-align: right;\n",
       "    }\n",
       "</style>\n",
       "<table border=\"1\" class=\"dataframe\">\n",
       "  <thead>\n",
       "    <tr style=\"text-align: right;\">\n",
       "      <th></th>\n",
       "      <th>sentence_id</th>\n",
       "      <th>words</th>\n",
       "      <th>labels</th>\n",
       "    </tr>\n",
       "  </thead>\n",
       "  <tbody>\n",
       "    <tr>\n",
       "      <th>0</th>\n",
       "      <td>0</td>\n",
       "      <td>อะไหล่</td>\n",
       "      <td>B_C</td>\n",
       "    </tr>\n",
       "    <tr>\n",
       "      <th>1</th>\n",
       "      <td>0</td>\n",
       "      <td>เทอร์โบ</td>\n",
       "      <td>I_C</td>\n",
       "    </tr>\n",
       "    <tr>\n",
       "      <th>2</th>\n",
       "      <td>0</td>\n",
       "      <td></td>\n",
       "      <td>I_C</td>\n",
       "    </tr>\n",
       "    <tr>\n",
       "      <th>3</th>\n",
       "      <td>0</td>\n",
       "      <td>อี</td>\n",
       "      <td>I_C</td>\n",
       "    </tr>\n",
       "    <tr>\n",
       "      <th>4</th>\n",
       "      <td>0</td>\n",
       "      <td>ซุ</td>\n",
       "      <td>I_C</td>\n",
       "    </tr>\n",
       "    <tr>\n",
       "      <th>...</th>\n",
       "      <td>...</td>\n",
       "      <td>...</td>\n",
       "      <td>...</td>\n",
       "    </tr>\n",
       "    <tr>\n",
       "      <th>37405</th>\n",
       "      <td>551</td>\n",
       "      <td>ทำ</td>\n",
       "      <td>I_P</td>\n",
       "    </tr>\n",
       "    <tr>\n",
       "      <th>37406</th>\n",
       "      <td>551</td>\n",
       "      <td>อะไร</td>\n",
       "      <td>I_P</td>\n",
       "    </tr>\n",
       "    <tr>\n",
       "      <th>37407</th>\n",
       "      <td>551</td>\n",
       "      <td>ได้</td>\n",
       "      <td>I_P</td>\n",
       "    </tr>\n",
       "    <tr>\n",
       "      <th>37408</th>\n",
       "      <td>551</td>\n",
       "      <td>หลายอย่าง</td>\n",
       "      <td>I_P</td>\n",
       "    </tr>\n",
       "    <tr>\n",
       "      <th>37409</th>\n",
       "      <td>551</td>\n",
       "      <td>[SP]</td>\n",
       "      <td>I_P</td>\n",
       "    </tr>\n",
       "  </tbody>\n",
       "</table>\n",
       "<p>37410 rows × 3 columns</p>\n",
       "</div>"
      ],
      "text/plain": [
       "       sentence_id      words labels\n",
       "0                0     อะไหล่    B_C\n",
       "1                0    เทอร์โบ    I_C\n",
       "2                0               I_C\n",
       "3                0         อี    I_C\n",
       "4                0         ซุ    I_C\n",
       "...            ...        ...    ...\n",
       "37405          551         ทำ    I_P\n",
       "37406          551       อะไร    I_P\n",
       "37407          551        ได้    I_P\n",
       "37408          551  หลายอย่าง    I_P\n",
       "37409          551       [SP]    I_P\n",
       "\n",
       "[37410 rows x 3 columns]"
      ]
     },
     "execution_count": 14,
     "metadata": {},
     "output_type": "execute_result"
    }
   ],
   "source": [
    "train_ = convert_to_simple_transformer_format(train_sents)\n",
    "train_"
   ]
  },
  {
   "cell_type": "code",
   "execution_count": 6,
   "metadata": {},
   "outputs": [],
   "source": [
    "test_ = convert_to_simple_transformer_format(test_sents)"
   ]
  },
  {
   "cell_type": "code",
   "execution_count": null,
   "metadata": {},
   "outputs": [],
   "source": [
    "import torch\n",
    "from simpletransformers.ner import NERModel, NERArgs\n",
    "\n",
    "# Configure the model\n",
    "ner_args = NERArgs()\n",
    "ner_args.train_batch_size = 12\n",
    "ner_args.evaluate_during_training = False\n",
    "ner_args.overwrite_output_dir = True\n",
    "ner_args.num_train_epochs = 100 #10\n",
    "\n",
    "\n",
    "model = NERModel(\n",
    "    \"bert\", \"monsoon-nlp/bert-base-thai\", args=ner_args, use_cuda=torch.cuda.is_available(), labels=_NER_TAGS\n",
    ")\n",
    "\n",
    "# Train the modelk\n",
    "model.train_model(train_)"
   ]
  },
  {
   "cell_type": "code",
   "execution_count": 11,
   "metadata": {},
   "outputs": [
    {
     "name": "stderr",
     "output_type": "stream",
     "text": [
      "100%|██████████| 1/1 [00:08<00:00,  8.63s/it]\n",
      "Running Evaluation: 100%|██████████| 18/18 [00:02<00:00,  7.54it/s]\n",
      "C:\\Users\\pitiw\\miniconda3\\envs\\argument\\lib\\site-packages\\seqeval\\metrics\\sequence_labeling.py:171: UserWarning: B_C seems not to be NE tag.\n",
      "  warnings.warn('{} seems not to be NE tag.'.format(chunk))\n",
      "C:\\Users\\pitiw\\miniconda3\\envs\\argument\\lib\\site-packages\\seqeval\\metrics\\sequence_labeling.py:171: UserWarning: I_C seems not to be NE tag.\n",
      "  warnings.warn('{} seems not to be NE tag.'.format(chunk))\n",
      "C:\\Users\\pitiw\\miniconda3\\envs\\argument\\lib\\site-packages\\seqeval\\metrics\\sequence_labeling.py:171: UserWarning: B_P seems not to be NE tag.\n",
      "  warnings.warn('{} seems not to be NE tag.'.format(chunk))\n",
      "C:\\Users\\pitiw\\miniconda3\\envs\\argument\\lib\\site-packages\\seqeval\\metrics\\sequence_labeling.py:171: UserWarning: I_P seems not to be NE tag.\n",
      "  warnings.warn('{} seems not to be NE tag.'.format(chunk))\n"
     ]
    },
    {
     "data": {
      "text/plain": [
       "{'eval_loss': 3.813645319806205,\n",
       " 'precision': 0.08484848484848485,\n",
       " 'recall': 0.27450980392156865,\n",
       " 'f1_score': 0.12962962962962965}"
      ]
     },
     "execution_count": 11,
     "metadata": {},
     "output_type": "execute_result"
    }
   ],
   "source": [
    "# Evaluate the model\n",
    "result, model_outputs, preds_list = model.eval_model(test_)\n",
    "result"
   ]
  },
  {
   "cell_type": "code",
   "execution_count": 245,
   "metadata": {},
   "outputs": [
    {
     "name": "stdout",
     "output_type": "stream",
     "text": [
      "หาก พิจารณา จาก การเข้าสู่ การ เป็น   AEC   ใน สิ้นปี นี้ แล้ว   ผม ว่า ความสามารถ ทาง ด้าน ภาษาอังกฤษ จะ ใช้ประโยชน์ ได้ มากกว่า คณิตศาสตร์ เยอะ มาก ครับ   ได้ ทั้ง ด้าน ติดต่อ ธุรกิจ    การท่องเที่ยว    การศึกษา\n",
      "[('หาก', 'B-p'), ('พิจารณา', 'I-p'), ('จาก', 'I-p'), ('การเข้าสู่', 'I-p'), ('การ', 'I-p'), ('เป็น', 'I-p'), (' ', 'I-p'), ('AEC', 'I-p'), (' ', 'I-p'), ('ใน', 'I-p'), ('สิ้นปี', 'I-p'), ('นี้', 'I-p'), ('แล้ว', 'I-p'), (' ', 'O'), ('ผม', 'B-c'), ('ว่า', 'I-c'), ('ความสามารถ', 'I-c'), ('ทาง', 'I-c'), ('ด้าน', 'I-c'), ('ภาษาอังกฤษ', 'I-c'), ('จะ', 'I-c'), ('ใช้ประโยชน์', 'I-c'), ('ได้', 'I-c'), ('มากกว่า', 'I-c'), ('คณิตศาสตร์', 'I-c'), ('เยอะ', 'I-c'), ('มาก', 'I-c'), ('ครับ', 'I-c'), (' ', 'O'), ('ได้', 'B-p'), ('ทั้ง', 'I-p'), ('ด้าน', 'I-p'), ('ติดต่อ', 'I-p'), ('ธุรกิจ', 'I-p'), ('  ', 'I-p'), ('การท่องเที่ยว', 'I-p'), ('  ', 'I-p'), ('การศึกษา', 'I-p')]\n"
     ]
    }
   ],
   "source": [
    "idx = 4\n",
    "test_pred = \" \".join(list(map(lambda word: word[0], test_sents[idx])))\n",
    "print(test_pred)\n",
    "print(test_sents[idx])"
   ]
  },
  {
   "cell_type": "code",
   "execution_count": 246,
   "metadata": {},
   "outputs": [
    {
     "name": "stderr",
     "output_type": "stream",
     "text": [
      "100%|██████████| 1/1 [00:07<00:00,  7.34s/it]\n",
      "Running Prediction: 100%|██████████| 1/1 [00:00<00:00,  3.86it/s]"
     ]
    },
    {
     "name": "stdout",
     "output_type": "stream",
     "text": [
      "[{'หาก': 'B_C'}, {'พิจารณา': 'I_C'}, {'จาก': 'I_C'}, {'การเข้าสู่': 'I_C'}, {'การ': 'I_C'}, {'เป็น': 'I_C'}, {'AEC': 'I_C'}, {'ใน': 'I_C'}, {'สิ้นปี': 'I_C'}, {'นี้': 'I_C'}, {'แล้ว': 'I_C'}, {'ผม': 'B_C'}, {'ว่า': 'I_C'}, {'ความสามารถ': 'I_C'}, {'ทาง': 'I_C'}, {'ด้าน': 'I_P'}, {'ภาษาอังกฤษ': 'I_P'}, {'จะ': 'I_P'}, {'ใช้ประโยชน์': 'I_P'}, {'ได้': 'I_P'}, {'มากกว่า': 'I_P'}, {'คณิตศาสตร์': 'I_P'}, {'เยอะ': 'I_P'}, {'มาก': 'I_P'}, {'ครับ': 'I_P'}, {'ได้': 'I_P'}, {'ทั้ง': 'I_P'}, {'ด้าน': 'I_P'}, {'ติดต่อ': 'I_P'}, {'ธุรกิจ': 'I_P'}, {'การท่องเที่ยว': 'I_P'}, {'การศึกษา': 'I_P'}]\n"
     ]
    },
    {
     "name": "stderr",
     "output_type": "stream",
     "text": [
      "\n"
     ]
    }
   ],
   "source": [
    "# Make predictions with the model\n",
    "predictions, raw_outputs = model.predict([test_pred])\n",
    "print(predictions[0]) "
   ]
  },
  {
   "cell_type": "code",
   "execution_count": 315,
   "metadata": {},
   "outputs": [
    {
     "name": "stdout",
     "output_type": "stream",
     "text": [
      "['B_C', 'I_C', 'I_C', 'I_C', 'I_C', 'I_C', 'I_C', 'I_C', 'I_C', 'I_C', 'I_C', 'I_C', 'I_C', 'I_C', 'I_C', 'I_C', 'I_C', 'I_C', 'I_C', 'I_C', 'I_C', 'B_P', 'I_P', 'I_P', 'I_P', 'I_P', 'I_P', 'I_P', 'I_P', 'I_P', 'I_P', 'I_P', 'I_P', 'I_P', 'O', 'O', 'O', 'O', 'O', 'O', 'O', 'O', 'O']\n"
     ]
    }
   ],
   "source": [
    "y_test = []\n",
    "for sent in test_sents:\n",
    "    labels = []\n",
    "    for word, label in sent:\n",
    "        if word == ' ' or word == '  ':\n",
    "            continue;\n",
    "        label = label.upper().replace(\"-\", \"_\")\n",
    "        labels.append(label)\n",
    "    y_test.append(labels)\n",
    "    \n",
    "print(y_test[10])\n"
   ]
  },
  {
   "cell_type": "code",
   "execution_count": 316,
   "metadata": {},
   "outputs": [
    {
     "name": "stderr",
     "output_type": "stream",
     "text": [
      "100%|██████████| 1/1 [00:08<00:00,  8.23s/it]\n",
      "Running Prediction: 100%|██████████| 18/18 [00:02<00:00,  7.29it/s]\n"
     ]
    },
    {
     "name": "stdout",
     "output_type": "stream",
     "text": [
      "['B_C', 'I_C', 'I_C', 'I_C', 'I_C', 'I_C', 'I_C', 'I_C', 'I_C', 'I_C', 'I_C', 'I_C', 'I_C', 'I_C', 'I_C', 'I_C', 'I_C', 'I_C', 'I_C', 'O', 'O', 'B_P', 'I_P', 'I_P', 'I_P', 'I_P', 'O', 'I_P', 'I_P', 'O', 'O', 'I_P', 'O', 'O', 'O', 'O', 'O', 'O', 'O', 'I_P', 'O', 'O', 'O', 'I_P']\n"
     ]
    }
   ],
   "source": [
    "test_list = []\n",
    "for sent in test_sents:\n",
    "    words = []\n",
    "    for word, label in sent:\n",
    "        words.append(word)\n",
    "    test_list.append(\" \".join(words))\n",
    "\n",
    "\n",
    "predictions, raw_outputs = model.predict(test_list)\n",
    "\n",
    "y_pred = []\n",
    "for preds in predictions:\n",
    "    y_pred.append([list(pred.items())[0][1] for pred in preds])\n",
    "\n",
    "print(y_pred[10])"
   ]
  },
  {
   "cell_type": "code",
   "execution_count": 317,
   "metadata": {},
   "outputs": [],
   "source": [
    "y_pred_ = []\n",
    "y_test_ = []\n",
    "for i in range(len(y_test)):\n",
    "    if len(y_pred[i]) != len(y_test[i]):\n",
    "        continue;\n",
    "    y_pred_.append(y_pred[i])\n",
    "    y_test_.append(y_test[i])\n"
   ]
  },
  {
   "cell_type": "code",
   "execution_count": 324,
   "metadata": {},
   "outputs": [
    {
     "name": "stdout",
     "output_type": "stream",
     "text": [
      "accuracy: 0.608723817749946\n",
      "              precision    recall  f1-score   support\n",
      "\n",
      "          _C       0.14      0.31      0.20       128\n",
      "          _P       0.07      0.22      0.10       128\n",
      "\n",
      "   micro avg       0.10      0.27      0.14       256\n",
      "   macro avg       0.11      0.27      0.15       256\n",
      "weighted avg       0.11      0.27      0.15       256\n",
      "\n"
     ]
    }
   ],
   "source": [
    "from seqeval.metrics import accuracy_score\n",
    "from seqeval.metrics import classification_report\n",
    "from seqeval.metrics import f1_score\n",
    "\n",
    "print(\"accuracy:\" ,accuracy_score(y_test_, y_pred_))\n",
    "print(classification_report(y_test_, y_pred_))"
   ]
  },
  {
   "cell_type": "code",
   "execution_count": 8,
   "metadata": {},
   "outputs": [],
   "source": [
    "test_ner = NERModel(\"bert\", 'outputs/checkpoint-4600-epoch-100', args=ner_args)"
   ]
  }
 ],
 "metadata": {
  "interpreter": {
   "hash": "a6dc3a5d5e5e7987cc7d18355d6f408e2f42f41b0aca7d07c9009e9d98d8dd16"
  },
  "kernelspec": {
   "display_name": "Python 3.8.12 ('argument')",
   "language": "python",
   "name": "python3"
  },
  "language_info": {
   "codemirror_mode": {
    "name": "ipython",
    "version": 3
   },
   "file_extension": ".py",
   "mimetype": "text/x-python",
   "name": "python",
   "nbconvert_exporter": "python",
   "pygments_lexer": "ipython3",
   "version": "3.8.12"
  },
  "orig_nbformat": 4
 },
 "nbformat": 4,
 "nbformat_minor": 2
}
