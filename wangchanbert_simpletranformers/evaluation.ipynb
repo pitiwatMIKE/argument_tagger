{
 "cells": [
  {
   "cell_type": "code",
   "execution_count": 27,
   "metadata": {},
   "outputs": [],
   "source": [
    "import dill\n",
    "import pandas as pd\n",
    "from sklearn.model_selection import train_test_split"
   ]
  },
  {
   "cell_type": "code",
   "execution_count": 28,
   "metadata": {},
   "outputs": [
    {
     "name": "stdout",
     "output_type": "stream",
     "text": [
      "552\n",
      "138\n",
      "[('ถ้า', 'B-c'), ('เดินทาง', 'I-c'), ('กลางคืน', 'I-c'), ('ก็', 'I-c'), ('รถทัวร์', 'I-c'), ('ครับ', 'I-c'), ('_', 'I-c'), ('_', 'O'), ('เพราะ', 'B-p'), ('รถ', 'I-p'), ('ไม่', 'I-p'), ('เยอะ', 'I-p'), ('_', 'I-p'), ('ความเสี่ยง', 'I-p'), ('การ', 'I-p'), ('เกิด', 'I-p'), ('อุบัติ', 'I-p'), ('ห', 'I-p'), ('ตุ', 'I-p'), ('ก็', 'I-p'), ('น้อย', 'I-p'), ('(', 'I-p'), ('มั้ง', 'I-p'), (')', 'I-p'), ('_', 'I-p'), ('_', 'O'), ('ถ้า', 'B-c'), ('กลางวัน', 'I-c'), ('ก็', 'I-c'), ('เครื่องบิน', 'I-c'), ('ครับ', 'I-c'), ('_', 'I-c'), ('_', 'O'), ('เพราะ', 'B-p'), ('_', 'I-p'), ('มัน', 'I-p'), ('ใช้เวลา', 'I-p'), ('น้อย', 'I-p'), ('จะ', 'I-p'), ('ได้', 'I-p'), ('มี', 'I-p'), ('เวลา', 'I-p'), ('ระหว่าง', 'I-p'), ('วัน', 'I-p'), ('เยอะ', 'I-p'), ('ๆ', 'I-p'), ('_', 'I-p')]\n"
     ]
    }
   ],
   "source": [
    "path_name = \"../dataset/data/\"\n",
    "\n",
    "with open(path_name + 'comment-pos.data', 'rb') as file:\n",
    "    datatofile = dill.load(file)\n",
    "\n",
    "tagged_sents = []\n",
    "for data in datatofile:\n",
    "    text_inside = []\n",
    "    for word, pos, label in data:\n",
    "        if word.strip() == '':\n",
    "            text_inside.append(('_', label))\n",
    "        else:\n",
    "            text_inside.append((word, label))\n",
    "    tagged_sents.append(text_inside)\n",
    "\n",
    "train_sents, test_sents = train_test_split(tagged_sents, test_size=0.2, random_state=42)\n",
    "print(len(train_sents))\n",
    "print(len(test_sents))\n",
    "print(train_sents[1])"
   ]
  },
  {
   "cell_type": "code",
   "execution_count": 29,
   "metadata": {},
   "outputs": [],
   "source": [
    "def convert_to_simple_transformer_format(sentences):\n",
    "    sentence_id = []\n",
    "    words = []\n",
    "    labels = []\n",
    "\n",
    "    for idx, sents in enumerate(sentences):\n",
    "        for word, label in sents:\n",
    "            label = label.upper().replace(\"-\", \"_\")\n",
    "            sentence_id.append(idx)\n",
    "            words.append(word)\n",
    "            labels.append(label)\n",
    "    return pd.DataFrame(\n",
    "        {\"sentence_id\": sentence_id, \"words\": words, \"labels\": labels}\n",
    "    )    \n",
    "            \n"
   ]
  },
  {
   "cell_type": "code",
   "execution_count": 30,
   "metadata": {},
   "outputs": [
    {
     "data": {
      "text/html": [
       "<div>\n",
       "<style scoped>\n",
       "    .dataframe tbody tr th:only-of-type {\n",
       "        vertical-align: middle;\n",
       "    }\n",
       "\n",
       "    .dataframe tbody tr th {\n",
       "        vertical-align: top;\n",
       "    }\n",
       "\n",
       "    .dataframe thead th {\n",
       "        text-align: right;\n",
       "    }\n",
       "</style>\n",
       "<table border=\"1\" class=\"dataframe\">\n",
       "  <thead>\n",
       "    <tr style=\"text-align: right;\">\n",
       "      <th></th>\n",
       "      <th>sentence_id</th>\n",
       "      <th>words</th>\n",
       "      <th>labels</th>\n",
       "    </tr>\n",
       "  </thead>\n",
       "  <tbody>\n",
       "    <tr>\n",
       "      <th>0</th>\n",
       "      <td>0</td>\n",
       "      <td>อะไหล่</td>\n",
       "      <td>B_C</td>\n",
       "    </tr>\n",
       "    <tr>\n",
       "      <th>1</th>\n",
       "      <td>0</td>\n",
       "      <td>เทอร์โบ</td>\n",
       "      <td>I_C</td>\n",
       "    </tr>\n",
       "    <tr>\n",
       "      <th>2</th>\n",
       "      <td>0</td>\n",
       "      <td>_</td>\n",
       "      <td>I_C</td>\n",
       "    </tr>\n",
       "    <tr>\n",
       "      <th>3</th>\n",
       "      <td>0</td>\n",
       "      <td>อี</td>\n",
       "      <td>I_C</td>\n",
       "    </tr>\n",
       "    <tr>\n",
       "      <th>4</th>\n",
       "      <td>0</td>\n",
       "      <td>ซุ</td>\n",
       "      <td>I_C</td>\n",
       "    </tr>\n",
       "    <tr>\n",
       "      <th>...</th>\n",
       "      <td>...</td>\n",
       "      <td>...</td>\n",
       "      <td>...</td>\n",
       "    </tr>\n",
       "    <tr>\n",
       "      <th>37405</th>\n",
       "      <td>551</td>\n",
       "      <td>ทำ</td>\n",
       "      <td>I_P</td>\n",
       "    </tr>\n",
       "    <tr>\n",
       "      <th>37406</th>\n",
       "      <td>551</td>\n",
       "      <td>อะไร</td>\n",
       "      <td>I_P</td>\n",
       "    </tr>\n",
       "    <tr>\n",
       "      <th>37407</th>\n",
       "      <td>551</td>\n",
       "      <td>ได้</td>\n",
       "      <td>I_P</td>\n",
       "    </tr>\n",
       "    <tr>\n",
       "      <th>37408</th>\n",
       "      <td>551</td>\n",
       "      <td>หลายอย่าง</td>\n",
       "      <td>I_P</td>\n",
       "    </tr>\n",
       "    <tr>\n",
       "      <th>37409</th>\n",
       "      <td>551</td>\n",
       "      <td>_</td>\n",
       "      <td>I_P</td>\n",
       "    </tr>\n",
       "  </tbody>\n",
       "</table>\n",
       "<p>37410 rows × 3 columns</p>\n",
       "</div>"
      ],
      "text/plain": [
       "       sentence_id      words labels\n",
       "0                0     อะไหล่    B_C\n",
       "1                0    เทอร์โบ    I_C\n",
       "2                0          _    I_C\n",
       "3                0         อี    I_C\n",
       "4                0         ซุ    I_C\n",
       "...            ...        ...    ...\n",
       "37405          551         ทำ    I_P\n",
       "37406          551       อะไร    I_P\n",
       "37407          551        ได้    I_P\n",
       "37408          551  หลายอย่าง    I_P\n",
       "37409          551          _    I_P\n",
       "\n",
       "[37410 rows x 3 columns]"
      ]
     },
     "execution_count": 30,
     "metadata": {},
     "output_type": "execute_result"
    }
   ],
   "source": [
    "train_ = convert_to_simple_transformer_format(train_sents)\n",
    "test_ = convert_to_simple_transformer_format(test_sents)\n",
    "train_"
   ]
  },
  {
   "cell_type": "code",
   "execution_count": 31,
   "metadata": {},
   "outputs": [
    {
     "name": "stderr",
     "output_type": "stream",
     "text": [
      "C:\\Users\\pitiw\\miniconda3\\envs\\wangchan\\lib\\site-packages\\simpletransformers\\ner\\ner_model.py:378: UserWarning: use_multiprocessing automatically disabled as CamemBERT fails when using multiprocessing for feature conversion.\n",
      "  warnings.warn(\n"
     ]
    }
   ],
   "source": [
    "import torch\n",
    "from simpletransformers.ner import NERModel, NERArgs\n",
    "\n",
    "_NER_TAGS = [\"O\", \"B_C\", \"B_P\", \"I_C\", \"I_P\"]\n",
    "ner_args = NERArgs()\n",
    "ner_args.max_seq_length = 480\n",
    "test_ner = NERModel(\"camembert\", 'pitiwat/argument_wangchanberta2', args=ner_args, use_cuda=torch.cuda.is_available(), labels=_NER_TAGS)"
   ]
  },
  {
   "cell_type": "code",
   "execution_count": 32,
   "metadata": {},
   "outputs": [
    {
     "data": {
      "application/vnd.jupyter.widget-view+json": {
       "model_id": "c15de45072c34c9e9eb24d1693c3f3c0",
       "version_major": 2,
       "version_minor": 0
      },
      "text/plain": [
       "  0%|          | 0/1 [00:00<?, ?it/s]"
      ]
     },
     "metadata": {},
     "output_type": "display_data"
    },
    {
     "data": {
      "application/vnd.jupyter.widget-view+json": {
       "model_id": "1b67f44d0be9435284ff8de534b0cdc1",
       "version_major": 2,
       "version_minor": 0
      },
      "text/plain": [
       "Running Prediction:   0%|          | 0/1 [00:00<?, ?it/s]"
      ]
     },
     "metadata": {},
     "output_type": "display_data"
    },
    {
     "name": "stdout",
     "output_type": "stream",
     "text": [
      "[{'จาก': 'B_C'}, {'ประสบการณ์': 'I_C'}, {'ส่วนตัว': 'I_C'}, {'_': 'I_C'}, {'US': 'O'}, {'เพราะ': 'B_P'}, {'อยู่': 'I_P'}, {'ง่าย': 'I_P'}, {'กว่า': 'I_P'}, {'_': 'I_P'}, {'และ': 'I_P'}, {'_': 'I_P'}, {'การทำงาน': 'I_P'}, {'ก็': 'I_P'}, {'ไม่': 'I_P'}, {'เครียด': 'I_P'}, {'ครับ': 'I_P'}, {'_': 'I_P'}, {'ขยัน': 'I_P'}, {'ทำงาน': 'I_P'}, {'ก็': 'I_P'}, {'จะ': 'I_P'}, {'มี': 'I_P'}, {'เงินเก็บ': 'I_P'}, {'เยอะ': 'I_P'}, {'ครับ': 'I_P'}, {'_': 'I_P'}]\n"
     ]
    }
   ],
   "source": [
    "idx = 5\n",
    "test_pred = (list(map(lambda word_lable: word_lable[0], test_sents[idx])))\n",
    "predictions, raw_outputs = test_ner.predict([test_pred], split_on_space=False)\n",
    "print(predictions[0]) "
   ]
  },
  {
   "cell_type": "code",
   "execution_count": 33,
   "metadata": {},
   "outputs": [
    {
     "data": {
      "application/vnd.jupyter.widget-view+json": {
       "model_id": "d0f0dd6ed788444e812537876d53463e",
       "version_major": 2,
       "version_minor": 0
      },
      "text/plain": [
       "  0%|          | 0/1 [00:00<?, ?it/s]"
      ]
     },
     "metadata": {},
     "output_type": "display_data"
    },
    {
     "data": {
      "application/vnd.jupyter.widget-view+json": {
       "model_id": "4bce3d985a0b4ae3abc4710bdfe36230",
       "version_major": 2,
       "version_minor": 0
      },
      "text/plain": [
       "Running Prediction:   0%|          | 0/1 [00:00<?, ?it/s]"
      ]
     },
     "metadata": {},
     "output_type": "display_data"
    },
    {
     "name": "stdout",
     "output_type": "stream",
     "text": [
      "[{'การ': 'B_C'}, {'ใช้': 'I_C'}, {'ถุง': 'I_C'}, {'พ': 'I_C'}, {'ลา': 'I_C'}, {'สติ': 'I_C'}, {'ด': 'I_C'}, {'แทน': 'I_C'}, {'ถุง': 'I_C'}, {'ผ้า': 'I_C'}, {'ผม': 'I_C'}, {'คิด': 'I_C'}, {'ว่า': 'I_C'}, {'มัน': 'I_C'}, {'จะ': 'I_C'}, {'ทำให้': 'I_C'}, {'ช่วย': 'I_C'}, {'ลด': 'I_P'}, {'โลก': 'I_P'}, {'ร้อน': 'I_P'}, {'ได้': 'I_P'}, {'มากขึ้น': 'I_P'}]\n"
     ]
    }
   ],
   "source": [
    "from pythainlp.tokenize import word_tokenize\n",
    "\n",
    "text = \"การใช้ถุงพลาสติดแทนถุงผ้าผมคิดว่ามันจะทำให้ช่วยลดโลกร้อนได้มากขึ้น\"\n",
    "text_token = word_tokenize(text)\n",
    "predictions, raw_outputs = test_ner.predict([text_token], split_on_space=False)\n",
    "print(predictions[0]) "
   ]
  },
  {
   "cell_type": "code",
   "execution_count": 34,
   "metadata": {},
   "outputs": [],
   "source": [
    "# get label test list\n",
    "y_test = []\n",
    "for sent in test_sents:\n",
    "    labels = []\n",
    "    for word, label in sent:\n",
    "        label = label.upper().replace(\"-\", \"_\")\n",
    "        labels.append(label)\n",
    "    y_test.append(labels)\n",
    "    \n",
    "# print(y_test[1])\n"
   ]
  },
  {
   "cell_type": "code",
   "execution_count": 35,
   "metadata": {},
   "outputs": [
    {
     "data": {
      "application/vnd.jupyter.widget-view+json": {
       "model_id": "bd9b53c84984439e90ebbb7b7cb3ce04",
       "version_major": 2,
       "version_minor": 0
      },
      "text/plain": [
       "  0%|          | 0/138 [00:00<?, ?it/s]"
      ]
     },
     "metadata": {},
     "output_type": "display_data"
    },
    {
     "data": {
      "application/vnd.jupyter.widget-view+json": {
       "model_id": "3b02b7d49c0342608fc5ed4b23706e6e",
       "version_major": 2,
       "version_minor": 0
      },
      "text/plain": [
       "Running Prediction:   0%|          | 0/18 [00:00<?, ?it/s]"
      ]
     },
     "metadata": {},
     "output_type": "display_data"
    }
   ],
   "source": [
    "# get label pred list\n",
    "test_list = []\n",
    "for sent in test_sents:\n",
    "    words = []\n",
    "    for word, label in sent:\n",
    "        words.append(word)\n",
    "    test_list.append(words)\n",
    "\n",
    "predictions, raw_outputs = test_ner.predict(test_list, split_on_space=False)\n",
    "\n",
    "y_pred = []\n",
    "for preds in predictions:\n",
    "    y_pred.append([list(pred.items())[0][1] for pred in preds])\n",
    "\n",
    "# print(y_pred[1])"
   ]
  },
  {
   "cell_type": "code",
   "execution_count": 36,
   "metadata": {},
   "outputs": [],
   "source": [
    "y_pred_ = []\n",
    "y_test_ = []\n",
    "for i in range(len(y_test)):\n",
    "    if len(y_pred[i]) != len(y_test[i]):\n",
    "        continue;\n",
    "    y_pred_.append(y_pred[i])\n",
    "    y_test_.append(y_test[i])"
   ]
  },
  {
   "cell_type": "code",
   "execution_count": 37,
   "metadata": {},
   "outputs": [],
   "source": [
    "def convert_format_lable(list_lable):\n",
    "    result = []\n",
    "    for list_ in list_lable:\n",
    "        result.append(list(map(lambda lable: lable.lower().capitalize().replace(\"_\", \"-\"), list_)))\n",
    "    return result\n",
    "\n",
    "y_test_ = convert_format_lable(y_test_)\n",
    "y_pred_ = convert_format_lable(y_pred_)\n",
    "\n"
   ]
  },
  {
   "cell_type": "code",
   "execution_count": 38,
   "metadata": {},
   "outputs": [
    {
     "name": "stdout",
     "output_type": "stream",
     "text": [
      "accuracy 0.6554834054834054\n",
      "              precision    recall  f1-score   support\n",
      "\n",
      "         B-c       0.73      0.77      0.75       154\n",
      "         B-p       0.59      0.70      0.64       155\n",
      "         I-c       0.70      0.61      0.65      1675\n",
      "         I-p       0.65      0.81      0.72      3637\n",
      "\n",
      "   micro avg       0.66      0.75      0.70      5621\n",
      "   macro avg       0.67      0.72      0.69      5621\n",
      "weighted avg       0.67      0.75      0.70      5621\n",
      " samples avg       0.50      0.50      0.50      5621\n",
      "\n"
     ]
    }
   ],
   "source": [
    "from sklearn.metrics import classification_report, confusion_matrix\n",
    "from sklearn.metrics import accuracy_score\n",
    "from sklearn.preprocessing import LabelBinarizer\n",
    "from itertools import chain\n",
    "\n",
    "def pos_classification_report(y_true, y_pred):\n",
    " \n",
    "    lb = LabelBinarizer()\n",
    "    y_true_combined = lb.fit_transform(list(chain.from_iterable(y_true)))\n",
    "    y_pred_combined = lb.transform(list(chain.from_iterable(y_pred)))\n",
    "    print(\"accuracy\",accuracy_score(y_true_combined, y_pred_combined))\n",
    "    tagset = list(sorted(set(lb.classes_)))\n",
    "    del tagset[len(tagset)-1] # del O\n",
    "    class_indices = {cls: idx for idx, cls in enumerate(lb.classes_)}\n",
    "    return classification_report(\n",
    "        y_true_combined,\n",
    "        y_pred_combined,\n",
    "        labels = [class_indices[cls] for cls in tagset if cls!=\"O\"],\n",
    "        target_names = tagset,\n",
    "        zero_division=0\n",
    "    )\n",
    "print(pos_classification_report(y_test_,y_pred_))"
   ]
  },
  {
   "cell_type": "code",
   "execution_count": 39,
   "metadata": {},
   "outputs": [
    {
     "name": "stdout",
     "output_type": "stream",
     "text": [
      "accuracy: 0.6554834054834054\n",
      "              precision    recall  f1-score   support\n",
      "\n",
      "           c       0.45      0.59      0.51       154\n",
      "           p       0.31      0.54      0.39       155\n",
      "\n",
      "   micro avg       0.37      0.56      0.44       309\n",
      "   macro avg       0.38      0.56      0.45       309\n",
      "weighted avg       0.38      0.56      0.45       309\n",
      "\n"
     ]
    }
   ],
   "source": [
    "from seqeval.metrics import accuracy_score\n",
    "from seqeval.metrics import classification_report\n",
    "\n",
    "print(\"accuracy:\" ,accuracy_score(y_test_, y_pred_))\n",
    "print(classification_report(y_test_, y_pred_))"
   ]
  }
 ],
 "metadata": {
  "interpreter": {
   "hash": "018e0a3ac4678c6eee4f5b6012f6866bd583f46fe819b31cdc8524b9233bdcf3"
  },
  "kernelspec": {
   "display_name": "Python 3.8.13 ('wangchan')",
   "language": "python",
   "name": "python3"
  },
  "language_info": {
   "codemirror_mode": {
    "name": "ipython",
    "version": 3
   },
   "file_extension": ".py",
   "mimetype": "text/x-python",
   "name": "python",
   "nbconvert_exporter": "python",
   "pygments_lexer": "ipython3",
   "version": "3.8.13"
  },
  "orig_nbformat": 4
 },
 "nbformat": 4,
 "nbformat_minor": 2
}
