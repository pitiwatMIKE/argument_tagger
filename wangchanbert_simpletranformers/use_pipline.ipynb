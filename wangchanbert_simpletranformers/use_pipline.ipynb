{
 "cells": [
  {
   "cell_type": "code",
   "execution_count": 57,
   "metadata": {},
   "outputs": [],
   "source": [
    "from transformers import AutoTokenizer, AutoModelForTokenClassification, TokenClassificationPipeline\n",
    "from pythainlp.tokenize import word_tokenize\n",
    "\n",
    "model_path = 'checkpoint-epoch-100'\n",
    "tokenizer = AutoTokenizer.from_pretrained(model_path,  model_max_length=512)\n",
    "model = AutoModelForTokenClassification.from_pretrained(model_path)\n",
    "\n",
    "pipe = TokenClassificationPipeline(model=model, tokenizer=tokenizer)\n",
    "\n",
    "# pipe = pipeline(model=model, tokenizer=tokenizer)"
   ]
  },
  {
   "cell_type": "code",
   "execution_count": 58,
   "metadata": {},
   "outputs": [
    {
     "data": {
      "text/plain": [
       "'ศาสนาพุทธ กับ วิทยาศาสตร์ มีส่วน ที่ เกี่ยว กัน อยู่   ทั้ง ในแง่ ของ ศาสตร์   และ กระบวนการ \\n ศาสนา กับ วิทยาศาสตร์   ไม่ ได้ ขัดแย้ง กัน   แต่เพียง อธิบาย สิ่ง ต่าง ๆ   ออกมา ไม่ เหมือนกัน โดย ผ่าน มนุษย์ \\n มนุษย์ ใช้ ศาสนา อธิบาย บางสิ่ง ที่ วิทยาศาสตร์ ได้ อธิบาย ไว้ ว่า เป็น อย่างนั้น อย่างนี้ \\n และ มนุษย์ ก็ ใช้ วิทยาศาสตร์ อธิบาย สิ่ง ที่ ศาสนา ได้ อธิบาย ไว้ ว่า เป็น อย่างนั้น อย่างนี้ \\n ซึ่ง บางครั้ง ก็ สนับสนุน กัน   และ บางครั้ง ก็ อาจจะ ขัดแย้ง กัน   ( ขัดแย้ง กัน ในที่นี้ ไม่ ได้ หมายถึง ศาสนา กับ วิทยาศาสตร์   แต่ ขัดแย้ง กัน ใน มุม ของ มนุษย์ ) \\n จน บางครั้ง ก็ เกิด เป็น ลัทธิ ประหลาด ที่ นำ เอา ศาสนา กับ วิทยาศาสตร์ มา บังหน้า \\n ที่ มัน เป็น อย่างนี้ ก็เพราะว่า ไม่ มี ความเข้าใจ อย่าง ถ่องแท้ เกี่ยวกับ ศาสนา และ วิทยาศาสตร์   ซึ่ง มนุษย์ ก็ ต้อง หาทาง ต่าง ๆ   ต่อไป   เพื่อ การพัฒนา   ไม่ ว่า ทาง ใด \\n'"
      ]
     },
     "execution_count": 58,
     "metadata": {},
     "output_type": "execute_result"
    }
   ],
   "source": [
    "from pythainlp.tokenize import word_tokenize\n",
    "\n",
    "text = '''ศาสนาพุทธกับวิทยาศาสตร์มีส่วนที่เกี่ยวกันอยู่ ทั้งในแง่ของศาสตร์ และกระบวนการ\n",
    "ศาสนากับวิทยาศาสตร์ ไม่ได้ขัดแย้งกัน แต่เพียงอธิบายสิ่งต่าง ๆ ออกมาไม่เหมือนกันโดยผ่านมนุษย์\n",
    "มนุษย์ใช้ศาสนาอธิบายบางสิ่งที่วิทยาศาสตร์ได้อธิบายไว้ว่าเป็นอย่างนั้นอย่างนี้\n",
    "และมนุษย์ก็ใช้วิทยาศาสตร์อธิบายสิ่งที่ศาสนาได้อธิบายไว้ว่าเป็นอย่างนั้นอย่างนี้\n",
    "ซึ่งบางครั้งก็สนับสนุนกัน และบางครั้งก็อาจจะขัดแย้งกัน (ขัดแย้งกันในที่นี้ไม่ได้หมายถึงศาสนากับวิทยาศาสตร์ แต่ขัดแย้งกันในมุมของมนุษย์)\n",
    "จนบางครั้งก็เกิดเป็นลัทธิประหลาดที่นำเอาศาสนากับวิทยาศาสตร์มาบังหน้า\n",
    "ที่มันเป็นอย่างนี้ก็เพราะว่าไม่มีความเข้าใจอย่างถ่องแท้เกี่ยวกับศาสนาและวิทยาศาสตร์ ซึ่งมนุษย์ก็ต้องหาทางต่าง ๆ ต่อไป เพื่อการพัฒนา ไม่ว่าทางใด\n",
    "'''\n",
    "\n",
    "text_token = word_tokenize(text)\n",
    "text_token = ' '.join(text_token)\n",
    "text_token"
   ]
  },
  {
   "cell_type": "code",
   "execution_count": 59,
   "metadata": {},
   "outputs": [
    {
     "name": "stdout",
     "output_type": "stream",
     "text": [
      "{'entity_group': 'CLAIM', 'score': 0.9983802, 'word': 'ศาสนาพุทธ', 'start': 0, 'end': 9}\n",
      "{'entity_group': 'PREMISE', 'score': 0.6038858, 'word': '', 'start': 9, 'end': 10}\n",
      "{'entity_group': 'CLAIM', 'score': 0.99997437, 'word': 'กับ วิทยาศาสตร์', 'start': 10, 'end': 25}\n",
      "{'entity_group': 'PREMISE', 'score': 0.6038858, 'word': '', 'start': 25, 'end': 26}\n",
      "{'entity_group': 'CLAIM', 'score': 0.99995726, 'word': 'มีส่วน ที่', 'start': 26, 'end': 36}\n",
      "{'entity_group': 'PREMISE', 'score': 0.6038859, 'word': '', 'start': 36, 'end': 37}\n",
      "{'entity_group': 'CLAIM', 'score': 0.9999692, 'word': 'เกี่ยว กัน', 'start': 37, 'end': 47}\n",
      "{'entity_group': 'PREMISE', 'score': 0.6038859, 'word': '', 'start': 47, 'end': 48}\n",
      "{'entity_group': 'CLAIM', 'score': 0.9998242, 'word': 'อยู่', 'start': 48, 'end': 52}\n",
      "{'entity_group': 'PREMISE', 'score': 0.60395026, 'word': 'ทั้ง', 'start': 54, 'end': 59}\n",
      "{'entity_group': 'CLAIM', 'score': 0.9908677, 'word': 'ในแง่', 'start': 59, 'end': 65}\n",
      "{'entity_group': 'PREMISE', 'score': 0.6038858, 'word': '', 'start': 65, 'end': 66}\n",
      "{'entity_group': 'CLAIM', 'score': 0.80797756, 'word': 'ของ ศาสตร์ และ กระบวนการ ', 'start': 66, 'end': 95}\n",
      "{'entity_group': 'PREMISE', 'score': 0.7061648, 'word': 'ศาสนา ', 'start': 95, 'end': 101}\n",
      "{'entity_group': 'CLAIM', 'score': 0.6612102, 'word': 'กับ', 'start': 101, 'end': 104}\n",
      "{'entity_group': 'PREMISE', 'score': 0.96271235, 'word': 'วิทยาศาสตร์ ไม่ ได้ ขัดแย้ง กัน แต่เพียง อธิบาย สิ่ง ต่าง ๆ ออกมา ไม่ เหมือนกัน โดย ผ่าน มนุษย์ มนุษย์ ใช้ ศาสนา อธิบาย บางสิ่ง ที่ วิทยาศาสตร์ ได้ อธิบาย ไว้ ว่า เป็น อย่างนั้น อย่างนี้ และ มนุษย์ ก็ ใช้ วิทยาศาสตร์ อธิบาย สิ่ง ที่ ศาสนา ได้ อธิบาย ไว้ ว่า เป็น อย่างนั้น อย่างนี้ ซึ่ง บางครั้ง ก็ สนับสนุน กัน และ บางครั้ง ก็ อาจจะ ขัดแย้ง กัน ( ขัดแย้ง กัน ในที่นี้ ไม่ ได้ หมายถึง ศาสนา กับ วิทยาศาสตร์ แต่ ขัดแย้ง กัน ใน มุม ของ มนุษย์ ) จน บางครั้ง ก็ เกิด เป็น ลัทธิ ประหลาด ที่ นํา เอา ศาสนา กับ วิทยาศาสตร์ มา บังหน้า ที่ มัน เป็น อย่างนี้ ก็เพราะว่า ไม่ มี ความเข้าใจ อย่าง ถ่องแท้ เกี่ยวกับ ศาสนา และ วิทยาศาสตร์ ซึ่ง มนุษย์ ก็ ต้อง หาทาง ต่าง ๆ ต่อไป เพื่อ การพัฒนา ไม่ ว่า ทาง ใด ', 'start': 104, 'end': 828}\n"
     ]
    }
   ],
   "source": [
    "prediction = pipe(text_token, grouped_entities=True, ignore_labels=[])\n",
    "for dict_pred in prediction:\n",
    "    print(dict_pred)\n"
   ]
  },
  {
   "cell_type": "code",
   "execution_count": 60,
   "metadata": {},
   "outputs": [],
   "source": [
    "def predict(text):\n",
    "    # word tokenize\n",
    "    text_token = word_tokenize(text)\n",
    "    text_token = ' '.join(text_token)\n",
    "    prediction = pipe(text_token, grouped_entities=True, ignore_labels=[])\n",
    "    # covert predict to html tag\n",
    "    text_pred = \"\"\n",
    "    for dict_pred in prediction:\n",
    "        open_tag = f\"<{dict_pred['entity_group'].lower()}>\"\n",
    "        close_tag = f\"</{dict_pred['entity_group'].lower()}>\"\n",
    "        group_word = dict_pred['word']\n",
    "\n",
    "        if group_word.strip() == \"\":\n",
    "            text_pred += group_word\n",
    "        elif open_tag == \"<o>\":\n",
    "            text_pred += ''.join(group_word.split(\" \"))\n",
    "        else:\n",
    "            group_word = ''.join(group_word.split(\" \"))\n",
    "            text_pred += open_tag + group_word + close_tag\n",
    "    return text_pred"
   ]
  },
  {
   "cell_type": "code",
   "execution_count": 61,
   "metadata": {},
   "outputs": [
    {
     "data": {
      "text/plain": [
       "'<claim>ศาสนาพุทธ</claim><claim>กับวิทยาศาสตร์</claim><claim>มีส่วนที่</claim><claim>เกี่ยวกัน</claim><claim>อยู่</claim><premise>ทั้ง</premise><claim>ในแง่</claim><claim>ของศาสตร์และกระบวนการ</claim><premise>ศาสนา</premise><claim>กับ</claim><premise>วิทยาศาสตร์ไม่ได้ขัดแย้งกันแต่เพียงอธิบายสิ่งต่างๆออกมาไม่เหมือนกันโดยผ่านมนุษย์มนุษย์ใช้ศาสนาอธิบายบางสิ่งที่วิทยาศาสตร์ได้อธิบายไว้ว่าเป็นอย่างนั้นอย่างนี้และมนุษย์ก็ใช้วิทยาศาสตร์อธิบายสิ่งที่ศาสนาได้อธิบายไว้ว่าเป็นอย่างนั้นอย่างนี้ซึ่งบางครั้งก็สนับสนุนกันและบางครั้งก็อาจจะขัดแย้งกัน(ขัดแย้งกันในที่นี้ไม่ได้หมายถึงศาสนากับวิทยาศาสตร์แต่ขัดแย้งกันในมุมของมนุษย์)จนบางครั้งก็เกิดเป็นลัทธิประหลาดที่นําเอาศาสนากับวิทยาศาสตร์มาบังหน้าที่มันเป็นอย่างนี้ก็เพราะว่าไม่มีความเข้าใจอย่างถ่องแท้เกี่ยวกับศาสนาและวิทยาศาสตร์ซึ่งมนุษย์ก็ต้องหาทางต่างๆต่อไปเพื่อการพัฒนาไม่ว่าทางใด</premise>'"
      ]
     },
     "execution_count": 61,
     "metadata": {},
     "output_type": "execute_result"
    }
   ],
   "source": [
    "\n",
    "predict(text)"
   ]
  },
  {
   "cell_type": "code",
   "execution_count": 62,
   "metadata": {},
   "outputs": [],
   "source": [
    "def predict(text):\n",
    "    # word tokenize\n",
    "    text_token = word_tokenize(text)\n",
    "    text_token = ' '.join(text_token)\n",
    "    prediction = pipe(text_token, grouped_entities=True, ignore_labels=[])\n",
    "    # covert predict to html tag\n",
    "    text_pred = \"\"\n",
    "    for dict_pred in prediction:\n",
    "        open_tag = f\"<{dict_pred['entity_group'].lower()}>\"\n",
    "        close_tag = f\"</{dict_pred['entity_group'].lower()}>\"\n",
    "        group_word = dict_pred['word']\n",
    "\n",
    "        if group_word.strip() == \"\":\n",
    "            text_pred += group_word\n",
    "        elif open_tag == \"<o>\":\n",
    "            text_pred += ''.join(group_word.split(\" \"))\n",
    "        else:\n",
    "            group_word = ''.join(group_word.split(\" \"))\n",
    "            if open_tag == prev_tag:\n",
    "                text_pred +=  group_word\n",
    "            else:\n",
    "                text_pred += prev_tag + open_tag + group_word + close_tag\n",
    "        \n",
    "        prev_opentag = open_tag\n",
    "        prev_closetag = close_tag\n",
    "    return text_pred"
   ]
  },
  {
   "cell_type": "code",
   "execution_count": 63,
   "metadata": {},
   "outputs": [
    {
     "name": "stderr",
     "output_type": "stream",
     "text": [
      "C:\\Users\\pitiw\\miniconda3\\envs\\wangchan\\lib\\site-packages\\transformers\\pipelines\\token_classification.py:135: UserWarning: `grouped_entities` is deprecated and will be removed in version v5.0.0, defaulted to `aggregation_strategy=\"AggregationStrategy.SIMPLE\"` instead.\n",
      "  warnings.warn(\n"
     ]
    },
    {
     "ename": "UnboundLocalError",
     "evalue": "local variable 'prev_tag' referenced before assignment",
     "output_type": "error",
     "traceback": [
      "\u001b[1;31m---------------------------------------------------------------------------\u001b[0m",
      "\u001b[1;31mUnboundLocalError\u001b[0m                         Traceback (most recent call last)",
      "\u001b[1;32me:\\project-argument-tagger\\wangchanbert_simpletranformers\\use_pipline.ipynb Cell 7'\u001b[0m in \u001b[0;36m<cell line: 1>\u001b[1;34m()\u001b[0m\n\u001b[1;32m----> <a href='vscode-notebook-cell:/e%3A/project-argument-tagger/wangchanbert_simpletranformers/use_pipline.ipynb#ch0000009?line=0'>1</a>\u001b[0m predict(text)\n",
      "\u001b[1;32me:\\project-argument-tagger\\wangchanbert_simpletranformers\\use_pipline.ipynb Cell 6'\u001b[0m in \u001b[0;36mpredict\u001b[1;34m(text)\u001b[0m\n\u001b[0;32m     <a href='vscode-notebook-cell:/e%3A/project-argument-tagger/wangchanbert_simpletranformers/use_pipline.ipynb#ch0000007?line=16'>17</a>\u001b[0m \u001b[39melse\u001b[39;00m:\n\u001b[0;32m     <a href='vscode-notebook-cell:/e%3A/project-argument-tagger/wangchanbert_simpletranformers/use_pipline.ipynb#ch0000007?line=17'>18</a>\u001b[0m     group_word \u001b[39m=\u001b[39m \u001b[39m'\u001b[39m\u001b[39m'\u001b[39m\u001b[39m.\u001b[39mjoin(group_word\u001b[39m.\u001b[39msplit(\u001b[39m\"\u001b[39m\u001b[39m \u001b[39m\u001b[39m\"\u001b[39m))\n\u001b[1;32m---> <a href='vscode-notebook-cell:/e%3A/project-argument-tagger/wangchanbert_simpletranformers/use_pipline.ipynb#ch0000007?line=18'>19</a>\u001b[0m     \u001b[39mif\u001b[39;00m open_tag \u001b[39m==\u001b[39m prev_tag:\n\u001b[0;32m     <a href='vscode-notebook-cell:/e%3A/project-argument-tagger/wangchanbert_simpletranformers/use_pipline.ipynb#ch0000007?line=19'>20</a>\u001b[0m         text_pred \u001b[39m+\u001b[39m\u001b[39m=\u001b[39m open_tag \u001b[39m+\u001b[39m group_word\n\u001b[0;32m     <a href='vscode-notebook-cell:/e%3A/project-argument-tagger/wangchanbert_simpletranformers/use_pipline.ipynb#ch0000007?line=20'>21</a>\u001b[0m     \u001b[39melse\u001b[39;00m:\n",
      "\u001b[1;31mUnboundLocalError\u001b[0m: local variable 'prev_tag' referenced before assignment"
     ]
    }
   ],
   "source": [
    "predict(text)"
   ]
  },
  {
   "cell_type": "code",
   "execution_count": null,
   "metadata": {},
   "outputs": [],
   "source": []
  }
 ],
 "metadata": {
  "interpreter": {
   "hash": "018e0a3ac4678c6eee4f5b6012f6866bd583f46fe819b31cdc8524b9233bdcf3"
  },
  "kernelspec": {
   "display_name": "Python 3.8.13 ('wangchan')",
   "language": "python",
   "name": "python3"
  },
  "language_info": {
   "codemirror_mode": {
    "name": "ipython",
    "version": 3
   },
   "file_extension": ".py",
   "mimetype": "text/x-python",
   "name": "python",
   "nbconvert_exporter": "python",
   "pygments_lexer": "ipython3",
   "version": "3.8.13"
  },
  "orig_nbformat": 4
 },
 "nbformat": 4,
 "nbformat_minor": 2
}
