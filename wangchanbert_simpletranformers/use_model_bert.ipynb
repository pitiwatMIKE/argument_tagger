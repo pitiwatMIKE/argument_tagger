{
 "cells": [
  {
   "cell_type": "code",
   "execution_count": 5,
   "metadata": {},
   "outputs": [
    {
     "data": {
      "application/vnd.jupyter.widget-view+json": {
       "model_id": "885eeb77694348359beaeed592060d62",
       "version_major": 2,
       "version_minor": 0
      },
      "text/plain": [
       "Downloading:   0%|          | 0.00/0.99k [00:00<?, ?B/s]"
      ]
     },
     "metadata": {},
     "output_type": "display_data"
    }
   ],
   "source": [
    "import torch\n",
    "from simpletransformers.ner import NERModel, NERArgs\n",
    "\n",
    "_NER_TAGS = [\"O\", \"B_C\", \"B_P\", \"I_C\", \"I_P\"]\n",
    "ner_args = NERArgs()\n",
    "ner_args.max_seq_length = 480\n",
    "test_ner = NERModel(\"camembert\", 'pitiwat/argument_wangchanberta2', args=ner_args, use_cuda=torch.cuda.is_available(), labels=_NER_TAGS)"
   ]
  },
  {
   "cell_type": "code",
   "execution_count": 6,
   "metadata": {},
   "outputs": [],
   "source": [
    "def tag_html_format(pred_list):\n",
    "    LIST_TAGS = ['claim', 'premise', 'o']\n",
    "    REPRESEN_TAGS = ['c', 'p', 'O']\n",
    "    text_convert = ''\n",
    "    prev_tag = ''\n",
    "    trigger_tag = False \n",
    "\n",
    "\n",
    "    for word, label in pred_list:\n",
    "        tags = label.split('-')\n",
    "        next_tag = tags[0] if len(tags) == 1 else tags[1]\n",
    "        \n",
    "        if prev_tag != next_tag:\n",
    "            if prev_tag:\n",
    "                text_convert += '</' + html_tag + '>'\n",
    "\n",
    "            html_tag = LIST_TAGS[REPRESEN_TAGS.index(next_tag)]\n",
    "            prev_tag = next_tag\n",
    "            trigger_tag = not(trigger_tag)\n",
    "\n",
    "            if trigger_tag:\n",
    "                text_convert += '<' + html_tag + '>'\n",
    "            else:\n",
    "                text_convert += '<' + html_tag + '>'\n",
    "\n",
    "        text_convert += word\n",
    "    text_convert += '</'+ LIST_TAGS[REPRESEN_TAGS.index(prev_tag)]+'>'\n",
    "    text_convert = text_convert.replace('<o>', '').replace('</o>', '')\n",
    "            \n",
    "    return text_convert"
   ]
  },
  {
   "cell_type": "code",
   "execution_count": 7,
   "metadata": {},
   "outputs": [],
   "source": [
    "def predict_text(text):\n",
    "    predict_text = []\n",
    "    temp = []\n",
    "    text_token = word_tokenize(text)\n",
    "    text_token = [word if word.strip() != '' else '_' for word in text_token]\n",
    "    predictions, raw_outputs = test_ner.predict([text_token], split_on_space=False)\n",
    "    # convert [{}] to [()] and convert B_C to B-c\n",
    "    for pred_dict in predictions[0]:\n",
    "        for word, label in pred_dict.items():\n",
    "             label = label.capitalize().replace('_', '-')\n",
    "             predict_text.append((word, label))\n",
    "    predict_text = [(word, label) if word != '_' else (' ', label) for word, label in predict_text]\n",
    "    return predict_text, tag_html_format(predict_text)"
   ]
  },
  {
   "cell_type": "code",
   "execution_count": 8,
   "metadata": {},
   "outputs": [
    {
     "data": {
      "application/vnd.jupyter.widget-view+json": {
       "model_id": "6236495461cc486bb6421c8052dfc5ef",
       "version_major": 2,
       "version_minor": 0
      },
      "text/plain": [
       "  0%|          | 0/1 [00:00<?, ?it/s]"
      ]
     },
     "metadata": {},
     "output_type": "display_data"
    },
    {
     "data": {
      "application/vnd.jupyter.widget-view+json": {
       "model_id": "b61f5df119dd49b4bc67416639037869",
       "version_major": 2,
       "version_minor": 0
      },
      "text/plain": [
       "Running Prediction:   0%|          | 0/1 [00:00<?, ?it/s]"
      ]
     },
     "metadata": {},
     "output_type": "display_data"
    },
    {
     "name": "stdout",
     "output_type": "stream",
     "text": [
      "[('ศาสนาพุทธ', 'B-c'), ('กับ', 'I-c'), ('วิทยาศาสตร์', 'I-c'), ('มีส่วน', 'I-c'), ('ที่', 'I-c'), ('เกี่ยว', 'I-c'), ('กัน', 'I-c'), ('อยู่', 'I-c'), (' ', 'O'), ('ทั้ง', 'B-p'), ('ในแง่', 'O'), ('ของ', 'I-p'), ('ศาสตร์', 'I-p'), (' ', 'O'), ('และ', 'O'), ('กระบวนการ', 'I-p'), (' ', 'O'), ('ศาสนา', 'B-p'), ('กับ', 'I-c'), ('วิทยาศาสตร์', 'I-c'), (' ', 'I-p'), ('ไม่', 'I-c'), ('ได้', 'I-p'), ('ขัดแย้ง', 'I-p'), ('กัน', 'I-p'), (' ', 'I-p'), ('แต่เพียง', 'I-p'), ('อธิบาย', 'I-p'), ('สิ่ง', 'I-p'), ('ต่าง ๆ', 'I-p'), (' ', 'I-p'), ('ออกมา', 'I-p'), ('ไม่', 'I-p'), ('เหมือนกัน', 'I-p'), ('โดย', 'I-p'), ('ผ่าน', 'I-p'), ('มนุษย์', 'I-p'), (' ', 'I-p'), ('มนุษย์', 'I-p'), ('ใช้', 'I-p'), ('ศาสนา', 'I-p'), ('อธิบาย', 'I-p'), ('บางสิ่ง', 'I-p'), ('ที่', 'I-p'), ('วิทยาศาสตร์', 'I-p'), ('ได้', 'I-p'), ('อธิบาย', 'I-p'), ('ไว้', 'I-p'), ('ว่า', 'I-p'), ('เป็น', 'I-p'), ('อย่างนั้น', 'I-p'), ('อย่างนี้', 'I-p'), (' ', 'I-p'), ('และ', 'I-p'), ('มนุษย์', 'I-p'), ('ก็', 'I-p'), ('ใช้', 'I-p'), ('วิทยาศาสตร์', 'I-p'), ('อธิบาย', 'I-p'), ('สิ่ง', 'I-p'), ('ที่', 'I-p'), ('ศาสนา', 'I-p'), ('ได้', 'I-p'), ('อธิบาย', 'I-p'), ('ไว้', 'I-p'), ('ว่า', 'I-p'), ('เป็น', 'I-p'), ('อย่างนั้น', 'I-p'), ('อย่างนี้', 'I-p'), (' ', 'I-p'), ('ซึ่ง', 'I-p'), ('บางครั้ง', 'I-p'), ('ก็', 'I-p'), ('สนับสนุน', 'I-p'), ('กัน', 'I-p'), (' ', 'I-p'), ('และ', 'I-p'), ('บางครั้ง', 'I-p'), ('ก็', 'I-p'), ('อาจจะ', 'O'), ('ขัดแย้ง', 'O'), ('กัน', 'O'), (' ', 'O'), ('(', 'O'), ('ขัดแย้ง', 'O'), ('กัน', 'O'), ('ในที่นี้', 'O'), ('ไม่', 'O'), ('ได้', 'O'), ('หมายถึง', 'O'), ('ศาสนา', 'O'), ('กับ', 'O'), ('วิทยาศาสตร์', 'O'), (' ', 'O'), ('แต่', 'O'), ('ขัดแย้ง', 'O'), ('กัน', 'O'), ('ใน', 'I-p'), ('มุม', 'I-p'), ('ของ', 'I-p'), ('มนุษย์', 'I-p'), (')', 'I-p'), (' ', 'O'), ('จน', 'O'), ('บางครั้ง', 'O'), ('ก็', 'O'), ('เกิด', 'O'), ('เป็น', 'O'), ('ลัทธิ', 'O'), ('ประหลาด', 'O'), ('ที่', 'O'), ('นำ', 'O'), ('เอา', 'O'), ('ศาสนา', 'O'), ('กับ', 'O'), ('วิทยาศาสตร์', 'O'), ('มา', 'O'), ('บังหน้า', 'O'), (' ', 'O'), ('ที่', 'O'), ('มัน', 'O'), ('เป็น', 'O'), ('อย่างนี้', 'O'), ('ก็เพราะว่า', 'O'), ('ไม่', 'O'), ('มี', 'O'), ('ความเข้าใจ', 'O'), ('อย่าง', 'O'), ('ถ่องแท้', 'O'), ('เกี่ยวกับ', 'O'), ('ศาสนา', 'O'), ('และ', 'O'), ('วิทยาศาสตร์', 'O'), (' ', 'O'), ('ซึ่ง', 'O'), ('มนุษย์', 'O'), ('ก็', 'O'), ('ต้อง', 'O'), ('หาทาง', 'O'), ('ต่าง ๆ', 'O'), (' ', 'O'), ('ต่อไป', 'O'), (' ', 'O'), ('เพื่อ', 'O'), ('การพัฒนา', 'O'), (' ', 'O'), ('ไม่', 'O'), ('ว่า', 'O'), ('ทาง', 'O'), ('ใด', 'O')]\n",
      "----\n",
      "<claim>ศาสนาพุทธกับวิทยาศาสตร์มีส่วนที่เกี่ยวกันอยู่</claim> <premise>ทั้ง</premise>ในแง่<premise>ของศาสตร์</premise> และ<premise>กระบวนการ</premise> <premise>ศาสนา</premise><claim>กับวิทยาศาสตร์</claim><premise> </premise><claim>ไม่</claim><premise>ได้ขัดแย้งกัน แต่เพียงอธิบายสิ่งต่าง ๆ ออกมาไม่เหมือนกันโดยผ่านมนุษย์ มนุษย์ใช้ศาสนาอธิบายบางสิ่งที่วิทยาศาสตร์ได้อธิบายไว้ว่าเป็นอย่างนั้นอย่างนี้ และมนุษย์ก็ใช้วิทยาศาสตร์อธิบายสิ่งที่ศาสนาได้อธิบายไว้ว่าเป็นอย่างนั้นอย่างนี้ ซึ่งบางครั้งก็สนับสนุนกัน และบางครั้งก็</premise>อาจจะขัดแย้งกัน (ขัดแย้งกันในที่นี้ไม่ได้หมายถึงศาสนากับวิทยาศาสตร์ แต่ขัดแย้งกัน<premise>ในมุมของมนุษย์)</premise> จนบางครั้งก็เกิดเป็นลัทธิประหลาดที่นำเอาศาสนากับวิทยาศาสตร์มาบังหน้า ที่มันเป็นอย่างนี้ก็เพราะว่าไม่มีความเข้าใจอย่างถ่องแท้เกี่ยวกับศาสนาและวิทยาศาสตร์ ซึ่งมนุษย์ก็ต้องหาทางต่าง ๆ ต่อไป เพื่อการพัฒนา ไม่ว่าทางใด\n"
     ]
    }
   ],
   "source": [
    "from pythainlp.tokenize import word_tokenize\n",
    "\n",
    "text = '''ศาสนาพุทธกับวิทยาศาสตร์มีส่วนที่เกี่ยวกันอยู่ ทั้งในแง่ของศาสตร์ และกระบวนการ\n",
    "ศาสนากับวิทยาศาสตร์ ไม่ได้ขัดแย้งกัน แต่เพียงอธิบายสิ่งต่าง ๆ ออกมาไม่เหมือนกันโดยผ่านมนุษย์\n",
    "มนุษย์ใช้ศาสนาอธิบายบางสิ่งที่วิทยาศาสตร์ได้อธิบายไว้ว่าเป็นอย่างนั้นอย่างนี้\n",
    "และมนุษย์ก็ใช้วิทยาศาสตร์อธิบายสิ่งที่ศาสนาได้อธิบายไว้ว่าเป็นอย่างนั้นอย่างนี้\n",
    "ซึ่งบางครั้งก็สนับสนุนกัน และบางครั้งก็อาจจะขัดแย้งกัน (ขัดแย้งกันในที่นี้ไม่ได้หมายถึงศาสนากับวิทยาศาสตร์ แต่ขัดแย้งกันในมุมของมนุษย์)\n",
    "จนบางครั้งก็เกิดเป็นลัทธิประหลาดที่นำเอาศาสนากับวิทยาศาสตร์มาบังหน้า\n",
    "ที่มันเป็นอย่างนี้ก็เพราะว่าไม่มีความเข้าใจอย่างถ่องแท้เกี่ยวกับศาสนาและวิทยาศาสตร์ ซึ่งมนุษย์ก็ต้องหาทางต่าง ๆ ต่อไป เพื่อการพัฒนา ไม่ว่าทางใด'''\n",
    "# text =\"ฉันชอบหมาเพราะมันน่ารัก\"\n",
    "\n",
    "pred_text, pred_tag = predict_text(text)\n",
    "print(pred_text)\n",
    "print(\"----\")\n",
    "print(pred_tag)"
   ]
  },
  {
   "cell_type": "code",
   "execution_count": 11,
   "metadata": {},
   "outputs": [
    {
     "name": "stdout",
     "output_type": "stream",
     "text": [
      "ศาสนาพุทธ กับ วิทยาศาสตร์ มีส่วน ที่ เกี่ยว กัน อยู่   ทั้ง ในแง่ ของ ศาสตร์   และ กระบวนการ \n",
      " ศาสนา กับ วิทยาศาสตร์   ไม่ ได้ ขัดแย้ง กัน   แต่เพียง อธิบาย สิ่ง ต่าง ๆ   ออกมา ไม่ เหมือนกัน โดย ผ่าน มนุษย์ \n",
      " มนุษย์ ใช้ ศาสนา อธิบาย บางสิ่ง ที่ วิทยาศาสตร์ ได้ อธิบาย ไว้ ว่า เป็น อย่างนั้น อย่างนี้ \n",
      " และ มนุษย์ ก็ ใช้ วิทยาศาสตร์ อธิบาย สิ่ง ที่ ศาสนา ได้ อธิบาย ไว้ ว่า เป็น อย่างนั้น อย่างนี้ \n",
      " ซึ่ง บางครั้ง ก็ สนับสนุน กัน   และ บางครั้ง ก็ อาจจะ ขัดแย้ง กัน   ( ขัดแย้ง กัน ในที่นี้ ไม่ ได้ หมายถึง ศาสนา กับ วิทยาศาสตร์   แต่ ขัดแย้ง กัน ใน มุม ของ มนุษย์ ) \n",
      " จน บางครั้ง ก็ เกิด เป็น ลัทธิ ประหลาด ที่ นำ เอา ศาสนา กับ วิทยาศาสตร์ มา บังหน้า \n",
      " ที่ มัน เป็น อย่างนี้ ก็เพราะว่า ไม่ มี ความเข้าใจ อย่าง ถ่องแท้ เกี่ยวกับ ศาสนา และ วิทยาศาสตร์   ซึ่ง มนุษย์ ก็ ต้อง หาทาง ต่าง ๆ   ต่อไป   เพื่อ การพัฒนา   ไม่ ว่า ทาง ใด\n"
     ]
    }
   ],
   "source": [
    "print(' '.join(word_tokenize(text)))"
   ]
  },
  {
   "cell_type": "code",
   "execution_count": null,
   "metadata": {},
   "outputs": [],
   "source": []
  }
 ],
 "metadata": {
  "interpreter": {
   "hash": "a6dc3a5d5e5e7987cc7d18355d6f408e2f42f41b0aca7d07c9009e9d98d8dd16"
  },
  "kernelspec": {
   "display_name": "Python 3.8.12 ('argument')",
   "language": "python",
   "name": "python3"
  },
  "language_info": {
   "codemirror_mode": {
    "name": "ipython",
    "version": 3
   },
   "file_extension": ".py",
   "mimetype": "text/x-python",
   "name": "python",
   "nbconvert_exporter": "python",
   "pygments_lexer": "ipython3",
   "version": "3.8.13"
  },
  "orig_nbformat": 4
 },
 "nbformat": 4,
 "nbformat_minor": 2
}
